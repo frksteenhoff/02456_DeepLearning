{
 "cells": [
  {
   "cell_type": "markdown",
   "metadata": {},
   "source": [
    "# <span style=\"color:darkgreen\">Course Exercises - 02456 - Deep Learning</span>\n",
    "### <span style=\"color:darkgreen\">Lecturer: Ole Winther</span>\n",
    "Special course spring 2018\n",
    "\n",
    "* Exercises from book: Michael Nielsen, [Neural Networks and Deep Learning](http://neuralnetworksanddeeplearning.com/)\n",
    "\n",
    "* Alternative book: Goodfellow, Bengio and Courville, [Deep Learning](http://www.deeplearningbook.org/)\n",
    "\n"
   ]
  },
  {
   "cell_type": "markdown",
   "metadata": {},
   "source": [
    "----\n",
    "## <span style=\"color:darkgreen\">Week 1</span>\n",
    "#### <span style=\"color:darkgreen\">Reading material</span> \n",
    "> Chapter 1-3 - stop when reaching section on overfitting, browse chapter 4\n",
    "\n",
    "----\n",
    "### <span style=\"color:darkgreen\">Exercises</span>\n",
    "> Choose 1 exercise from the above reading material, select one of those that deepen understanding of text material. Don't do the problems."
   ]
  },
  {
   "cell_type": "markdown",
   "metadata": {},
   "source": [
    "----\n",
    "## <span style=\"color:darkgreen\">Week x</span>\n",
    "#### <span style=\"color:darkgreen\">Reading material</span> \n",
    "> \n",
    "\n",
    "----\n",
    "### <span style=\"color:darkgreen\">Exercises</span>"
   ]
  },
  {
   "cell_type": "code",
   "execution_count": null,
   "metadata": {
    "collapsed": true
   },
   "outputs": [],
   "source": []
  }
 ],
 "metadata": {
  "anaconda-cloud": {},
  "kernelspec": {
   "display_name": "Python [Root]",
   "language": "python",
   "name": "Python [Root]"
  },
  "language_info": {
   "codemirror_mode": {
    "name": "ipython",
    "version": 2
   },
   "file_extension": ".py",
   "mimetype": "text/x-python",
   "name": "python",
   "nbconvert_exporter": "python",
   "pygments_lexer": "ipython2",
   "version": "2.7.12"
  }
 },
 "nbformat": 4,
 "nbformat_minor": 2
}
