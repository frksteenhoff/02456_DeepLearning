{
 "cells": [
  {
   "cell_type": "markdown",
   "metadata": {},
   "source": [
    "## Object oriented programming with Python"
   ]
  },
  {
   "cell_type": "code",
   "execution_count": 17,
   "metadata": {
    "collapsed": true
   },
   "outputs": [],
   "source": [
    "class SimpleClass():\n",
    "    def __init__(self, name):\n",
    "        # executes upon creation\n",
    "        print(\"hello\" + name)\n",
    "        \n",
    "    def yell(self):\n",
    "        print(\"Yelling!\")"
   ]
  },
  {
   "cell_type": "code",
   "execution_count": 2,
   "metadata": {
    "collapsed": true
   },
   "outputs": [],
   "source": [
    "s = 'world'"
   ]
  },
  {
   "cell_type": "code",
   "execution_count": 7,
   "metadata": {},
   "outputs": [
    {
     "name": "stdout",
     "output_type": "stream",
     "text": [
      "hello\n"
     ]
    }
   ],
   "source": [
    "x = SimpleClass()"
   ]
  },
  {
   "cell_type": "code",
   "execution_count": 8,
   "metadata": {},
   "outputs": [
    {
     "name": "stdout",
     "output_type": "stream",
     "text": [
      "Yelling!\n"
     ]
    }
   ],
   "source": [
    "x.yell()"
   ]
  },
  {
   "cell_type": "code",
   "execution_count": 18,
   "metadata": {
    "collapsed": true
   },
   "outputs": [],
   "source": [
    "class ExtendedClass(SimpleClass):\n",
    "    def __init__(self):\n",
    "        super().__init__(\"heelo\") # grab whatever this class inherits from and run\n",
    "        print(\"Extend\")"
   ]
  },
  {
   "cell_type": "code",
   "execution_count": 19,
   "metadata": {},
   "outputs": [
    {
     "name": "stdout",
     "output_type": "stream",
     "text": [
      "helloheelo\n",
      "Extend\n"
     ]
    }
   ],
   "source": [
    "y = ExtendedClass()"
   ]
  },
  {
   "cell_type": "code",
   "execution_count": 12,
   "metadata": {},
   "outputs": [
    {
     "name": "stdout",
     "output_type": "stream",
     "text": [
      "Yelling!\n"
     ]
    }
   ],
   "source": [
    "y.yell()"
   ]
  },
  {
   "cell_type": "markdown",
   "metadata": {},
   "source": [
    "### The Operation Class"
   ]
  },
  {
   "cell_type": "code",
   "execution_count": 71,
   "metadata": {
    "collapsed": true
   },
   "outputs": [],
   "source": [
    "class Operation():\n",
    "    \n",
    "    def __init__(self, input_nodes=[]):\n",
    "        self.input_nodes = input_nodes\n",
    "        self.output_nodes = []\n",
    "        \n",
    "        for node in input_nodes:\n",
    "            node.output_nodes.append(self)\n",
    "                \n",
    "        _default_graph.operations.append(self)\n",
    "        \n",
    "    def compute(self):\n",
    "        pass"
   ]
  },
  {
   "cell_type": "code",
   "execution_count": 72,
   "metadata": {},
   "outputs": [],
   "source": [
    "class add(Operation):\n",
    "    \n",
    "    def __init__(self, x, y):\n",
    "        super().__init__([x,y])\n",
    "            \n",
    "    def compute(self, x_var, y_var):\n",
    "        self.inputs = [x_var, y_var]\n",
    "        return x_var + y_var "
   ]
  },
  {
   "cell_type": "code",
   "execution_count": 73,
   "metadata": {},
   "outputs": [],
   "source": [
    "class multiply(Operation):\n",
    "    \n",
    "    def __init__(self, x, y):\n",
    "        super().__init__([x, y])\n",
    "            \n",
    "    def compute(self, x_var, y_var):\n",
    "        \n",
    "        self.inputs = [x_var, y_var]\n",
    "        return x_var * y_var "
   ]
  },
  {
   "cell_type": "code",
   "execution_count": 74,
   "metadata": {},
   "outputs": [],
   "source": [
    "class matmul(Operation):\n",
    "    \n",
    "    def __init__(self, x, y):\n",
    "        super().__init__([x,y])\n",
    "            \n",
    "    def compute(self, x_var, y_var):\n",
    "        self.inputs = [x_var, y_var]\n",
    "        return x_var.dot(y_var) "
   ]
  },
  {
   "cell_type": "markdown",
   "metadata": {},
   "source": [
    "## Graphs, variables, placeholders"
   ]
  },
  {
   "cell_type": "code",
   "execution_count": 75,
   "metadata": {
    "collapsed": true
   },
   "outputs": [],
   "source": [
    "class Placeholder():\n",
    "    \n",
    "    def __init__(self):\n",
    "        \n",
    "        self.output_nodes = []\n",
    "        _default_graph.placeholders.append(self)"
   ]
  },
  {
   "cell_type": "code",
   "execution_count": 76,
   "metadata": {
    "collapsed": true
   },
   "outputs": [],
   "source": [
    "class Variable():\n",
    "    \n",
    "    def __init__(self, inital_value=None):\n",
    "        \n",
    "        self.value = inital_value\n",
    "        self.output_nodes = []\n",
    "        \n",
    "        _default_graph.variables.append(self)"
   ]
  },
  {
   "cell_type": "code",
   "execution_count": 77,
   "metadata": {
    "collapsed": true
   },
   "outputs": [],
   "source": [
    "class Graph():\n",
    "    \n",
    "    def __init__(self):\n",
    "        self.operations = []\n",
    "        self.placeholders = []\n",
    "        self.variables = []\n",
    "        \n",
    "    def set_as_default(self):\n",
    "        \n",
    "        global _default_graph\n",
    "        _default_graph = self"
   ]
  },
  {
   "cell_type": "markdown",
   "metadata": {},
   "source": [
    "z = Ax + b\n",
    "\n",
    "A = 10\n",
    "b = 1\n",
    "\n",
    "z = 10x + 1"
   ]
  },
  {
   "cell_type": "code",
   "execution_count": 78,
   "metadata": {
    "collapsed": true
   },
   "outputs": [],
   "source": [
    "g = Graph()"
   ]
  },
  {
   "cell_type": "code",
   "execution_count": 79,
   "metadata": {
    "collapsed": true
   },
   "outputs": [],
   "source": [
    "g.set_as_default()"
   ]
  },
  {
   "cell_type": "code",
   "execution_count": 80,
   "metadata": {
    "collapsed": true
   },
   "outputs": [],
   "source": [
    "A = Variable(10)"
   ]
  },
  {
   "cell_type": "code",
   "execution_count": 81,
   "metadata": {
    "collapsed": true
   },
   "outputs": [],
   "source": [
    "b = Variable(1)"
   ]
  },
  {
   "cell_type": "code",
   "execution_count": 82,
   "metadata": {
    "collapsed": true
   },
   "outputs": [],
   "source": [
    "x = Placeholder()"
   ]
  },
  {
   "cell_type": "code",
   "execution_count": 83,
   "metadata": {},
   "outputs": [],
   "source": [
    "y = multiply(A,x)"
   ]
  },
  {
   "cell_type": "code",
   "execution_count": 84,
   "metadata": {},
   "outputs": [],
   "source": [
    "z = add(y,b)"
   ]
  },
  {
   "cell_type": "code",
   "execution_count": 95,
   "metadata": {
    "collapsed": true
   },
   "outputs": [],
   "source": [
    "import numpy as np"
   ]
  },
  {
   "cell_type": "code",
   "execution_count": 85,
   "metadata": {
    "collapsed": true
   },
   "outputs": [],
   "source": [
    "def traverse_postorder(operation):\n",
    "    \"\"\" \n",
    "    PostOrder Traversal of Nodes. Basically makes sure computations are done in \n",
    "    the correct order (Ax first , then Ax + b). Feel free to copy and paste this code.\n",
    "    It is not super important for understanding the basic fundamentals of deep learning.\n",
    "    \"\"\"\n",
    "    \n",
    "    nodes_postorder = []\n",
    "    def recurse(node):\n",
    "        if isinstance(node, Operation):\n",
    "            for input_node in node.input_nodes:\n",
    "                recurse(input_node)\n",
    "        nodes_postorder.append(node)\n",
    "\n",
    "    recurse(operation)\n",
    "    return nodes_postorder"
   ]
  },
  {
   "cell_type": "code",
   "execution_count": 89,
   "metadata": {
    "collapsed": true
   },
   "outputs": [],
   "source": [
    "class Session():\n",
    "    \n",
    "    def run(self, operation, feed_dict={}):\n",
    "        \n",
    "        nodes_postorder = traverse_postorder(operation)\n",
    "        \n",
    "        for node in nodes_postorder:\n",
    "            \n",
    "            if type(node) == Placeholder:\n",
    "                \n",
    "                node.output = feed_dict[node]\n",
    "                \n",
    "            elif type(node) == Variable:\n",
    "                \n",
    "                node.output = node.value\n",
    "                \n",
    "            else: \n",
    "                # Operation \n",
    "                node.inputs = [input_node.output for input_node in node.input_nodes]\n",
    "                \n",
    "                node.output = node.compute(*node.inputs) # providing input without knowing how many inputs we have throughtout operation\n",
    "                \n",
    "            if type(node.output) == list:\n",
    "                node.output = np.array(node.output)\n",
    "                \n",
    "        return operation.output"
   ]
  },
  {
   "cell_type": "code",
   "execution_count": 90,
   "metadata": {
    "collapsed": true
   },
   "outputs": [],
   "source": [
    "sess = Session()"
   ]
  },
  {
   "cell_type": "code",
   "execution_count": 91,
   "metadata": {},
   "outputs": [],
   "source": [
    "result = sess.run(operation=z,feed_dict={x:10})"
   ]
  },
  {
   "cell_type": "code",
   "execution_count": 92,
   "metadata": {
    "collapsed": true
   },
   "outputs": [],
   "source": [
    "g = Graph()\n",
    "g.set_as_default()\n",
    "A = Variable([[10,20],[20,30]])\n",
    "b = Variable([1,2,])\n",
    "\n",
    "x = Placeholder()\n",
    "\n",
    "y = matmul(A,x)\n",
    "\n",
    "z = add(y,b)"
   ]
  },
  {
   "cell_type": "code",
   "execution_count": 93,
   "metadata": {
    "collapsed": true
   },
   "outputs": [],
   "source": [
    "sess = Session()"
   ]
  },
  {
   "cell_type": "code",
   "execution_count": 96,
   "metadata": {},
   "outputs": [
    {
     "data": {
      "text/plain": [
       "array([[101, 202],\n",
       "       [201, 302]])"
      ]
     },
     "execution_count": 96,
     "metadata": {},
     "output_type": "execute_result"
    }
   ],
   "source": [
    "sess.run(operation=z, feed_dict={x:10})"
   ]
  },
  {
   "cell_type": "markdown",
   "metadata": {},
   "source": [
    "# Classification\n",
    "## Activation function"
   ]
  },
  {
   "cell_type": "code",
   "execution_count": 97,
   "metadata": {
    "collapsed": true
   },
   "outputs": [],
   "source": [
    "import matplotlib.pyplot as plt\n",
    "%matplotlib inline"
   ]
  },
  {
   "cell_type": "code",
   "execution_count": 98,
   "metadata": {
    "collapsed": true
   },
   "outputs": [],
   "source": [
    "def sigmoid(z):\n",
    "    return 1 / (1 + np.exp(-z))"
   ]
  },
  {
   "cell_type": "code",
   "execution_count": 99,
   "metadata": {
    "collapsed": true
   },
   "outputs": [],
   "source": [
    "sample_z = np.linspace(-10,10,100)"
   ]
  },
  {
   "cell_type": "code",
   "execution_count": 100,
   "metadata": {
    "collapsed": true
   },
   "outputs": [],
   "source": [
    "sample_a = sigmoid(sample_z)"
   ]
  },
  {
   "cell_type": "code",
   "execution_count": 101,
   "metadata": {},
   "outputs": [
    {
     "data": {
      "text/plain": [
       "[<matplotlib.lines.Line2D at 0x27bd95516d8>]"
      ]
     },
     "execution_count": 101,
     "metadata": {},
     "output_type": "execute_result"
    },
    {
     "data": {
      "image/png": "[encoded data removed]",
      "text/plain": [
       "<matplotlib.figure.Figure at 0x27bd7007a20>"
      ]
     },
     "metadata": {},
     "output_type": "display_data"
    }
   ],
   "source": [
    "plt.plot(sample_z, sample_a)"
   ]
  },
  {
   "cell_type": "code",
   "execution_count": 133,
   "metadata": {
    "collapsed": true
   },
   "outputs": [],
   "source": [
    "class Sigmoid(Operation):\n",
    "    \n",
    "    def __init__(self, z):\n",
    "        \n",
    "        super().__init__([z])\n",
    "    def compute(self, z_val):\n",
    "        return 1 / (1 + np.exp(-z_val))"
   ]
  },
  {
   "cell_type": "code",
   "execution_count": 103,
   "metadata": {
    "collapsed": true
   },
   "outputs": [],
   "source": [
    "from sklearn.datasets import make_blobs"
   ]
  },
  {
   "cell_type": "code",
   "execution_count": 104,
   "metadata": {
    "collapsed": true
   },
   "outputs": [],
   "source": [
    "data = make_blobs(n_samples=50,n_features=2,centers=2, random_state=75)"
   ]
  },
  {
   "cell_type": "code",
   "execution_count": 105,
   "metadata": {},
   "outputs": [
    {
     "data": {
      "text/plain": [
       "(array([[  7.3402781 ,   9.36149154],\n",
       "        [  9.13332743,   8.74906102],\n",
       "        [  1.99243535,  -8.85885722],\n",
       "        [  7.38443759,   7.72520389],\n",
       "        [  7.97613887,   8.80878209],\n",
       "        [  7.76974352,   9.50899462],\n",
       "        [  8.3186688 ,  10.1026025 ],\n",
       "        [  8.79588546,   7.28046702],\n",
       "        [  9.81270381,   9.46968531],\n",
       "        [  1.57961049,  -8.17089971],\n",
       "        [  0.06441546,  -9.04982817],\n",
       "        [  7.2075117 ,   7.04533624],\n",
       "        [  9.10704928,   9.0272212 ],\n",
       "        [  1.82921897,  -9.86956281],\n",
       "        [  7.85036314,   7.986659  ],\n",
       "        [  3.04605603,  -7.50486114],\n",
       "        [  1.85582689,  -6.74473432],\n",
       "        [  2.88603902,  -8.85261704],\n",
       "        [ -1.20046211,  -9.55928542],\n",
       "        [  2.00890845,  -9.78471782],\n",
       "        [  7.68945113,   9.01706723],\n",
       "        [  6.42356167,   8.33356412],\n",
       "        [  8.15467319,   7.87489634],\n",
       "        [  1.92000795,  -7.50953708],\n",
       "        [  1.90073973,  -7.24386675],\n",
       "        [  7.7605855 ,   7.05124418],\n",
       "        [  6.90561582,   9.23493842],\n",
       "        [  0.65582768,  -9.5920878 ],\n",
       "        [  1.41804346,  -8.10517372],\n",
       "        [  9.65371965,   9.35409538],\n",
       "        [  1.23053506,  -7.98873571],\n",
       "        [  1.96322881,  -9.50169117],\n",
       "        [  6.11644251,   9.26709393],\n",
       "        [  7.70630321,  10.78862346],\n",
       "        [  0.79580385,  -9.00301023],\n",
       "        [  3.13114921,  -8.6849493 ],\n",
       "        [  1.3970852 ,  -7.25918415],\n",
       "        [  7.27808709,   7.15201886],\n",
       "        [  1.06965742,  -8.1648251 ],\n",
       "        [  6.37298915,   9.77705761],\n",
       "        [  7.24898455,   8.85834104],\n",
       "        [  2.09335725,  -7.66278316],\n",
       "        [  1.05865542,  -8.43841416],\n",
       "        [  6.43807502,   7.85483418],\n",
       "        [  6.94948313,   8.75248232],\n",
       "        [ -0.07326715, -11.69999644],\n",
       "        [  0.61463602,  -9.51908883],\n",
       "        [  1.31977821,  -7.2710667 ],\n",
       "        [  2.72532584,  -7.51956557],\n",
       "        [  8.20949206,  11.90419283]]),\n",
       " array([1, 1, 0, 1, 1, 1, 1, 1, 1, 0, 0, 1, 1, 0, 1, 0, 0, 0, 0, 0, 1, 1, 1,\n",
       "        0, 0, 1, 1, 0, 0, 1, 0, 0, 1, 1, 0, 0, 0, 1, 0, 1, 1, 0, 0, 1, 1, 0,\n",
       "        0, 0, 0, 1]))"
      ]
     },
     "execution_count": 105,
     "metadata": {},
     "output_type": "execute_result"
    }
   ],
   "source": [
    "data"
   ]
  },
  {
   "cell_type": "code",
   "execution_count": 106,
   "metadata": {},
   "outputs": [
    {
     "data": {
      "text/plain": [
       "tuple"
      ]
     },
     "execution_count": 106,
     "metadata": {},
     "output_type": "execute_result"
    }
   ],
   "source": [
    "type(data)"
   ]
  },
  {
   "cell_type": "code",
   "execution_count": 108,
   "metadata": {},
   "outputs": [],
   "source": [
    "features = data[0]\n",
    "labels = data[1]"
   ]
  },
  {
   "cell_type": "code",
   "execution_count": 111,
   "metadata": {},
   "outputs": [
    {
     "data": {
      "text/plain": [
       "<matplotlib.collections.PathCollection at 0x27bda42da90>"
      ]
     },
     "execution_count": 111,
     "metadata": {},
     "output_type": "execute_result"
    },
    {
     "data": {
      "image/png": "[encoded data removed]",
      "text/plain": [
       "<matplotlib.figure.Figure at 0x27bda3c0940>"
      ]
     },
     "metadata": {},
     "output_type": "display_data"
    }
   ],
   "source": [
    "plt.scatter(features[:,0],features[:,1], c=labels,cmap='coolwarm')"
   ]
  },
  {
   "cell_type": "code",
   "execution_count": 114,
   "metadata": {},
   "outputs": [
    {
     "data": {
      "text/plain": [
       "[<matplotlib.lines.Line2D at 0x27bda4ca550>]"
      ]
     },
     "execution_count": 114,
     "metadata": {},
     "output_type": "execute_result"
    },
    {
     "data": {
      "image/png": "[encoded data removed]",
      "text/plain": [
       "<matplotlib.figure.Figure at 0x27bda4ca208>"
      ]
     },
     "metadata": {},
     "output_type": "display_data"
    }
   ],
   "source": [
    "x = np.linspace(0,11,10)\n",
    "y = -x + 5\n",
    "plt.scatter(features[:,0],features[:,1], c=labels,cmap='coolwarm')\n",
    "plt.plot(x,y)"
   ]
  },
  {
   "cell_type": "markdown",
   "metadata": {},
   "source": [
    "(1,1) * f - 5 = 0"
   ]
  },
  {
   "cell_type": "code",
   "execution_count": 116,
   "metadata": {},
   "outputs": [
    {
     "data": {
      "text/plain": [
       "array([13])"
      ]
     },
     "execution_count": 116,
     "metadata": {},
     "output_type": "execute_result"
    }
   ],
   "source": [
    "np.array([1,1]).dot(np.array([[8],[10]])) - 5"
   ]
  },
  {
   "cell_type": "code",
   "execution_count": 117,
   "metadata": {},
   "outputs": [
    {
     "data": {
      "text/plain": [
       "array([-13])"
      ]
     },
     "execution_count": 117,
     "metadata": {},
     "output_type": "execute_result"
    }
   ],
   "source": [
    "np.array([1,1]).dot(np.array([[2],[-10]])) - 5"
   ]
  },
  {
   "cell_type": "code",
   "execution_count": 134,
   "metadata": {
    "collapsed": true
   },
   "outputs": [],
   "source": [
    "g = Graph()\n",
    "g.set_as_default()"
   ]
  },
  {
   "cell_type": "code",
   "execution_count": 135,
   "metadata": {
    "collapsed": true
   },
   "outputs": [],
   "source": [
    "x = Placeholder()"
   ]
  },
  {
   "cell_type": "code",
   "execution_count": 136,
   "metadata": {
    "collapsed": true
   },
   "outputs": [],
   "source": [
    "W = Variable([1,1])\n",
    "b = Variable(-5)"
   ]
  },
  {
   "cell_type": "code",
   "execution_count": 137,
   "metadata": {
    "collapsed": true
   },
   "outputs": [],
   "source": [
    "z = add(matmul(W,x),b)"
   ]
  },
  {
   "cell_type": "code",
   "execution_count": 138,
   "metadata": {},
   "outputs": [],
   "source": [
    "a = Sigmoid(z)"
   ]
  },
  {
   "cell_type": "code",
   "execution_count": 139,
   "metadata": {
    "collapsed": true
   },
   "outputs": [],
   "source": [
    "sess = Session()"
   ]
  },
  {
   "cell_type": "code",
   "execution_count": 141,
   "metadata": {},
   "outputs": [
    {
     "data": {
      "text/plain": [
       "0.99999773967570205"
      ]
     },
     "execution_count": 141,
     "metadata": {},
     "output_type": "execute_result"
    }
   ],
   "source": [
    "sess.run(operation=a, feed_dict={x:[8,10]})\n",
    "# We're very sure about where this point belongs 1"
   ]
  },
  {
   "cell_type": "code",
   "execution_count": 142,
   "metadata": {},
   "outputs": [
    {
     "data": {
      "text/plain": [
       "2.2603242979035746e-06"
      ]
     },
     "execution_count": 142,
     "metadata": {},
     "output_type": "execute_result"
    }
   ],
   "source": [
    "sess.run(operation=a, feed_dict={x:[2,-10]})\n",
    "# We're very sure about where this point belongs 0"
   ]
  },
  {
   "cell_type": "markdown",
   "metadata": {},
   "source": [
    "----\n",
    "\n",
    "# TensorFlow"
   ]
  },
  {
   "cell_type": "markdown",
   "metadata": {},
   "source": [
    "## Syntax basics"
   ]
  },
  {
   "cell_type": "code",
   "execution_count": 143,
   "metadata": {
    "collapsed": true
   },
   "outputs": [],
   "source": [
    "import tensorflow as tf"
   ]
  },
  {
   "cell_type": "code",
   "execution_count": 144,
   "metadata": {},
   "outputs": [
    {
     "name": "stdout",
     "output_type": "stream",
     "text": [
      "1.3.0\n"
     ]
    }
   ],
   "source": [
    "print(tf.__version__)"
   ]
  },
  {
   "cell_type": "code",
   "execution_count": 145,
   "metadata": {
    "collapsed": true
   },
   "outputs": [],
   "source": [
    "hello = tf.constant(\"Hello \")"
   ]
  },
  {
   "cell_type": "code",
   "execution_count": 150,
   "metadata": {
    "collapsed": true
   },
   "outputs": [],
   "source": [
    "world = tf.constant(\"World\")"
   ]
  },
  {
   "cell_type": "code",
   "execution_count": 151,
   "metadata": {},
   "outputs": [
    {
     "data": {
      "text/plain": [
       "tensorflow.python.framework.ops.Tensor"
      ]
     },
     "execution_count": 151,
     "metadata": {},
     "output_type": "execute_result"
    }
   ],
   "source": [
    "type(hello)"
   ]
  },
  {
   "cell_type": "code",
   "execution_count": 152,
   "metadata": {},
   "outputs": [
    {
     "name": "stdout",
     "output_type": "stream",
     "text": [
      "Tensor(\"Const:0\", shape=(), dtype=string)\n"
     ]
    }
   ],
   "source": [
    "print(hello)"
   ]
  },
  {
   "cell_type": "code",
   "execution_count": 153,
   "metadata": {},
   "outputs": [
    {
     "data": {
      "text/plain": [
       "b'Hello World'"
      ]
     },
     "execution_count": 153,
     "metadata": {},
     "output_type": "execute_result"
    }
   ],
   "source": [
    "with tf.Session() as sess:\n",
    "    result = sess.run(hello + world)\n",
    "result"
   ]
  },
  {
   "cell_type": "code",
   "execution_count": 154,
   "metadata": {
    "collapsed": true
   },
   "outputs": [],
   "source": [
    "a = tf.constant(10)\n",
    "b = tf.constant(20)"
   ]
  },
  {
   "cell_type": "code",
   "execution_count": 155,
   "metadata": {},
   "outputs": [
    {
     "data": {
      "text/plain": [
       "<tf.Tensor 'add_2:0' shape=() dtype=int32>"
      ]
     },
     "execution_count": 155,
     "metadata": {},
     "output_type": "execute_result"
    }
   ],
   "source": [
    "a + b"
   ]
  },
  {
   "cell_type": "code",
   "execution_count": 156,
   "metadata": {
    "collapsed": true
   },
   "outputs": [],
   "source": [
    "with tf.Session() as sess:\n",
    "    result = sess.run(a + b)"
   ]
  },
  {
   "cell_type": "code",
   "execution_count": 157,
   "metadata": {},
   "outputs": [
    {
     "data": {
      "text/plain": [
       "30"
      ]
     },
     "execution_count": 157,
     "metadata": {},
     "output_type": "execute_result"
    }
   ],
   "source": [
    "result"
   ]
  },
  {
   "cell_type": "code",
   "execution_count": 158,
   "metadata": {
    "collapsed": true
   },
   "outputs": [],
   "source": [
    "const = tf.constant(10)\n",
    "fill_mat = tf.fill((4,4),10)"
   ]
  },
  {
   "cell_type": "code",
   "execution_count": 159,
   "metadata": {
    "collapsed": true
   },
   "outputs": [],
   "source": [
    "mmyzeros = tf.zeros((4,4))\n"
   ]
  },
  {
   "cell_type": "code",
   "execution_count": 160,
   "metadata": {
    "collapsed": true
   },
   "outputs": [],
   "source": [
    "mmyones = tf.ones((4,4))"
   ]
  },
  {
   "cell_type": "code",
   "execution_count": 161,
   "metadata": {
    "collapsed": true
   },
   "outputs": [],
   "source": [
    "myrand = tf.random_normal((4,4),mean=0,stddev=1.0)"
   ]
  },
  {
   "cell_type": "code",
   "execution_count": 162,
   "metadata": {
    "collapsed": true
   },
   "outputs": [],
   "source": [
    "myrandu = tf.random_uniform((4,4),minval=0,maxval=1)"
   ]
  },
  {
   "cell_type": "code",
   "execution_count": 163,
   "metadata": {},
   "outputs": [
    {
     "data": {
      "text/plain": [
       "<tf.Tensor 'zeros:0' shape=(4, 4) dtype=float32>"
      ]
     },
     "execution_count": 163,
     "metadata": {},
     "output_type": "execute_result"
    }
   ],
   "source": [
    "mmyzeros"
   ]
  },
  {
   "cell_type": "code",
   "execution_count": 164,
   "metadata": {
    "collapsed": true
   },
   "outputs": [],
   "source": [
    "my_ops = [const, fill_mat, mmyzeros, mmyones, myrand, myrandu]"
   ]
  },
  {
   "cell_type": "code",
   "execution_count": 165,
   "metadata": {
    "collapsed": true
   },
   "outputs": [],
   "source": [
    "sess = tf.InteractiveSession()\n",
    "# following cells will now pretend they are being run within a tf session"
   ]
  },
  {
   "cell_type": "code",
   "execution_count": 167,
   "metadata": {},
   "outputs": [
    {
     "name": "stdout",
     "output_type": "stream",
     "text": [
      "10\n",
      "[[10 10 10 10]\n",
      " [10 10 10 10]\n",
      " [10 10 10 10]\n",
      " [10 10 10 10]]\n",
      "[[ 0.  0.  0.  0.]\n",
      " [ 0.  0.  0.  0.]\n",
      " [ 0.  0.  0.  0.]\n",
      " [ 0.  0.  0.  0.]]\n",
      "[[ 1.  1.  1.  1.]\n",
      " [ 1.  1.  1.  1.]\n",
      " [ 1.  1.  1.  1.]\n",
      " [ 1.  1.  1.  1.]]\n",
      "[[-0.41523084  0.71404725  1.55948186  0.87920666]\n",
      " [ 2.6051681   1.28670132 -2.7100563  -1.26014555]\n",
      " [ 0.19738714  2.20789933  0.62168115  0.84152752]\n",
      " [ 0.20608701 -1.29384422  0.84416986  0.08146988]]\n",
      "[[ 0.62859154  0.37794471  0.64717054  0.96312571]\n",
      " [ 0.83837008  0.87486613  0.12247217  0.48384511]\n",
      " [ 0.84120095  0.21572042  0.59636819  0.344504  ]\n",
      " [ 0.73931837  0.16739321  0.86798942  0.13058877]]\n"
     ]
    }
   ],
   "source": [
    "for op in my_ops:\n",
    "    print(op.eval())\n",
    "    print('\\n')"
   ]
  },
  {
   "cell_type": "code",
   "execution_count": 169,
   "metadata": {},
   "outputs": [],
   "source": [
    "# Matrix multiplication\n",
    "a = tf.constant([[1,2], \n",
    "                [3,4]])"
   ]
  },
  {
   "cell_type": "code",
   "execution_count": 170,
   "metadata": {},
   "outputs": [
    {
     "data": {
      "text/plain": [
       "TensorShape([Dimension(2), Dimension(2)])"
      ]
     },
     "execution_count": 170,
     "metadata": {},
     "output_type": "execute_result"
    }
   ],
   "source": [
    "a.get_shape()"
   ]
  },
  {
   "cell_type": "code",
   "execution_count": 171,
   "metadata": {
    "collapsed": true
   },
   "outputs": [],
   "source": [
    "b = tf.constant([[10], [100]])"
   ]
  },
  {
   "cell_type": "code",
   "execution_count": 172,
   "metadata": {},
   "outputs": [
    {
     "data": {
      "text/plain": [
       "TensorShape([Dimension(2), Dimension(1)])"
      ]
     },
     "execution_count": 172,
     "metadata": {},
     "output_type": "execute_result"
    }
   ],
   "source": [
    "b.get_shape()"
   ]
  },
  {
   "cell_type": "code",
   "execution_count": 173,
   "metadata": {
    "collapsed": true
   },
   "outputs": [],
   "source": [
    "result = tf.matmul(a,b)"
   ]
  },
  {
   "cell_type": "code",
   "execution_count": 174,
   "metadata": {},
   "outputs": [
    {
     "data": {
      "text/plain": [
       "array([[210],\n",
       "       [430]])"
      ]
     },
     "execution_count": 174,
     "metadata": {},
     "output_type": "execute_result"
    }
   ],
   "source": [
    "sess.run(result)"
   ]
  },
  {
   "cell_type": "code",
   "execution_count": 176,
   "metadata": {},
   "outputs": [
    {
     "data": {
      "text/plain": [
       "array([[210],\n",
       "       [430]])"
      ]
     },
     "execution_count": 176,
     "metadata": {},
     "output_type": "execute_result"
    }
   ],
   "source": [
    "result.eval()"
   ]
  },
  {
   "cell_type": "markdown",
   "metadata": {},
   "source": [
    "## TF Graphs"
   ]
  },
  {
   "cell_type": "code",
   "execution_count": 177,
   "metadata": {
    "collapsed": true
   },
   "outputs": [],
   "source": [
    "n1 = tf.constant(1)\n",
    "n2 = tf.constant(2)\n",
    "n3 = n1 + n2"
   ]
  },
  {
   "cell_type": "code",
   "execution_count": 178,
   "metadata": {
    "collapsed": true
   },
   "outputs": [],
   "source": [
    "with tf.Session() as sess:\n",
    "    result = sess.run(n3)"
   ]
  },
  {
   "cell_type": "code",
   "execution_count": 179,
   "metadata": {},
   "outputs": [
    {
     "data": {
      "text/plain": [
       "3"
      ]
     },
     "execution_count": 179,
     "metadata": {},
     "output_type": "execute_result"
    }
   ],
   "source": [
    "result"
   ]
  },
  {
   "cell_type": "code",
   "execution_count": 180,
   "metadata": {},
   "outputs": [
    {
     "name": "stdout",
     "output_type": "stream",
     "text": [
      "<tensorflow.python.framework.ops.Graph object at 0x0000027BDCF50780>\n"
     ]
    }
   ],
   "source": [
    "print(tf.get_default_graph())"
   ]
  },
  {
   "cell_type": "code",
   "execution_count": 181,
   "metadata": {
    "collapsed": true
   },
   "outputs": [],
   "source": [
    "g = tf.Graph()"
   ]
  },
  {
   "cell_type": "code",
   "execution_count": 183,
   "metadata": {},
   "outputs": [
    {
     "name": "stdout",
     "output_type": "stream",
     "text": [
      "<tensorflow.python.framework.ops.Graph object at 0x0000027BDCF5F908>\n"
     ]
    }
   ],
   "source": [
    "print(g)"
   ]
  },
  {
   "cell_type": "code",
   "execution_count": 184,
   "metadata": {
    "collapsed": true
   },
   "outputs": [],
   "source": [
    "g_one = tf.get_default_graph()"
   ]
  },
  {
   "cell_type": "code",
   "execution_count": 185,
   "metadata": {},
   "outputs": [
    {
     "name": "stdout",
     "output_type": "stream",
     "text": [
      "<tensorflow.python.framework.ops.Graph object at 0x0000027BDCF50780>\n"
     ]
    }
   ],
   "source": [
    "print(g_one)"
   ]
  },
  {
   "cell_type": "code",
   "execution_count": 186,
   "metadata": {
    "collapsed": true
   },
   "outputs": [],
   "source": [
    "g_two = tf.Graph()"
   ]
  },
  {
   "cell_type": "code",
   "execution_count": 187,
   "metadata": {},
   "outputs": [
    {
     "name": "stdout",
     "output_type": "stream",
     "text": [
      "<tensorflow.python.framework.ops.Graph object at 0x0000027BDDFB0588>\n"
     ]
    }
   ],
   "source": [
    "print(g_two)"
   ]
  },
  {
   "cell_type": "code",
   "execution_count": 188,
   "metadata": {},
   "outputs": [
    {
     "name": "stdout",
     "output_type": "stream",
     "text": [
      "True\n"
     ]
    }
   ],
   "source": [
    "with g_two.as_default():\n",
    "    print(g_two is tf.get_default_graph())"
   ]
  },
  {
   "cell_type": "markdown",
   "metadata": {},
   "source": [
    "## Placeholders and Variables"
   ]
  },
  {
   "cell_type": "code",
   "execution_count": 189,
   "metadata": {
    "collapsed": true
   },
   "outputs": [],
   "source": [
    "my_tensor = tf.random_uniform((4,4),0,1)"
   ]
  },
  {
   "cell_type": "code",
   "execution_count": 190,
   "metadata": {},
   "outputs": [
    {
     "data": {
      "text/plain": [
       "<tf.Tensor 'random_uniform_1:0' shape=(4, 4) dtype=float32>"
      ]
     },
     "execution_count": 190,
     "metadata": {},
     "output_type": "execute_result"
    }
   ],
   "source": [
    "my_tensor"
   ]
  },
  {
   "cell_type": "code",
   "execution_count": 195,
   "metadata": {
    "collapsed": true
   },
   "outputs": [],
   "source": [
    "sess = tf.InteractiveSession()"
   ]
  },
  {
   "cell_type": "code",
   "execution_count": 196,
   "metadata": {
    "collapsed": true
   },
   "outputs": [],
   "source": [
    "my_var = tf.Variable(initial_value=my_tensor)"
   ]
  },
  {
   "cell_type": "code",
   "execution_count": 197,
   "metadata": {},
   "outputs": [
    {
     "name": "stdout",
     "output_type": "stream",
     "text": [
      "<tf.Variable 'Variable_1:0' shape=(4, 4) dtype=float32_ref>\n"
     ]
    }
   ],
   "source": [
    "print(my_var)"
   ]
  },
  {
   "cell_type": "code",
   "execution_count": 198,
   "metadata": {
    "collapsed": true
   },
   "outputs": [],
   "source": [
    "init = tf.global_variables_initializer()"
   ]
  },
  {
   "cell_type": "code",
   "execution_count": 199,
   "metadata": {},
   "outputs": [],
   "source": [
    "sess.run(init)"
   ]
  },
  {
   "cell_type": "code",
   "execution_count": 200,
   "metadata": {},
   "outputs": [
    {
     "data": {
      "text/plain": [
       "array([[ 0.20062327,  0.9799186 ,  0.9826777 ,  0.08746326],\n",
       "       [ 0.03758144,  0.86818314,  0.58758676,  0.44187319],\n",
       "       [ 0.42875755,  0.98912394,  0.76103723,  0.99337924],\n",
       "       [ 0.57418621,  0.0609653 ,  0.50298989,  0.5511955 ]], dtype=float32)"
      ]
     },
     "execution_count": 200,
     "metadata": {},
     "output_type": "execute_result"
    }
   ],
   "source": [
    "sess.run(my_var)"
   ]
  },
  {
   "cell_type": "code",
   "execution_count": 201,
   "metadata": {
    "collapsed": true
   },
   "outputs": [],
   "source": [
    "ph = tf.placeholder(tf.float32)"
   ]
  },
  {
   "cell_type": "markdown",
   "metadata": {},
   "source": [
    "## Building our first actual model!"
   ]
  },
  {
   "cell_type": "code",
   "execution_count": 202,
   "metadata": {
    "collapsed": true
   },
   "outputs": [],
   "source": [
    "np.random.seed(101)\n",
    "tf.set_random_seed(101)"
   ]
  },
  {
   "cell_type": "code",
   "execution_count": 205,
   "metadata": {},
   "outputs": [
    {
     "data": {
      "text/plain": [
       "array([[ 51.63986277,  57.06675869,   2.84742265,  17.15216562,\n",
       "         68.52769817],\n",
       "       [ 83.38968626,  30.69662197,  89.36130797,  72.15438618,\n",
       "         18.99389542],\n",
       "       [ 55.42275911,  35.2131954 ,  18.18924027,  78.56017619,\n",
       "         96.54832224],\n",
       "       [ 23.23536618,   8.35614337,  60.35484223,  72.89927573,\n",
       "         27.62388285],\n",
       "       [ 68.53063288,  51.78674742,   4.84845374,  13.78692376,\n",
       "         18.69674261]])"
      ]
     },
     "execution_count": 205,
     "metadata": {},
     "output_type": "execute_result"
    }
   ],
   "source": [
    "rand_a = np.random.uniform(0,100,(5,5))\n",
    "rand_a"
   ]
  },
  {
   "cell_type": "code",
   "execution_count": 207,
   "metadata": {},
   "outputs": [
    {
     "data": {
      "text/plain": [
       "array([[ 91.31535577],\n",
       "       [ 80.7920151 ],\n",
       "       [ 40.29978307],\n",
       "       [ 35.72243428],\n",
       "       [ 95.28767147]])"
      ]
     },
     "execution_count": 207,
     "metadata": {},
     "output_type": "execute_result"
    }
   ],
   "source": [
    "rand_b = np.random.uniform(0,100,(5,1))\n",
    "rand_b"
   ]
  },
  {
   "cell_type": "code",
   "execution_count": 208,
   "metadata": {
    "collapsed": true
   },
   "outputs": [],
   "source": [
    "a = tf.placeholder(tf.float32)"
   ]
  },
  {
   "cell_type": "code",
   "execution_count": 209,
   "metadata": {
    "collapsed": true
   },
   "outputs": [],
   "source": [
    "b = tf.placeholder(tf.float32)"
   ]
  },
  {
   "cell_type": "code",
   "execution_count": 210,
   "metadata": {
    "collapsed": true
   },
   "outputs": [],
   "source": [
    "add_op = a + b"
   ]
  },
  {
   "cell_type": "code",
   "execution_count": 211,
   "metadata": {
    "collapsed": true
   },
   "outputs": [],
   "source": [
    "mul_op = a * b "
   ]
  },
  {
   "cell_type": "code",
   "execution_count": 216,
   "metadata": {},
   "outputs": [
    {
     "name": "stdout",
     "output_type": "stream",
     "text": [
      "[[ 142.95521545  148.3821106    94.16277313  108.46752167  159.8430481 ]\n",
      " [ 164.18170166  111.48863983  170.15332031  152.94641113   99.78591156]\n",
      " [  95.72254181   75.5129776    58.4890213   118.85995483  136.84811401]\n",
      " [  58.95780182   44.07857895   96.07727814  108.62171173   63.34631729]\n",
      " [ 163.81829834  147.07441711  100.13612366  109.07460022  113.98442078]]\n",
      "\n",
      "\n",
      "[[ 4715.51220703  5211.07128906   260.01339722  1566.25610352\n",
      "   6257.63085938]\n",
      " [ 6737.22070312  2480.04199219  7219.6796875   5829.49853516\n",
      "   1534.55505371]\n",
      " [ 2233.52514648  1419.08410645   733.0223999   3165.95776367\n",
      "   3890.87646484]\n",
      " [  830.02386475   298.50177002  2156.02197266  2604.13964844   986.7923584 ]\n",
      " [ 6530.12451172  4934.63867188   461.99786377  1313.72387695  1781.5690918 ]]\n"
     ]
    }
   ],
   "source": [
    "with tf.Session() as sess:\n",
    "    add_result = sess.run(add_op,feed_dict={a:rand_a,b:rand_b})\n",
    "    print(add_result)\n",
    "    print('\\n')\n",
    "    mul_res = sess.run(mul_op,feed_dict={a:rand_a,b:rand_b})\n",
    "    print(mul_res)"
   ]
  },
  {
   "cell_type": "markdown",
   "metadata": {},
   "source": [
    "## Example Neural Network"
   ]
  },
  {
   "cell_type": "code",
   "execution_count": 217,
   "metadata": {
    "collapsed": true
   },
   "outputs": [],
   "source": [
    "n_features = 10\n",
    "n_dense_neurons = 3"
   ]
  },
  {
   "cell_type": "code",
   "execution_count": 218,
   "metadata": {
    "collapsed": true
   },
   "outputs": [],
   "source": [
    "x = tf.placeholder(tf.float32,shape=(None,n_features))"
   ]
  },
  {
   "cell_type": "code",
   "execution_count": 219,
   "metadata": {
    "collapsed": true
   },
   "outputs": [],
   "source": [
    "W = tf.Variable(tf.random_normal([n_features,n_dense_neurons]))\n",
    "\n",
    "b = tf.Variable(tf.ones([n_dense_neurons]))"
   ]
  },
  {
   "cell_type": "code",
   "execution_count": 220,
   "metadata": {
    "collapsed": true
   },
   "outputs": [],
   "source": [
    "xW = tf.matmul(x,W)"
   ]
  },
  {
   "cell_type": "code",
   "execution_count": 221,
   "metadata": {
    "collapsed": true
   },
   "outputs": [],
   "source": [
    "z = tf.add(xW,b)"
   ]
  },
  {
   "cell_type": "code",
   "execution_count": 222,
   "metadata": {
    "collapsed": true
   },
   "outputs": [],
   "source": [
    "a = tf.sigmoid(z)"
   ]
  },
  {
   "cell_type": "code",
   "execution_count": 223,
   "metadata": {
    "collapsed": true
   },
   "outputs": [],
   "source": [
    "init = tf.global_variables_initializer()"
   ]
  },
  {
   "cell_type": "code",
   "execution_count": 225,
   "metadata": {},
   "outputs": [],
   "source": [
    "with tf.Session() as sess:\n",
    "    sess.run(init)\n",
    "    layer_out = sess.run(a,feed_dict={x:np.random.random([1,n_features])})"
   ]
  },
  {
   "cell_type": "code",
   "execution_count": 226,
   "metadata": {},
   "outputs": [
    {
     "data": {
      "text/plain": [
       "array([[ 0.18246147,  0.96333116,  0.89735168]], dtype=float32)"
      ]
     },
     "execution_count": 226,
     "metadata": {},
     "output_type": "execute_result"
    }
   ],
   "source": [
    "layer_out"
   ]
  },
  {
   "cell_type": "markdown",
   "metadata": {},
   "source": [
    "## Simple Regression Example (with optimizer and feedback)"
   ]
  },
  {
   "cell_type": "code",
   "execution_count": 227,
   "metadata": {
    "collapsed": true
   },
   "outputs": [],
   "source": [
    "x_data = np.linspace(0,10,10) + np.random.uniform(-1.5,1.5,10)"
   ]
  },
  {
   "cell_type": "code",
   "execution_count": 228,
   "metadata": {},
   "outputs": [
    {
     "data": {
      "text/plain": [
       "array([ -0.67328237,   1.6285857 ,   1.21513159,   3.93744674,\n",
       "         4.40735011,   6.09758886,   6.73131124,   6.40796786,\n",
       "         8.0606987 ,  10.22561526])"
      ]
     },
     "execution_count": 228,
     "metadata": {},
     "output_type": "execute_result"
    }
   ],
   "source": [
    "x_data"
   ]
  },
  {
   "cell_type": "code",
   "execution_count": 229,
   "metadata": {
    "collapsed": true
   },
   "outputs": [],
   "source": [
    "y_label = np.linspace(0,10,10) + np.random.uniform(-1.5,1.5,10)"
   ]
  },
  {
   "cell_type": "code",
   "execution_count": 230,
   "metadata": {},
   "outputs": [
    {
     "data": {
      "text/plain": [
       "array([-1.13869902,  1.11146125,  1.13625093,  1.99175854,  3.47927521,\n",
       "        5.38265995,  7.79942864,  9.12557016,  8.82339114,  9.88335803])"
      ]
     },
     "execution_count": 230,
     "metadata": {},
     "output_type": "execute_result"
    }
   ],
   "source": [
    "\n",
    "y_label"
   ]
  },
  {
   "cell_type": "code",
   "execution_count": 231,
   "metadata": {},
   "outputs": [
    {
     "data": {
      "text/plain": [
       "[<matplotlib.lines.Line2D at 0x27bde367eb8>]"
      ]
     },
     "execution_count": 231,
     "metadata": {},
     "output_type": "execute_result"
    },
    {
     "data": {
      "image/png": "[encoded data removed]",
      "text/plain": [
       "<matplotlib.figure.Figure at 0x27bde317518>"
      ]
     },
     "metadata": {},
     "output_type": "display_data"
    }
   ],
   "source": [
    "plt.plot(x_data,y_label,'*')"
   ]
  },
  {
   "cell_type": "code",
   "execution_count": 232,
   "metadata": {},
   "outputs": [
    {
     "data": {
      "text/plain": [
       "array([ 0.63728903,  0.324608  ])"
      ]
     },
     "execution_count": 232,
     "metadata": {},
     "output_type": "execute_result"
    }
   ],
   "source": [
    "np.random.rand(2)"
   ]
  },
  {
   "cell_type": "code",
   "execution_count": 233,
   "metadata": {
    "collapsed": true
   },
   "outputs": [],
   "source": [
    "# NEURAL NETWORK\n",
    "# y = mx + b\n",
    "m = tf.Variable(0.637)\n",
    "b = tf.Variable(0.324)"
   ]
  },
  {
   "cell_type": "code",
   "execution_count": 234,
   "metadata": {
    "collapsed": true
   },
   "outputs": [],
   "source": [
    "error = 0\n",
    "\n",
    "for x,y in zip(x_data,y_label):\n",
    "    y_hat = m * x + b\n",
    "    \n",
    "    error += (y-y_hat)**2\n",
    "    # Squaring to punish higher values\n"
   ]
  },
  {
   "cell_type": "code",
   "execution_count": 235,
   "metadata": {
    "collapsed": true
   },
   "outputs": [],
   "source": [
    "optimizer = tf.train.GradientDescentOptimizer(learning_rate=0.001)\n",
    "train = optimizer.minimize(error)"
   ]
  },
  {
   "cell_type": "code",
   "execution_count": 236,
   "metadata": {
    "collapsed": true
   },
   "outputs": [],
   "source": [
    "init = tf.global_variables_initializer()"
   ]
  },
  {
   "cell_type": "code",
   "execution_count": 242,
   "metadata": {
    "collapsed": true
   },
   "outputs": [],
   "source": [
    "with tf.Session() as sess:\n",
    "    sess.run(init)\n",
    "    \n",
    "    training_steps = 1\n",
    "    \n",
    "    \n",
    "    for i in range(training_steps):\n",
    "        sess.run(train)\n",
    "\n",
    "    final_slope, final_intercept = sess.run([m,b])"
   ]
  },
  {
   "cell_type": "code",
   "execution_count": 243,
   "metadata": {},
   "outputs": [
    {
     "data": {
      "text/plain": [
       "[<matplotlib.lines.Line2D at 0x27bdec0b4e0>]"
      ]
     },
     "execution_count": 243,
     "metadata": {},
     "output_type": "execute_result"
    },
    {
     "data": {
      "image/png": "[encoded data removed]",
      "text/plain": [
       "<matplotlib.figure.Figure at 0x27bdec06710>"
      ]
     },
     "metadata": {},
     "output_type": "display_data"
    }
   ],
   "source": [
    "x_test = np.linspace(-1,11,10)\n",
    "\n",
    "y_pred_plot =  final_slope*x_test+final_intercept \n",
    "\n",
    "plt.plot(x_test,y_pred_plot,'r')\n",
    "plt.plot(x_data,y_label,'*')"
   ]
  },
  {
   "cell_type": "markdown",
   "metadata": {},
   "source": [
    "\n",
    "## New Regression Classification"
   ]
  },
  {
   "cell_type": "code",
   "execution_count": 252,
   "metadata": {
    "collapsed": true
   },
   "outputs": [],
   "source": [
    "import pandas as pd"
   ]
  },
  {
   "cell_type": "code",
   "execution_count": 244,
   "metadata": {
    "collapsed": true
   },
   "outputs": [],
   "source": [
    "x_data = np.linspace(0.0,10,1000000)"
   ]
  },
  {
   "cell_type": "code",
   "execution_count": 245,
   "metadata": {
    "collapsed": true
   },
   "outputs": [],
   "source": [
    "noise = np.random.randn(len(x_data))"
   ]
  },
  {
   "cell_type": "code",
   "execution_count": 249,
   "metadata": {},
   "outputs": [
    {
     "data": {
      "text/plain": [
       "array([ 1.13102858,  0.49860031,  1.17902193, ...,  1.22287437,\n",
       "        0.88768899,  1.2661491 ])"
      ]
     },
     "execution_count": 249,
     "metadata": {},
     "output_type": "execute_result"
    }
   ],
   "source": [
    "noise"
   ]
  },
  {
   "cell_type": "markdown",
   "metadata": {},
   "source": [
    "y = mx +b \n",
    "b = 5"
   ]
  },
  {
   "cell_type": "code",
   "execution_count": 250,
   "metadata": {
    "collapsed": true
   },
   "outputs": [],
   "source": [
    "y_true = (0.5 * x_data) + 5 + noise # slope 0.5, intercept 5"
   ]
  },
  {
   "cell_type": "code",
   "execution_count": 254,
   "metadata": {},
   "outputs": [],
   "source": [
    "x_df = pd.DataFrame(data=x_data, columns=['X data'])"
   ]
  },
  {
   "cell_type": "code",
   "execution_count": 255,
   "metadata": {
    "collapsed": true
   },
   "outputs": [],
   "source": [
    "y_df = pd.DataFrame(data=y_true, columns=['Y'])"
   ]
  },
  {
   "cell_type": "code",
   "execution_count": 256,
   "metadata": {},
   "outputs": [
    {
     "data": {
      "text/html": [
       "<div>\n",
       "<style>\n",
       "    .dataframe thead tr:only-child th {\n",
       "        text-align: right;\n",
       "    }\n",
       "\n",
       "    .dataframe thead th {\n",
       "        text-align: left;\n",
       "    }\n",
       "\n",
       "    .dataframe tbody tr th {\n",
       "        vertical-align: top;\n",
       "    }\n",
       "</style>\n",
       "<table border=\"1\" class=\"dataframe\">\n",
       "  <thead>\n",
       "    <tr style=\"text-align: right;\">\n",
       "      <th></th>\n",
       "      <th>X data</th>\n",
       "    </tr>\n",
       "  </thead>\n",
       "  <tbody>\n",
       "    <tr>\n",
       "      <th>0</th>\n",
       "      <td>0.00000</td>\n",
       "    </tr>\n",
       "    <tr>\n",
       "      <th>1</th>\n",
       "      <td>0.00001</td>\n",
       "    </tr>\n",
       "    <tr>\n",
       "      <th>2</th>\n",
       "      <td>0.00002</td>\n",
       "    </tr>\n",
       "    <tr>\n",
       "      <th>3</th>\n",
       "      <td>0.00003</td>\n",
       "    </tr>\n",
       "    <tr>\n",
       "      <th>4</th>\n",
       "      <td>0.00004</td>\n",
       "    </tr>\n",
       "  </tbody>\n",
       "</table>\n",
       "</div>"
      ],
      "text/plain": [
       "    X data\n",
       "0  0.00000\n",
       "1  0.00001\n",
       "2  0.00002\n",
       "3  0.00003\n",
       "4  0.00004"
      ]
     },
     "execution_count": 256,
     "metadata": {},
     "output_type": "execute_result"
    }
   ],
   "source": [
    "x_df.head()"
   ]
  },
  {
   "cell_type": "code",
   "execution_count": 257,
   "metadata": {},
   "outputs": [
    {
     "data": {
      "text/html": [
       "<div>\n",
       "<style>\n",
       "    .dataframe thead tr:only-child th {\n",
       "        text-align: right;\n",
       "    }\n",
       "\n",
       "    .dataframe thead th {\n",
       "        text-align: left;\n",
       "    }\n",
       "\n",
       "    .dataframe tbody tr th {\n",
       "        vertical-align: top;\n",
       "    }\n",
       "</style>\n",
       "<table border=\"1\" class=\"dataframe\">\n",
       "  <thead>\n",
       "    <tr style=\"text-align: right;\">\n",
       "      <th></th>\n",
       "      <th>Y</th>\n",
       "    </tr>\n",
       "  </thead>\n",
       "  <tbody>\n",
       "    <tr>\n",
       "      <th>0</th>\n",
       "      <td>6.131029</td>\n",
       "    </tr>\n",
       "    <tr>\n",
       "      <th>1</th>\n",
       "      <td>5.498605</td>\n",
       "    </tr>\n",
       "    <tr>\n",
       "      <th>2</th>\n",
       "      <td>6.179032</td>\n",
       "    </tr>\n",
       "    <tr>\n",
       "      <th>3</th>\n",
       "      <td>6.322699</td>\n",
       "    </tr>\n",
       "    <tr>\n",
       "      <th>4</th>\n",
       "      <td>6.852175</td>\n",
       "    </tr>\n",
       "  </tbody>\n",
       "</table>\n",
       "</div>"
      ],
      "text/plain": [
       "          Y\n",
       "0  6.131029\n",
       "1  5.498605\n",
       "2  6.179032\n",
       "3  6.322699\n",
       "4  6.852175"
      ]
     },
     "execution_count": 257,
     "metadata": {},
     "output_type": "execute_result"
    }
   ],
   "source": [
    "y_df.head()"
   ]
  },
  {
   "cell_type": "code",
   "execution_count": 258,
   "metadata": {
    "collapsed": true
   },
   "outputs": [],
   "source": [
    "my_data = pd.concat([x_df,y_df],axis=1)"
   ]
  },
  {
   "cell_type": "code",
   "execution_count": 259,
   "metadata": {},
   "outputs": [
    {
     "data": {
      "text/html": [
       "<div>\n",
       "<style>\n",
       "    .dataframe thead tr:only-child th {\n",
       "        text-align: right;\n",
       "    }\n",
       "\n",
       "    .dataframe thead th {\n",
       "        text-align: left;\n",
       "    }\n",
       "\n",
       "    .dataframe tbody tr th {\n",
       "        vertical-align: top;\n",
       "    }\n",
       "</style>\n",
       "<table border=\"1\" class=\"dataframe\">\n",
       "  <thead>\n",
       "    <tr style=\"text-align: right;\">\n",
       "      <th></th>\n",
       "      <th>X data</th>\n",
       "      <th>Y</th>\n",
       "    </tr>\n",
       "  </thead>\n",
       "  <tbody>\n",
       "    <tr>\n",
       "      <th>0</th>\n",
       "      <td>0.00000</td>\n",
       "      <td>6.131029</td>\n",
       "    </tr>\n",
       "    <tr>\n",
       "      <th>1</th>\n",
       "      <td>0.00001</td>\n",
       "      <td>5.498605</td>\n",
       "    </tr>\n",
       "    <tr>\n",
       "      <th>2</th>\n",
       "      <td>0.00002</td>\n",
       "      <td>6.179032</td>\n",
       "    </tr>\n",
       "    <tr>\n",
       "      <th>3</th>\n",
       "      <td>0.00003</td>\n",
       "      <td>6.322699</td>\n",
       "    </tr>\n",
       "    <tr>\n",
       "      <th>4</th>\n",
       "      <td>0.00004</td>\n",
       "      <td>6.852175</td>\n",
       "    </tr>\n",
       "  </tbody>\n",
       "</table>\n",
       "</div>"
      ],
      "text/plain": [
       "    X data         Y\n",
       "0  0.00000  6.131029\n",
       "1  0.00001  5.498605\n",
       "2  0.00002  6.179032\n",
       "3  0.00003  6.322699\n",
       "4  0.00004  6.852175"
      ]
     },
     "execution_count": 259,
     "metadata": {},
     "output_type": "execute_result"
    }
   ],
   "source": [
    "my_data.head()"
   ]
  },
  {
   "cell_type": "code",
   "execution_count": 260,
   "metadata": {},
   "outputs": [
    {
     "data": {
      "text/plain": [
       "<matplotlib.axes._subplots.AxesSubplot at 0x27be1ebd5f8>"
      ]
     },
     "execution_count": 260,
     "metadata": {},
     "output_type": "execute_result"
    },
    {
     "data": {
      "image/png": "[encoded data removed]",
      "text/plain": [
       "<matplotlib.figure.Figure at 0x27be1ebca20>"
      ]
     },
     "metadata": {},
     "output_type": "display_data"
    }
   ],
   "source": [
    "my_data.sample(n=250).plot(kind='scatter', x='X data', y='Y')"
   ]
  },
  {
   "cell_type": "markdown",
   "metadata": {},
   "source": [
    "### Now, using tensorflow!"
   ]
  },
  {
   "cell_type": "code",
   "execution_count": 263,
   "metadata": {
    "collapsed": true
   },
   "outputs": [],
   "source": [
    "batch_size = 10"
   ]
  },
  {
   "cell_type": "code",
   "execution_count": 276,
   "metadata": {},
   "outputs": [
    {
     "data": {
      "text/plain": [
       "array([-0.31340844,  0.19262686])"
      ]
     },
     "execution_count": 276,
     "metadata": {},
     "output_type": "execute_result"
    }
   ],
   "source": [
    "np.random.randn(2)"
   ]
  },
  {
   "cell_type": "code",
   "execution_count": 277,
   "metadata": {
    "collapsed": true
   },
   "outputs": [],
   "source": [
    "m = tf.Variable(0.031)\n",
    "b = tf.Variable(0.192)"
   ]
  },
  {
   "cell_type": "code",
   "execution_count": 278,
   "metadata": {
    "collapsed": true
   },
   "outputs": [],
   "source": [
    "xph = tf.placeholder(tf.float32,[batch_size])\n",
    "yph = tf.placeholder(tf.float32,[batch_size])"
   ]
  },
  {
   "cell_type": "code",
   "execution_count": 279,
   "metadata": {
    "collapsed": true
   },
   "outputs": [],
   "source": [
    "# model\n",
    "y_model = m * xph + b"
   ]
  },
  {
   "cell_type": "code",
   "execution_count": 280,
   "metadata": {
    "collapsed": true
   },
   "outputs": [],
   "source": [
    "#loss function\n",
    "error = tf.reduce_sum(tf.square(yph-y_model))"
   ]
  },
  {
   "cell_type": "code",
   "execution_count": 281,
   "metadata": {
    "collapsed": true
   },
   "outputs": [],
   "source": [
    "# optimizer\n",
    "optimizer = tf.train.GradientDescentOptimizer(learning_rate=0.001)\n",
    "train = optimizer.minimize(error)"
   ]
  },
  {
   "cell_type": "code",
   "execution_count": 282,
   "metadata": {
    "collapsed": true
   },
   "outputs": [],
   "source": [
    "# session\n",
    "init = tf.global_variables_initializer()"
   ]
  },
  {
   "cell_type": "code",
   "execution_count": 288,
   "metadata": {},
   "outputs": [],
   "source": [
    "with tf.Session() as sess:\n",
    "    \n",
    "    sess.run(init)\n",
    "    \n",
    "    # 100 batches of 8 random observations\n",
    "    batches = 10000\n",
    "    \n",
    "    for i in range(batches):\n",
    "        rand_ind = np.random.randint(len(x_data), size=batch_size)\n",
    "        \n",
    "        feed = {xph:x_data[rand_ind], yph:y_true[rand_ind]}\n",
    "        \n",
    "        sess.run(train, feed_dict=feed)\n",
    "        \n",
    "    # predicted, slope and intercept\n",
    "    model_m, model_b = sess.run([m,b])"
   ]
  },
  {
   "cell_type": "code",
   "execution_count": 289,
   "metadata": {},
   "outputs": [
    {
     "data": {
      "text/plain": [
       "0.5392682"
      ]
     },
     "execution_count": 289,
     "metadata": {},
     "output_type": "execute_result"
    }
   ],
   "source": [
    "model_m"
   ]
  },
  {
   "cell_type": "code",
   "execution_count": 290,
   "metadata": {},
   "outputs": [
    {
     "data": {
      "text/plain": [
       "4.9541402"
      ]
     },
     "execution_count": 290,
     "metadata": {},
     "output_type": "execute_result"
    }
   ],
   "source": [
    "model_b"
   ]
  },
  {
   "cell_type": "code",
   "execution_count": 291,
   "metadata": {
    "collapsed": true
   },
   "outputs": [],
   "source": [
    "y_hat = x_data * model_m + model_b"
   ]
  },
  {
   "cell_type": "code",
   "execution_count": 292,
   "metadata": {},
   "outputs": [
    {
     "data": {
      "text/plain": [
       "[<matplotlib.lines.Line2D at 0x27bdecd78d0>]"
      ]
     },
     "execution_count": 292,
     "metadata": {},
     "output_type": "execute_result"
    },
    {
     "data": {
      "image/png": "[encoded data removed]",
      "text/plain": [
       "<matplotlib.figure.Figure at 0x27bdfcf3a58>"
      ]
     },
     "metadata": {},
     "output_type": "display_data"
    }
   ],
   "source": [
    "my_data.sample(250).plot(kind='scatter', x='X data', y='Y')\n",
    "plt.plot(x_data, y_hat,'r')"
   ]
  },
  {
   "cell_type": "markdown",
   "metadata": {},
   "source": [
    "## Using TensorFlow Estimator API\n",
    "\n",
    "* LinearClassifiar\n",
    "* LinearRegressor\n",
    "* DNNClassifier\n",
    "* DNNRegressor\n",
    "\n",
    "In general:\n",
    "* Define list of feature columns\n",
    "* Create estimator model\n",
    "* Create data input function (numpy array, pandas dataframe)\n",
    "* call train, evaluate and predict methods on the estimator object"
   ]
  },
  {
   "cell_type": "code",
   "execution_count": 293,
   "metadata": {
    "collapsed": true
   },
   "outputs": [],
   "source": [
    "# Feature column\n",
    "feat_cols = [ tf.feature_column.numeric_column('x',shape=[1]) ]"
   ]
  },
  {
   "cell_type": "code",
   "execution_count": 294,
   "metadata": {},
   "outputs": [
    {
     "name": "stdout",
     "output_type": "stream",
     "text": [
      "INFO:tensorflow:Using default config.\n",
      "WARNING:tensorflow:Using temporary folder as model directory: C:\\Users\\FRKSTE~1\\AppData\\Local\\Temp\\tmpvxfqtjt1\n",
      "INFO:tensorflow:Using config: {'_model_dir': 'C:\\\\Users\\\\FRKSTE~1\\\\AppData\\\\Local\\\\Temp\\\\tmpvxfqtjt1', '_log_step_count_steps': 100, '_tf_random_seed': 1, '_keep_checkpoint_every_n_hours': 10000, '_save_checkpoints_steps': None, '_keep_checkpoint_max': 5, '_save_summary_steps': 100, '_session_config': None, '_save_checkpoints_secs': 600}\n"
     ]
    }
   ],
   "source": [
    "estimator = tf.estimator.LinearRegressor(feature_columns=feat_cols)"
   ]
  },
  {
   "cell_type": "code",
   "execution_count": 295,
   "metadata": {
    "collapsed": true
   },
   "outputs": [],
   "source": [
    "from sklearn.model_selection import train_test_split"
   ]
  },
  {
   "cell_type": "code",
   "execution_count": 296,
   "metadata": {
    "collapsed": true
   },
   "outputs": [],
   "source": [
    "x_train, x_eval, y_train, y_eval = train_test_split(x_data, y_true, test_size=0.3, random_state=101)"
   ]
  },
  {
   "cell_type": "code",
   "execution_count": 298,
   "metadata": {},
   "outputs": [
    {
     "name": "stdout",
     "output_type": "stream",
     "text": [
      "(700000,)\n"
     ]
    }
   ],
   "source": [
    "print(x_train.shape)"
   ]
  },
  {
   "cell_type": "code",
   "execution_count": 299,
   "metadata": {},
   "outputs": [
    {
     "data": {
      "text/plain": [
       "(300000,)"
      ]
     },
     "execution_count": 299,
     "metadata": {},
     "output_type": "execute_result"
    }
   ],
   "source": [
    "x_eval.shape"
   ]
  },
  {
   "cell_type": "code",
   "execution_count": 300,
   "metadata": {
    "collapsed": true
   },
   "outputs": [],
   "source": [
    "# estimator inputs\n",
    "# input function = feed dict + batch size indicator all at once\n",
    "input_func = tf.estimator.inputs.numpy_input_fn({'x':x_train},y_train, batch_size=8,num_epochs=None,shuffle=True)"
   ]
  },
  {
   "cell_type": "code",
   "execution_count": 301,
   "metadata": {
    "collapsed": true
   },
   "outputs": [],
   "source": [
    "train_input_func = tf.estimator.inputs.numpy_input_fn({'x':x_train},y_train, batch_size=8,num_epochs=1000,shuffle=False)"
   ]
  },
  {
   "cell_type": "code",
   "execution_count": 302,
   "metadata": {
    "collapsed": true
   },
   "outputs": [],
   "source": [
    "eval_input_func = tf.estimator.inputs.numpy_input_fn({'x':x_eval},y_eval, batch_size=8,num_epochs=1000,shuffle=False)"
   ]
  },
  {
   "cell_type": "code",
   "execution_count": 303,
   "metadata": {},
   "outputs": [
    {
     "name": "stdout",
     "output_type": "stream",
     "text": [
      "INFO:tensorflow:Create CheckpointSaverHook.\n",
      "INFO:tensorflow:Saving checkpoints for 1 into C:\\Users\\FRKSTE~1\\AppData\\Local\\Temp\\tmpvxfqtjt1\\model.ckpt.\n",
      "INFO:tensorflow:loss = 393.719, step = 1\n",
      "INFO:tensorflow:global_step/sec: 380.661\n",
      "INFO:tensorflow:loss = 11.7956, step = 101 (0.269 sec)\n",
      "INFO:tensorflow:global_step/sec: 606.31\n",
      "INFO:tensorflow:loss = 17.4181, step = 201 (0.165 sec)\n",
      "INFO:tensorflow:global_step/sec: 617.55\n",
      "INFO:tensorflow:loss = 16.2593, step = 301 (0.157 sec)\n",
      "INFO:tensorflow:global_step/sec: 595.428\n",
      "INFO:tensorflow:loss = 15.892, step = 401 (0.168 sec)\n",
      "INFO:tensorflow:global_step/sec: 519.425\n",
      "INFO:tensorflow:loss = 11.803, step = 501 (0.193 sec)\n",
      "INFO:tensorflow:global_step/sec: 576.526\n",
      "INFO:tensorflow:loss = 25.8919, step = 601 (0.173 sec)\n",
      "INFO:tensorflow:global_step/sec: 568.274\n",
      "INFO:tensorflow:loss = 4.98544, step = 701 (0.176 sec)\n",
      "INFO:tensorflow:global_step/sec: 608.143\n",
      "INFO:tensorflow:loss = 6.65579, step = 801 (0.164 sec)\n",
      "INFO:tensorflow:global_step/sec: 586.662\n",
      "INFO:tensorflow:loss = 14.2232, step = 901 (0.170 sec)\n",
      "INFO:tensorflow:Saving checkpoints for 1000 into C:\\Users\\FRKSTE~1\\AppData\\Local\\Temp\\tmpvxfqtjt1\\model.ckpt.\n",
      "INFO:tensorflow:Loss for final step: 16.6824.\n"
     ]
    },
    {
     "data": {
      "text/plain": [
       "<tensorflow.python.estimator.canned.linear.LinearRegressor at 0x27be2187748>"
      ]
     },
     "execution_count": 303,
     "metadata": {},
     "output_type": "execute_result"
    }
   ],
   "source": [
    "# train estimtor\n",
    "estimator.train(input_fn=input_func, steps=1000)"
   ]
  },
  {
   "cell_type": "code",
   "execution_count": 304,
   "metadata": {},
   "outputs": [
    {
     "name": "stdout",
     "output_type": "stream",
     "text": [
      "INFO:tensorflow:Starting evaluation at 2018-05-17-08:02:26\n",
      "INFO:tensorflow:Restoring parameters from C:\\Users\\FRKSTE~1\\AppData\\Local\\Temp\\tmpvxfqtjt1\\model.ckpt-1000\n",
      "INFO:tensorflow:Evaluation [1/1000]\n",
      "INFO:tensorflow:Evaluation [2/1000]\n",
      "INFO:tensorflow:Evaluation [3/1000]\n",
      "INFO:tensorflow:Evaluation [4/1000]\n",
      "INFO:tensorflow:Evaluation [5/1000]\n",
      "INFO:tensorflow:Evaluation [6/1000]\n",
      "INFO:tensorflow:Evaluation [7/1000]\n",
      "INFO:tensorflow:Evaluation [8/1000]\n",
      "INFO:tensorflow:Evaluation [9/1000]\n",
      "INFO:tensorflow:Evaluation [10/1000]\n",
      "INFO:tensorflow:Evaluation [11/1000]\n",
      "INFO:tensorflow:Evaluation [12/1000]\n",
      "INFO:tensorflow:Evaluation [13/1000]\n",
      "INFO:tensorflow:Evaluation [14/1000]\n",
      "INFO:tensorflow:Evaluation [15/1000]\n",
      "INFO:tensorflow:Evaluation [16/1000]\n",
      "INFO:tensorflow:Evaluation [17/1000]\n",
      "INFO:tensorflow:Evaluation [18/1000]\n",
      "INFO:tensorflow:Evaluation [19/1000]\n",
      "INFO:tensorflow:Evaluation [20/1000]\n",
      "INFO:tensorflow:Evaluation [21/1000]\n",
      "INFO:tensorflow:Evaluation [22/1000]\n",
      "INFO:tensorflow:Evaluation [23/1000]\n",
      "INFO:tensorflow:Evaluation [24/1000]\n",
      "INFO:tensorflow:Evaluation [25/1000]\n",
      "INFO:tensorflow:Evaluation [26/1000]\n",
      "INFO:tensorflow:Evaluation [27/1000]\n",
      "INFO:tensorflow:Evaluation [28/1000]\n",
      "INFO:tensorflow:Evaluation [29/1000]\n",
      "INFO:tensorflow:Evaluation [30/1000]\n",
      "INFO:tensorflow:Evaluation [31/1000]\n",
      "INFO:tensorflow:Evaluation [32/1000]\n",
      "INFO:tensorflow:Evaluation [33/1000]\n",
      "INFO:tensorflow:Evaluation [34/1000]\n",
      "INFO:tensorflow:Evaluation [35/1000]\n",
      "INFO:tensorflow:Evaluation [36/1000]\n",
      "INFO:tensorflow:Evaluation [37/1000]\n",
      "INFO:tensorflow:Evaluation [38/1000]\n",
      "INFO:tensorflow:Evaluation [39/1000]\n",
      "INFO:tensorflow:Evaluation [40/1000]\n",
      "INFO:tensorflow:Evaluation [41/1000]\n",
      "INFO:tensorflow:Evaluation [42/1000]\n",
      "INFO:tensorflow:Evaluation [43/1000]\n",
      "INFO:tensorflow:Evaluation [44/1000]\n",
      "INFO:tensorflow:Evaluation [45/1000]\n",
      "INFO:tensorflow:Evaluation [46/1000]\n",
      "INFO:tensorflow:Evaluation [47/1000]\n",
      "INFO:tensorflow:Evaluation [48/1000]\n",
      "INFO:tensorflow:Evaluation [49/1000]\n",
      "INFO:tensorflow:Evaluation [50/1000]\n",
      "INFO:tensorflow:Evaluation [51/1000]\n",
      "INFO:tensorflow:Evaluation [52/1000]\n",
      "INFO:tensorflow:Evaluation [53/1000]\n",
      "INFO:tensorflow:Evaluation [54/1000]\n",
      "INFO:tensorflow:Evaluation [55/1000]\n",
      "INFO:tensorflow:Evaluation [56/1000]\n",
      "INFO:tensorflow:Evaluation [57/1000]\n",
      "INFO:tensorflow:Evaluation [58/1000]\n",
      "INFO:tensorflow:Evaluation [59/1000]\n",
      "INFO:tensorflow:Evaluation [60/1000]\n",
      "INFO:tensorflow:Evaluation [61/1000]\n",
      "INFO:tensorflow:Evaluation [62/1000]\n",
      "INFO:tensorflow:Evaluation [63/1000]\n",
      "INFO:tensorflow:Evaluation [64/1000]\n",
      "INFO:tensorflow:Evaluation [65/1000]\n",
      "INFO:tensorflow:Evaluation [66/1000]\n",
      "INFO:tensorflow:Evaluation [67/1000]\n",
      "INFO:tensorflow:Evaluation [68/1000]\n",
      "INFO:tensorflow:Evaluation [69/1000]\n",
      "INFO:tensorflow:Evaluation [70/1000]\n",
      "INFO:tensorflow:Evaluation [71/1000]\n",
      "INFO:tensorflow:Evaluation [72/1000]\n",
      "INFO:tensorflow:Evaluation [73/1000]\n",
      "INFO:tensorflow:Evaluation [74/1000]\n",
      "INFO:tensorflow:Evaluation [75/1000]\n",
      "INFO:tensorflow:Evaluation [76/1000]\n",
      "INFO:tensorflow:Evaluation [77/1000]\n",
      "INFO:tensorflow:Evaluation [78/1000]\n",
      "INFO:tensorflow:Evaluation [79/1000]\n",
      "INFO:tensorflow:Evaluation [80/1000]\n",
      "INFO:tensorflow:Evaluation [81/1000]\n",
      "INFO:tensorflow:Evaluation [82/1000]\n",
      "INFO:tensorflow:Evaluation [83/1000]\n",
      "INFO:tensorflow:Evaluation [84/1000]\n",
      "INFO:tensorflow:Evaluation [85/1000]\n",
      "INFO:tensorflow:Evaluation [86/1000]\n",
      "INFO:tensorflow:Evaluation [87/1000]\n",
      "INFO:tensorflow:Evaluation [88/1000]\n",
      "INFO:tensorflow:Evaluation [89/1000]\n",
      "INFO:tensorflow:Evaluation [90/1000]\n",
      "INFO:tensorflow:Evaluation [91/1000]\n",
      "INFO:tensorflow:Evaluation [92/1000]\n",
      "INFO:tensorflow:Evaluation [93/1000]\n",
      "INFO:tensorflow:Evaluation [94/1000]\n",
      "INFO:tensorflow:Evaluation [95/1000]\n",
      "INFO:tensorflow:Evaluation [96/1000]\n",
      "INFO:tensorflow:Evaluation [97/1000]\n",
      "INFO:tensorflow:Evaluation [98/1000]\n",
      "INFO:tensorflow:Evaluation [99/1000]\n",
      "INFO:tensorflow:Evaluation [100/1000]\n",
      "INFO:tensorflow:Evaluation [101/1000]\n",
      "INFO:tensorflow:Evaluation [102/1000]\n",
      "INFO:tensorflow:Evaluation [103/1000]\n",
      "INFO:tensorflow:Evaluation [104/1000]\n",
      "INFO:tensorflow:Evaluation [105/1000]\n",
      "INFO:tensorflow:Evaluation [106/1000]\n",
      "INFO:tensorflow:Evaluation [107/1000]\n",
      "INFO:tensorflow:Evaluation [108/1000]\n",
      "INFO:tensorflow:Evaluation [109/1000]\n",
      "INFO:tensorflow:Evaluation [110/1000]\n",
      "INFO:tensorflow:Evaluation [111/1000]\n",
      "INFO:tensorflow:Evaluation [112/1000]\n",
      "INFO:tensorflow:Evaluation [113/1000]\n",
      "INFO:tensorflow:Evaluation [114/1000]\n",
      "INFO:tensorflow:Evaluation [115/1000]\n",
      "INFO:tensorflow:Evaluation [116/1000]\n",
      "INFO:tensorflow:Evaluation [117/1000]\n",
      "INFO:tensorflow:Evaluation [118/1000]\n",
      "INFO:tensorflow:Evaluation [119/1000]\n",
      "INFO:tensorflow:Evaluation [120/1000]\n",
      "INFO:tensorflow:Evaluation [121/1000]\n",
      "INFO:tensorflow:Evaluation [122/1000]\n",
      "INFO:tensorflow:Evaluation [123/1000]\n",
      "INFO:tensorflow:Evaluation [124/1000]\n",
      "INFO:tensorflow:Evaluation [125/1000]\n",
      "INFO:tensorflow:Evaluation [126/1000]\n",
      "INFO:tensorflow:Evaluation [127/1000]\n",
      "INFO:tensorflow:Evaluation [128/1000]\n",
      "INFO:tensorflow:Evaluation [129/1000]\n",
      "INFO:tensorflow:Evaluation [130/1000]\n",
      "INFO:tensorflow:Evaluation [131/1000]\n",
      "INFO:tensorflow:Evaluation [132/1000]\n",
      "INFO:tensorflow:Evaluation [133/1000]\n",
      "INFO:tensorflow:Evaluation [134/1000]\n",
      "INFO:tensorflow:Evaluation [135/1000]\n",
      "INFO:tensorflow:Evaluation [136/1000]\n",
      "INFO:tensorflow:Evaluation [137/1000]\n",
      "INFO:tensorflow:Evaluation [138/1000]\n",
      "INFO:tensorflow:Evaluation [139/1000]\n",
      "INFO:tensorflow:Evaluation [140/1000]\n",
      "INFO:tensorflow:Evaluation [141/1000]\n",
      "INFO:tensorflow:Evaluation [142/1000]\n",
      "INFO:tensorflow:Evaluation [143/1000]\n",
      "INFO:tensorflow:Evaluation [144/1000]\n",
      "INFO:tensorflow:Evaluation [145/1000]\n",
      "INFO:tensorflow:Evaluation [146/1000]\n",
      "INFO:tensorflow:Evaluation [147/1000]\n",
      "INFO:tensorflow:Evaluation [148/1000]\n",
      "INFO:tensorflow:Evaluation [149/1000]\n",
      "INFO:tensorflow:Evaluation [150/1000]\n",
      "INFO:tensorflow:Evaluation [151/1000]\n",
      "INFO:tensorflow:Evaluation [152/1000]\n",
      "INFO:tensorflow:Evaluation [153/1000]\n",
      "INFO:tensorflow:Evaluation [154/1000]\n",
      "INFO:tensorflow:Evaluation [155/1000]\n",
      "INFO:tensorflow:Evaluation [156/1000]\n",
      "INFO:tensorflow:Evaluation [157/1000]\n",
      "INFO:tensorflow:Evaluation [158/1000]\n",
      "INFO:tensorflow:Evaluation [159/1000]\n",
      "INFO:tensorflow:Evaluation [160/1000]\n",
      "INFO:tensorflow:Evaluation [161/1000]\n",
      "INFO:tensorflow:Evaluation [162/1000]\n",
      "INFO:tensorflow:Evaluation [163/1000]\n",
      "INFO:tensorflow:Evaluation [164/1000]\n",
      "INFO:tensorflow:Evaluation [165/1000]\n",
      "INFO:tensorflow:Evaluation [166/1000]\n",
      "INFO:tensorflow:Evaluation [167/1000]\n",
      "INFO:tensorflow:Evaluation [168/1000]\n",
      "INFO:tensorflow:Evaluation [169/1000]\n",
      "INFO:tensorflow:Evaluation [170/1000]\n",
      "INFO:tensorflow:Evaluation [171/1000]\n",
      "INFO:tensorflow:Evaluation [172/1000]\n",
      "INFO:tensorflow:Evaluation [173/1000]\n",
      "INFO:tensorflow:Evaluation [174/1000]\n",
      "INFO:tensorflow:Evaluation [175/1000]\n",
      "INFO:tensorflow:Evaluation [176/1000]\n",
      "INFO:tensorflow:Evaluation [177/1000]\n",
      "INFO:tensorflow:Evaluation [178/1000]\n",
      "INFO:tensorflow:Evaluation [179/1000]\n",
      "INFO:tensorflow:Evaluation [180/1000]\n",
      "INFO:tensorflow:Evaluation [181/1000]\n",
      "INFO:tensorflow:Evaluation [182/1000]\n",
      "INFO:tensorflow:Evaluation [183/1000]\n",
      "INFO:tensorflow:Evaluation [184/1000]\n",
      "INFO:tensorflow:Evaluation [185/1000]\n",
      "INFO:tensorflow:Evaluation [186/1000]\n",
      "INFO:tensorflow:Evaluation [187/1000]\n",
      "INFO:tensorflow:Evaluation [188/1000]\n",
      "INFO:tensorflow:Evaluation [189/1000]\n",
      "INFO:tensorflow:Evaluation [190/1000]\n",
      "INFO:tensorflow:Evaluation [191/1000]\n",
      "INFO:tensorflow:Evaluation [192/1000]\n",
      "INFO:tensorflow:Evaluation [193/1000]\n",
      "INFO:tensorflow:Evaluation [194/1000]\n",
      "INFO:tensorflow:Evaluation [195/1000]\n",
      "INFO:tensorflow:Evaluation [196/1000]\n",
      "INFO:tensorflow:Evaluation [197/1000]\n",
      "INFO:tensorflow:Evaluation [198/1000]\n",
      "INFO:tensorflow:Evaluation [199/1000]\n",
      "INFO:tensorflow:Evaluation [200/1000]\n",
      "INFO:tensorflow:Evaluation [201/1000]\n",
      "INFO:tensorflow:Evaluation [202/1000]\n",
      "INFO:tensorflow:Evaluation [203/1000]\n",
      "INFO:tensorflow:Evaluation [204/1000]\n",
      "INFO:tensorflow:Evaluation [205/1000]\n",
      "INFO:tensorflow:Evaluation [206/1000]\n",
      "INFO:tensorflow:Evaluation [207/1000]\n",
      "INFO:tensorflow:Evaluation [208/1000]\n",
      "INFO:tensorflow:Evaluation [209/1000]\n",
      "INFO:tensorflow:Evaluation [210/1000]\n",
      "INFO:tensorflow:Evaluation [211/1000]\n",
      "INFO:tensorflow:Evaluation [212/1000]\n",
      "INFO:tensorflow:Evaluation [213/1000]\n",
      "INFO:tensorflow:Evaluation [214/1000]\n"
     ]
    },
    {
     "name": "stdout",
     "output_type": "stream",
     "text": [
      "INFO:tensorflow:Evaluation [215/1000]\n",
      "INFO:tensorflow:Evaluation [216/1000]\n",
      "INFO:tensorflow:Evaluation [217/1000]\n",
      "INFO:tensorflow:Evaluation [218/1000]\n",
      "INFO:tensorflow:Evaluation [219/1000]\n",
      "INFO:tensorflow:Evaluation [220/1000]\n",
      "INFO:tensorflow:Evaluation [221/1000]\n",
      "INFO:tensorflow:Evaluation [222/1000]\n",
      "INFO:tensorflow:Evaluation [223/1000]\n",
      "INFO:tensorflow:Evaluation [224/1000]\n",
      "INFO:tensorflow:Evaluation [225/1000]\n",
      "INFO:tensorflow:Evaluation [226/1000]\n",
      "INFO:tensorflow:Evaluation [227/1000]\n",
      "INFO:tensorflow:Evaluation [228/1000]\n",
      "INFO:tensorflow:Evaluation [229/1000]\n",
      "INFO:tensorflow:Evaluation [230/1000]\n",
      "INFO:tensorflow:Evaluation [231/1000]\n",
      "INFO:tensorflow:Evaluation [232/1000]\n",
      "INFO:tensorflow:Evaluation [233/1000]\n",
      "INFO:tensorflow:Evaluation [234/1000]\n",
      "INFO:tensorflow:Evaluation [235/1000]\n",
      "INFO:tensorflow:Evaluation [236/1000]\n",
      "INFO:tensorflow:Evaluation [237/1000]\n",
      "INFO:tensorflow:Evaluation [238/1000]\n",
      "INFO:tensorflow:Evaluation [239/1000]\n",
      "INFO:tensorflow:Evaluation [240/1000]\n",
      "INFO:tensorflow:Evaluation [241/1000]\n",
      "INFO:tensorflow:Evaluation [242/1000]\n",
      "INFO:tensorflow:Evaluation [243/1000]\n",
      "INFO:tensorflow:Evaluation [244/1000]\n",
      "INFO:tensorflow:Evaluation [245/1000]\n",
      "INFO:tensorflow:Evaluation [246/1000]\n",
      "INFO:tensorflow:Evaluation [247/1000]\n",
      "INFO:tensorflow:Evaluation [248/1000]\n",
      "INFO:tensorflow:Evaluation [249/1000]\n",
      "INFO:tensorflow:Evaluation [250/1000]\n",
      "INFO:tensorflow:Evaluation [251/1000]\n",
      "INFO:tensorflow:Evaluation [252/1000]\n",
      "INFO:tensorflow:Evaluation [253/1000]\n",
      "INFO:tensorflow:Evaluation [254/1000]\n",
      "INFO:tensorflow:Evaluation [255/1000]\n",
      "INFO:tensorflow:Evaluation [256/1000]\n",
      "INFO:tensorflow:Evaluation [257/1000]\n",
      "INFO:tensorflow:Evaluation [258/1000]\n",
      "INFO:tensorflow:Evaluation [259/1000]\n",
      "INFO:tensorflow:Evaluation [260/1000]\n",
      "INFO:tensorflow:Evaluation [261/1000]\n",
      "INFO:tensorflow:Evaluation [262/1000]\n",
      "INFO:tensorflow:Evaluation [263/1000]\n",
      "INFO:tensorflow:Evaluation [264/1000]\n",
      "INFO:tensorflow:Evaluation [265/1000]\n",
      "INFO:tensorflow:Evaluation [266/1000]\n",
      "INFO:tensorflow:Evaluation [267/1000]\n",
      "INFO:tensorflow:Evaluation [268/1000]\n",
      "INFO:tensorflow:Evaluation [269/1000]\n",
      "INFO:tensorflow:Evaluation [270/1000]\n",
      "INFO:tensorflow:Evaluation [271/1000]\n",
      "INFO:tensorflow:Evaluation [272/1000]\n",
      "INFO:tensorflow:Evaluation [273/1000]\n",
      "INFO:tensorflow:Evaluation [274/1000]\n",
      "INFO:tensorflow:Evaluation [275/1000]\n",
      "INFO:tensorflow:Evaluation [276/1000]\n",
      "INFO:tensorflow:Evaluation [277/1000]\n",
      "INFO:tensorflow:Evaluation [278/1000]\n",
      "INFO:tensorflow:Evaluation [279/1000]\n",
      "INFO:tensorflow:Evaluation [280/1000]\n",
      "INFO:tensorflow:Evaluation [281/1000]\n",
      "INFO:tensorflow:Evaluation [282/1000]\n",
      "INFO:tensorflow:Evaluation [283/1000]\n",
      "INFO:tensorflow:Evaluation [284/1000]\n",
      "INFO:tensorflow:Evaluation [285/1000]\n",
      "INFO:tensorflow:Evaluation [286/1000]\n",
      "INFO:tensorflow:Evaluation [287/1000]\n",
      "INFO:tensorflow:Evaluation [288/1000]\n",
      "INFO:tensorflow:Evaluation [289/1000]\n",
      "INFO:tensorflow:Evaluation [290/1000]\n",
      "INFO:tensorflow:Evaluation [291/1000]\n",
      "INFO:tensorflow:Evaluation [292/1000]\n",
      "INFO:tensorflow:Evaluation [293/1000]\n",
      "INFO:tensorflow:Evaluation [294/1000]\n",
      "INFO:tensorflow:Evaluation [295/1000]\n",
      "INFO:tensorflow:Evaluation [296/1000]\n",
      "INFO:tensorflow:Evaluation [297/1000]\n",
      "INFO:tensorflow:Evaluation [298/1000]\n",
      "INFO:tensorflow:Evaluation [299/1000]\n",
      "INFO:tensorflow:Evaluation [300/1000]\n",
      "INFO:tensorflow:Evaluation [301/1000]\n",
      "INFO:tensorflow:Evaluation [302/1000]\n",
      "INFO:tensorflow:Evaluation [303/1000]\n",
      "INFO:tensorflow:Evaluation [304/1000]\n",
      "INFO:tensorflow:Evaluation [305/1000]\n",
      "INFO:tensorflow:Evaluation [306/1000]\n",
      "INFO:tensorflow:Evaluation [307/1000]\n",
      "INFO:tensorflow:Evaluation [308/1000]\n",
      "INFO:tensorflow:Evaluation [309/1000]\n",
      "INFO:tensorflow:Evaluation [310/1000]\n",
      "INFO:tensorflow:Evaluation [311/1000]\n",
      "INFO:tensorflow:Evaluation [312/1000]\n",
      "INFO:tensorflow:Evaluation [313/1000]\n",
      "INFO:tensorflow:Evaluation [314/1000]\n",
      "INFO:tensorflow:Evaluation [315/1000]\n",
      "INFO:tensorflow:Evaluation [316/1000]\n",
      "INFO:tensorflow:Evaluation [317/1000]\n",
      "INFO:tensorflow:Evaluation [318/1000]\n",
      "INFO:tensorflow:Evaluation [319/1000]\n",
      "INFO:tensorflow:Evaluation [320/1000]\n",
      "INFO:tensorflow:Evaluation [321/1000]\n",
      "INFO:tensorflow:Evaluation [322/1000]\n",
      "INFO:tensorflow:Evaluation [323/1000]\n",
      "INFO:tensorflow:Evaluation [324/1000]\n",
      "INFO:tensorflow:Evaluation [325/1000]\n",
      "INFO:tensorflow:Evaluation [326/1000]\n",
      "INFO:tensorflow:Evaluation [327/1000]\n",
      "INFO:tensorflow:Evaluation [328/1000]\n",
      "INFO:tensorflow:Evaluation [329/1000]\n",
      "INFO:tensorflow:Evaluation [330/1000]\n",
      "INFO:tensorflow:Evaluation [331/1000]\n",
      "INFO:tensorflow:Evaluation [332/1000]\n",
      "INFO:tensorflow:Evaluation [333/1000]\n",
      "INFO:tensorflow:Evaluation [334/1000]\n",
      "INFO:tensorflow:Evaluation [335/1000]\n",
      "INFO:tensorflow:Evaluation [336/1000]\n",
      "INFO:tensorflow:Evaluation [337/1000]\n",
      "INFO:tensorflow:Evaluation [338/1000]\n",
      "INFO:tensorflow:Evaluation [339/1000]\n",
      "INFO:tensorflow:Evaluation [340/1000]\n",
      "INFO:tensorflow:Evaluation [341/1000]\n",
      "INFO:tensorflow:Evaluation [342/1000]\n",
      "INFO:tensorflow:Evaluation [343/1000]\n",
      "INFO:tensorflow:Evaluation [344/1000]\n",
      "INFO:tensorflow:Evaluation [345/1000]\n",
      "INFO:tensorflow:Evaluation [346/1000]\n",
      "INFO:tensorflow:Evaluation [347/1000]\n",
      "INFO:tensorflow:Evaluation [348/1000]\n",
      "INFO:tensorflow:Evaluation [349/1000]\n",
      "INFO:tensorflow:Evaluation [350/1000]\n",
      "INFO:tensorflow:Evaluation [351/1000]\n",
      "INFO:tensorflow:Evaluation [352/1000]\n",
      "INFO:tensorflow:Evaluation [353/1000]\n",
      "INFO:tensorflow:Evaluation [354/1000]\n",
      "INFO:tensorflow:Evaluation [355/1000]\n",
      "INFO:tensorflow:Evaluation [356/1000]\n",
      "INFO:tensorflow:Evaluation [357/1000]\n",
      "INFO:tensorflow:Evaluation [358/1000]\n",
      "INFO:tensorflow:Evaluation [359/1000]\n",
      "INFO:tensorflow:Evaluation [360/1000]\n",
      "INFO:tensorflow:Evaluation [361/1000]\n",
      "INFO:tensorflow:Evaluation [362/1000]\n",
      "INFO:tensorflow:Evaluation [363/1000]\n",
      "INFO:tensorflow:Evaluation [364/1000]\n",
      "INFO:tensorflow:Evaluation [365/1000]\n",
      "INFO:tensorflow:Evaluation [366/1000]\n",
      "INFO:tensorflow:Evaluation [367/1000]\n",
      "INFO:tensorflow:Evaluation [368/1000]\n",
      "INFO:tensorflow:Evaluation [369/1000]\n",
      "INFO:tensorflow:Evaluation [370/1000]\n",
      "INFO:tensorflow:Evaluation [371/1000]\n",
      "INFO:tensorflow:Evaluation [372/1000]\n",
      "INFO:tensorflow:Evaluation [373/1000]\n",
      "INFO:tensorflow:Evaluation [374/1000]\n",
      "INFO:tensorflow:Evaluation [375/1000]\n",
      "INFO:tensorflow:Evaluation [376/1000]\n",
      "INFO:tensorflow:Evaluation [377/1000]\n",
      "INFO:tensorflow:Evaluation [378/1000]\n",
      "INFO:tensorflow:Evaluation [379/1000]\n",
      "INFO:tensorflow:Evaluation [380/1000]\n",
      "INFO:tensorflow:Evaluation [381/1000]\n",
      "INFO:tensorflow:Evaluation [382/1000]\n",
      "INFO:tensorflow:Evaluation [383/1000]\n",
      "INFO:tensorflow:Evaluation [384/1000]\n",
      "INFO:tensorflow:Evaluation [385/1000]\n",
      "INFO:tensorflow:Evaluation [386/1000]\n",
      "INFO:tensorflow:Evaluation [387/1000]\n",
      "INFO:tensorflow:Evaluation [388/1000]\n",
      "INFO:tensorflow:Evaluation [389/1000]\n",
      "INFO:tensorflow:Evaluation [390/1000]\n",
      "INFO:tensorflow:Evaluation [391/1000]\n",
      "INFO:tensorflow:Evaluation [392/1000]\n",
      "INFO:tensorflow:Evaluation [393/1000]\n",
      "INFO:tensorflow:Evaluation [394/1000]\n",
      "INFO:tensorflow:Evaluation [395/1000]\n",
      "INFO:tensorflow:Evaluation [396/1000]\n",
      "INFO:tensorflow:Evaluation [397/1000]\n",
      "INFO:tensorflow:Evaluation [398/1000]\n",
      "INFO:tensorflow:Evaluation [399/1000]\n",
      "INFO:tensorflow:Evaluation [400/1000]\n",
      "INFO:tensorflow:Evaluation [401/1000]\n",
      "INFO:tensorflow:Evaluation [402/1000]\n",
      "INFO:tensorflow:Evaluation [403/1000]\n",
      "INFO:tensorflow:Evaluation [404/1000]\n",
      "INFO:tensorflow:Evaluation [405/1000]\n",
      "INFO:tensorflow:Evaluation [406/1000]\n",
      "INFO:tensorflow:Evaluation [407/1000]\n",
      "INFO:tensorflow:Evaluation [408/1000]\n",
      "INFO:tensorflow:Evaluation [409/1000]\n",
      "INFO:tensorflow:Evaluation [410/1000]\n",
      "INFO:tensorflow:Evaluation [411/1000]\n",
      "INFO:tensorflow:Evaluation [412/1000]\n",
      "INFO:tensorflow:Evaluation [413/1000]\n",
      "INFO:tensorflow:Evaluation [414/1000]\n",
      "INFO:tensorflow:Evaluation [415/1000]\n",
      "INFO:tensorflow:Evaluation [416/1000]\n",
      "INFO:tensorflow:Evaluation [417/1000]\n",
      "INFO:tensorflow:Evaluation [418/1000]\n",
      "INFO:tensorflow:Evaluation [419/1000]\n",
      "INFO:tensorflow:Evaluation [420/1000]\n",
      "INFO:tensorflow:Evaluation [421/1000]\n",
      "INFO:tensorflow:Evaluation [422/1000]\n",
      "INFO:tensorflow:Evaluation [423/1000]\n",
      "INFO:tensorflow:Evaluation [424/1000]\n",
      "INFO:tensorflow:Evaluation [425/1000]\n",
      "INFO:tensorflow:Evaluation [426/1000]\n",
      "INFO:tensorflow:Evaluation [427/1000]\n",
      "INFO:tensorflow:Evaluation [428/1000]\n",
      "INFO:tensorflow:Evaluation [429/1000]\n",
      "INFO:tensorflow:Evaluation [430/1000]\n"
     ]
    },
    {
     "name": "stdout",
     "output_type": "stream",
     "text": [
      "INFO:tensorflow:Evaluation [431/1000]\n",
      "INFO:tensorflow:Evaluation [432/1000]\n",
      "INFO:tensorflow:Evaluation [433/1000]\n",
      "INFO:tensorflow:Evaluation [434/1000]\n",
      "INFO:tensorflow:Evaluation [435/1000]\n",
      "INFO:tensorflow:Evaluation [436/1000]\n",
      "INFO:tensorflow:Evaluation [437/1000]\n",
      "INFO:tensorflow:Evaluation [438/1000]\n",
      "INFO:tensorflow:Evaluation [439/1000]\n",
      "INFO:tensorflow:Evaluation [440/1000]\n",
      "INFO:tensorflow:Evaluation [441/1000]\n",
      "INFO:tensorflow:Evaluation [442/1000]\n",
      "INFO:tensorflow:Evaluation [443/1000]\n",
      "INFO:tensorflow:Evaluation [444/1000]\n",
      "INFO:tensorflow:Evaluation [445/1000]\n",
      "INFO:tensorflow:Evaluation [446/1000]\n",
      "INFO:tensorflow:Evaluation [447/1000]\n",
      "INFO:tensorflow:Evaluation [448/1000]\n",
      "INFO:tensorflow:Evaluation [449/1000]\n",
      "INFO:tensorflow:Evaluation [450/1000]\n",
      "INFO:tensorflow:Evaluation [451/1000]\n",
      "INFO:tensorflow:Evaluation [452/1000]\n",
      "INFO:tensorflow:Evaluation [453/1000]\n",
      "INFO:tensorflow:Evaluation [454/1000]\n",
      "INFO:tensorflow:Evaluation [455/1000]\n",
      "INFO:tensorflow:Evaluation [456/1000]\n",
      "INFO:tensorflow:Evaluation [457/1000]\n",
      "INFO:tensorflow:Evaluation [458/1000]\n",
      "INFO:tensorflow:Evaluation [459/1000]\n",
      "INFO:tensorflow:Evaluation [460/1000]\n",
      "INFO:tensorflow:Evaluation [461/1000]\n",
      "INFO:tensorflow:Evaluation [462/1000]\n",
      "INFO:tensorflow:Evaluation [463/1000]\n",
      "INFO:tensorflow:Evaluation [464/1000]\n",
      "INFO:tensorflow:Evaluation [465/1000]\n",
      "INFO:tensorflow:Evaluation [466/1000]\n",
      "INFO:tensorflow:Evaluation [467/1000]\n",
      "INFO:tensorflow:Evaluation [468/1000]\n",
      "INFO:tensorflow:Evaluation [469/1000]\n",
      "INFO:tensorflow:Evaluation [470/1000]\n",
      "INFO:tensorflow:Evaluation [471/1000]\n",
      "INFO:tensorflow:Evaluation [472/1000]\n",
      "INFO:tensorflow:Evaluation [473/1000]\n",
      "INFO:tensorflow:Evaluation [474/1000]\n",
      "INFO:tensorflow:Evaluation [475/1000]\n",
      "INFO:tensorflow:Evaluation [476/1000]\n",
      "INFO:tensorflow:Evaluation [477/1000]\n",
      "INFO:tensorflow:Evaluation [478/1000]\n",
      "INFO:tensorflow:Evaluation [479/1000]\n",
      "INFO:tensorflow:Evaluation [480/1000]\n",
      "INFO:tensorflow:Evaluation [481/1000]\n",
      "INFO:tensorflow:Evaluation [482/1000]\n",
      "INFO:tensorflow:Evaluation [483/1000]\n",
      "INFO:tensorflow:Evaluation [484/1000]\n",
      "INFO:tensorflow:Evaluation [485/1000]\n",
      "INFO:tensorflow:Evaluation [486/1000]\n",
      "INFO:tensorflow:Evaluation [487/1000]\n",
      "INFO:tensorflow:Evaluation [488/1000]\n",
      "INFO:tensorflow:Evaluation [489/1000]\n",
      "INFO:tensorflow:Evaluation [490/1000]\n",
      "INFO:tensorflow:Evaluation [491/1000]\n",
      "INFO:tensorflow:Evaluation [492/1000]\n",
      "INFO:tensorflow:Evaluation [493/1000]\n",
      "INFO:tensorflow:Evaluation [494/1000]\n",
      "INFO:tensorflow:Evaluation [495/1000]\n",
      "INFO:tensorflow:Evaluation [496/1000]\n",
      "INFO:tensorflow:Evaluation [497/1000]\n",
      "INFO:tensorflow:Evaluation [498/1000]\n",
      "INFO:tensorflow:Evaluation [499/1000]\n",
      "INFO:tensorflow:Evaluation [500/1000]\n",
      "INFO:tensorflow:Evaluation [501/1000]\n",
      "INFO:tensorflow:Evaluation [502/1000]\n",
      "INFO:tensorflow:Evaluation [503/1000]\n",
      "INFO:tensorflow:Evaluation [504/1000]\n",
      "INFO:tensorflow:Evaluation [505/1000]\n",
      "INFO:tensorflow:Evaluation [506/1000]\n",
      "INFO:tensorflow:Evaluation [507/1000]\n",
      "INFO:tensorflow:Evaluation [508/1000]\n",
      "INFO:tensorflow:Evaluation [509/1000]\n",
      "INFO:tensorflow:Evaluation [510/1000]\n",
      "INFO:tensorflow:Evaluation [511/1000]\n",
      "INFO:tensorflow:Evaluation [512/1000]\n",
      "INFO:tensorflow:Evaluation [513/1000]\n",
      "INFO:tensorflow:Evaluation [514/1000]\n",
      "INFO:tensorflow:Evaluation [515/1000]\n",
      "INFO:tensorflow:Evaluation [516/1000]\n",
      "INFO:tensorflow:Evaluation [517/1000]\n",
      "INFO:tensorflow:Evaluation [518/1000]\n",
      "INFO:tensorflow:Evaluation [519/1000]\n",
      "INFO:tensorflow:Evaluation [520/1000]\n",
      "INFO:tensorflow:Evaluation [521/1000]\n",
      "INFO:tensorflow:Evaluation [522/1000]\n",
      "INFO:tensorflow:Evaluation [523/1000]\n",
      "INFO:tensorflow:Evaluation [524/1000]\n",
      "INFO:tensorflow:Evaluation [525/1000]\n",
      "INFO:tensorflow:Evaluation [526/1000]\n",
      "INFO:tensorflow:Evaluation [527/1000]\n",
      "INFO:tensorflow:Evaluation [528/1000]\n",
      "INFO:tensorflow:Evaluation [529/1000]\n",
      "INFO:tensorflow:Evaluation [530/1000]\n",
      "INFO:tensorflow:Evaluation [531/1000]\n",
      "INFO:tensorflow:Evaluation [532/1000]\n",
      "INFO:tensorflow:Evaluation [533/1000]\n",
      "INFO:tensorflow:Evaluation [534/1000]\n",
      "INFO:tensorflow:Evaluation [535/1000]\n",
      "INFO:tensorflow:Evaluation [536/1000]\n",
      "INFO:tensorflow:Evaluation [537/1000]\n",
      "INFO:tensorflow:Evaluation [538/1000]\n",
      "INFO:tensorflow:Evaluation [539/1000]\n",
      "INFO:tensorflow:Evaluation [540/1000]\n",
      "INFO:tensorflow:Evaluation [541/1000]\n",
      "INFO:tensorflow:Evaluation [542/1000]\n",
      "INFO:tensorflow:Evaluation [543/1000]\n",
      "INFO:tensorflow:Evaluation [544/1000]\n",
      "INFO:tensorflow:Evaluation [545/1000]\n",
      "INFO:tensorflow:Evaluation [546/1000]\n",
      "INFO:tensorflow:Evaluation [547/1000]\n",
      "INFO:tensorflow:Evaluation [548/1000]\n",
      "INFO:tensorflow:Evaluation [549/1000]\n",
      "INFO:tensorflow:Evaluation [550/1000]\n",
      "INFO:tensorflow:Evaluation [551/1000]\n",
      "INFO:tensorflow:Evaluation [552/1000]\n",
      "INFO:tensorflow:Evaluation [553/1000]\n",
      "INFO:tensorflow:Evaluation [554/1000]\n",
      "INFO:tensorflow:Evaluation [555/1000]\n",
      "INFO:tensorflow:Evaluation [556/1000]\n",
      "INFO:tensorflow:Evaluation [557/1000]\n",
      "INFO:tensorflow:Evaluation [558/1000]\n",
      "INFO:tensorflow:Evaluation [559/1000]\n",
      "INFO:tensorflow:Evaluation [560/1000]\n",
      "INFO:tensorflow:Evaluation [561/1000]\n",
      "INFO:tensorflow:Evaluation [562/1000]\n",
      "INFO:tensorflow:Evaluation [563/1000]\n",
      "INFO:tensorflow:Evaluation [564/1000]\n",
      "INFO:tensorflow:Evaluation [565/1000]\n",
      "INFO:tensorflow:Evaluation [566/1000]\n",
      "INFO:tensorflow:Evaluation [567/1000]\n",
      "INFO:tensorflow:Evaluation [568/1000]\n",
      "INFO:tensorflow:Evaluation [569/1000]\n",
      "INFO:tensorflow:Evaluation [570/1000]\n",
      "INFO:tensorflow:Evaluation [571/1000]\n",
      "INFO:tensorflow:Evaluation [572/1000]\n",
      "INFO:tensorflow:Evaluation [573/1000]\n",
      "INFO:tensorflow:Evaluation [574/1000]\n",
      "INFO:tensorflow:Evaluation [575/1000]\n",
      "INFO:tensorflow:Evaluation [576/1000]\n",
      "INFO:tensorflow:Evaluation [577/1000]\n",
      "INFO:tensorflow:Evaluation [578/1000]\n",
      "INFO:tensorflow:Evaluation [579/1000]\n",
      "INFO:tensorflow:Evaluation [580/1000]\n",
      "INFO:tensorflow:Evaluation [581/1000]\n",
      "INFO:tensorflow:Evaluation [582/1000]\n",
      "INFO:tensorflow:Evaluation [583/1000]\n",
      "INFO:tensorflow:Evaluation [584/1000]\n",
      "INFO:tensorflow:Evaluation [585/1000]\n",
      "INFO:tensorflow:Evaluation [586/1000]\n",
      "INFO:tensorflow:Evaluation [587/1000]\n",
      "INFO:tensorflow:Evaluation [588/1000]\n",
      "INFO:tensorflow:Evaluation [589/1000]\n",
      "INFO:tensorflow:Evaluation [590/1000]\n",
      "INFO:tensorflow:Evaluation [591/1000]\n",
      "INFO:tensorflow:Evaluation [592/1000]\n",
      "INFO:tensorflow:Evaluation [593/1000]\n",
      "INFO:tensorflow:Evaluation [594/1000]\n",
      "INFO:tensorflow:Evaluation [595/1000]\n",
      "INFO:tensorflow:Evaluation [596/1000]\n",
      "INFO:tensorflow:Evaluation [597/1000]\n",
      "INFO:tensorflow:Evaluation [598/1000]\n",
      "INFO:tensorflow:Evaluation [599/1000]\n",
      "INFO:tensorflow:Evaluation [600/1000]\n",
      "INFO:tensorflow:Evaluation [601/1000]\n",
      "INFO:tensorflow:Evaluation [602/1000]\n",
      "INFO:tensorflow:Evaluation [603/1000]\n",
      "INFO:tensorflow:Evaluation [604/1000]\n",
      "INFO:tensorflow:Evaluation [605/1000]\n",
      "INFO:tensorflow:Evaluation [606/1000]\n",
      "INFO:tensorflow:Evaluation [607/1000]\n",
      "INFO:tensorflow:Evaluation [608/1000]\n",
      "INFO:tensorflow:Evaluation [609/1000]\n",
      "INFO:tensorflow:Evaluation [610/1000]\n",
      "INFO:tensorflow:Evaluation [611/1000]\n",
      "INFO:tensorflow:Evaluation [612/1000]\n",
      "INFO:tensorflow:Evaluation [613/1000]\n",
      "INFO:tensorflow:Evaluation [614/1000]\n",
      "INFO:tensorflow:Evaluation [615/1000]\n",
      "INFO:tensorflow:Evaluation [616/1000]\n",
      "INFO:tensorflow:Evaluation [617/1000]\n",
      "INFO:tensorflow:Evaluation [618/1000]\n",
      "INFO:tensorflow:Evaluation [619/1000]\n",
      "INFO:tensorflow:Evaluation [620/1000]\n",
      "INFO:tensorflow:Evaluation [621/1000]\n",
      "INFO:tensorflow:Evaluation [622/1000]\n",
      "INFO:tensorflow:Evaluation [623/1000]\n",
      "INFO:tensorflow:Evaluation [624/1000]\n",
      "INFO:tensorflow:Evaluation [625/1000]\n",
      "INFO:tensorflow:Evaluation [626/1000]\n",
      "INFO:tensorflow:Evaluation [627/1000]\n",
      "INFO:tensorflow:Evaluation [628/1000]\n",
      "INFO:tensorflow:Evaluation [629/1000]\n",
      "INFO:tensorflow:Evaluation [630/1000]\n",
      "INFO:tensorflow:Evaluation [631/1000]\n",
      "INFO:tensorflow:Evaluation [632/1000]\n",
      "INFO:tensorflow:Evaluation [633/1000]\n",
      "INFO:tensorflow:Evaluation [634/1000]\n",
      "INFO:tensorflow:Evaluation [635/1000]\n",
      "INFO:tensorflow:Evaluation [636/1000]\n",
      "INFO:tensorflow:Evaluation [637/1000]\n",
      "INFO:tensorflow:Evaluation [638/1000]\n",
      "INFO:tensorflow:Evaluation [639/1000]\n",
      "INFO:tensorflow:Evaluation [640/1000]\n",
      "INFO:tensorflow:Evaluation [641/1000]\n",
      "INFO:tensorflow:Evaluation [642/1000]\n",
      "INFO:tensorflow:Evaluation [643/1000]\n",
      "INFO:tensorflow:Evaluation [644/1000]\n",
      "INFO:tensorflow:Evaluation [645/1000]\n",
      "INFO:tensorflow:Evaluation [646/1000]\n"
     ]
    },
    {
     "name": "stdout",
     "output_type": "stream",
     "text": [
      "INFO:tensorflow:Evaluation [647/1000]\n",
      "INFO:tensorflow:Evaluation [648/1000]\n",
      "INFO:tensorflow:Evaluation [649/1000]\n",
      "INFO:tensorflow:Evaluation [650/1000]\n",
      "INFO:tensorflow:Evaluation [651/1000]\n",
      "INFO:tensorflow:Evaluation [652/1000]\n",
      "INFO:tensorflow:Evaluation [653/1000]\n",
      "INFO:tensorflow:Evaluation [654/1000]\n",
      "INFO:tensorflow:Evaluation [655/1000]\n",
      "INFO:tensorflow:Evaluation [656/1000]\n",
      "INFO:tensorflow:Evaluation [657/1000]\n",
      "INFO:tensorflow:Evaluation [658/1000]\n",
      "INFO:tensorflow:Evaluation [659/1000]\n",
      "INFO:tensorflow:Evaluation [660/1000]\n",
      "INFO:tensorflow:Evaluation [661/1000]\n",
      "INFO:tensorflow:Evaluation [662/1000]\n",
      "INFO:tensorflow:Evaluation [663/1000]\n",
      "INFO:tensorflow:Evaluation [664/1000]\n",
      "INFO:tensorflow:Evaluation [665/1000]\n",
      "INFO:tensorflow:Evaluation [666/1000]\n",
      "INFO:tensorflow:Evaluation [667/1000]\n",
      "INFO:tensorflow:Evaluation [668/1000]\n",
      "INFO:tensorflow:Evaluation [669/1000]\n",
      "INFO:tensorflow:Evaluation [670/1000]\n",
      "INFO:tensorflow:Evaluation [671/1000]\n",
      "INFO:tensorflow:Evaluation [672/1000]\n",
      "INFO:tensorflow:Evaluation [673/1000]\n",
      "INFO:tensorflow:Evaluation [674/1000]\n",
      "INFO:tensorflow:Evaluation [675/1000]\n",
      "INFO:tensorflow:Evaluation [676/1000]\n",
      "INFO:tensorflow:Evaluation [677/1000]\n",
      "INFO:tensorflow:Evaluation [678/1000]\n",
      "INFO:tensorflow:Evaluation [679/1000]\n",
      "INFO:tensorflow:Evaluation [680/1000]\n",
      "INFO:tensorflow:Evaluation [681/1000]\n",
      "INFO:tensorflow:Evaluation [682/1000]\n",
      "INFO:tensorflow:Evaluation [683/1000]\n",
      "INFO:tensorflow:Evaluation [684/1000]\n",
      "INFO:tensorflow:Evaluation [685/1000]\n",
      "INFO:tensorflow:Evaluation [686/1000]\n",
      "INFO:tensorflow:Evaluation [687/1000]\n",
      "INFO:tensorflow:Evaluation [688/1000]\n",
      "INFO:tensorflow:Evaluation [689/1000]\n",
      "INFO:tensorflow:Evaluation [690/1000]\n",
      "INFO:tensorflow:Evaluation [691/1000]\n",
      "INFO:tensorflow:Evaluation [692/1000]\n",
      "INFO:tensorflow:Evaluation [693/1000]\n",
      "INFO:tensorflow:Evaluation [694/1000]\n",
      "INFO:tensorflow:Evaluation [695/1000]\n",
      "INFO:tensorflow:Evaluation [696/1000]\n",
      "INFO:tensorflow:Evaluation [697/1000]\n",
      "INFO:tensorflow:Evaluation [698/1000]\n",
      "INFO:tensorflow:Evaluation [699/1000]\n",
      "INFO:tensorflow:Evaluation [700/1000]\n",
      "INFO:tensorflow:Evaluation [701/1000]\n",
      "INFO:tensorflow:Evaluation [702/1000]\n",
      "INFO:tensorflow:Evaluation [703/1000]\n",
      "INFO:tensorflow:Evaluation [704/1000]\n",
      "INFO:tensorflow:Evaluation [705/1000]\n",
      "INFO:tensorflow:Evaluation [706/1000]\n",
      "INFO:tensorflow:Evaluation [707/1000]\n",
      "INFO:tensorflow:Evaluation [708/1000]\n",
      "INFO:tensorflow:Evaluation [709/1000]\n",
      "INFO:tensorflow:Evaluation [710/1000]\n",
      "INFO:tensorflow:Evaluation [711/1000]\n",
      "INFO:tensorflow:Evaluation [712/1000]\n",
      "INFO:tensorflow:Evaluation [713/1000]\n",
      "INFO:tensorflow:Evaluation [714/1000]\n",
      "INFO:tensorflow:Evaluation [715/1000]\n",
      "INFO:tensorflow:Evaluation [716/1000]\n",
      "INFO:tensorflow:Evaluation [717/1000]\n",
      "INFO:tensorflow:Evaluation [718/1000]\n",
      "INFO:tensorflow:Evaluation [719/1000]\n",
      "INFO:tensorflow:Evaluation [720/1000]\n",
      "INFO:tensorflow:Evaluation [721/1000]\n",
      "INFO:tensorflow:Evaluation [722/1000]\n",
      "INFO:tensorflow:Evaluation [723/1000]\n",
      "INFO:tensorflow:Evaluation [724/1000]\n",
      "INFO:tensorflow:Evaluation [725/1000]\n",
      "INFO:tensorflow:Evaluation [726/1000]\n",
      "INFO:tensorflow:Evaluation [727/1000]\n",
      "INFO:tensorflow:Evaluation [728/1000]\n",
      "INFO:tensorflow:Evaluation [729/1000]\n",
      "INFO:tensorflow:Evaluation [730/1000]\n",
      "INFO:tensorflow:Evaluation [731/1000]\n",
      "INFO:tensorflow:Evaluation [732/1000]\n",
      "INFO:tensorflow:Evaluation [733/1000]\n",
      "INFO:tensorflow:Evaluation [734/1000]\n",
      "INFO:tensorflow:Evaluation [735/1000]\n",
      "INFO:tensorflow:Evaluation [736/1000]\n",
      "INFO:tensorflow:Evaluation [737/1000]\n",
      "INFO:tensorflow:Evaluation [738/1000]\n",
      "INFO:tensorflow:Evaluation [739/1000]\n",
      "INFO:tensorflow:Evaluation [740/1000]\n",
      "INFO:tensorflow:Evaluation [741/1000]\n",
      "INFO:tensorflow:Evaluation [742/1000]\n",
      "INFO:tensorflow:Evaluation [743/1000]\n",
      "INFO:tensorflow:Evaluation [744/1000]\n",
      "INFO:tensorflow:Evaluation [745/1000]\n",
      "INFO:tensorflow:Evaluation [746/1000]\n",
      "INFO:tensorflow:Evaluation [747/1000]\n",
      "INFO:tensorflow:Evaluation [748/1000]\n",
      "INFO:tensorflow:Evaluation [749/1000]\n",
      "INFO:tensorflow:Evaluation [750/1000]\n",
      "INFO:tensorflow:Evaluation [751/1000]\n",
      "INFO:tensorflow:Evaluation [752/1000]\n",
      "INFO:tensorflow:Evaluation [753/1000]\n",
      "INFO:tensorflow:Evaluation [754/1000]\n",
      "INFO:tensorflow:Evaluation [755/1000]\n",
      "INFO:tensorflow:Evaluation [756/1000]\n",
      "INFO:tensorflow:Evaluation [757/1000]\n",
      "INFO:tensorflow:Evaluation [758/1000]\n",
      "INFO:tensorflow:Evaluation [759/1000]\n",
      "INFO:tensorflow:Evaluation [760/1000]\n",
      "INFO:tensorflow:Evaluation [761/1000]\n",
      "INFO:tensorflow:Evaluation [762/1000]\n",
      "INFO:tensorflow:Evaluation [763/1000]\n",
      "INFO:tensorflow:Evaluation [764/1000]\n",
      "INFO:tensorflow:Evaluation [765/1000]\n",
      "INFO:tensorflow:Evaluation [766/1000]\n",
      "INFO:tensorflow:Evaluation [767/1000]\n",
      "INFO:tensorflow:Evaluation [768/1000]\n",
      "INFO:tensorflow:Evaluation [769/1000]\n",
      "INFO:tensorflow:Evaluation [770/1000]\n",
      "INFO:tensorflow:Evaluation [771/1000]\n",
      "INFO:tensorflow:Evaluation [772/1000]\n",
      "INFO:tensorflow:Evaluation [773/1000]\n",
      "INFO:tensorflow:Evaluation [774/1000]\n",
      "INFO:tensorflow:Evaluation [775/1000]\n",
      "INFO:tensorflow:Evaluation [776/1000]\n",
      "INFO:tensorflow:Evaluation [777/1000]\n",
      "INFO:tensorflow:Evaluation [778/1000]\n",
      "INFO:tensorflow:Evaluation [779/1000]\n",
      "INFO:tensorflow:Evaluation [780/1000]\n",
      "INFO:tensorflow:Evaluation [781/1000]\n",
      "INFO:tensorflow:Evaluation [782/1000]\n",
      "INFO:tensorflow:Evaluation [783/1000]\n",
      "INFO:tensorflow:Evaluation [784/1000]\n",
      "INFO:tensorflow:Evaluation [785/1000]\n",
      "INFO:tensorflow:Evaluation [786/1000]\n",
      "INFO:tensorflow:Evaluation [787/1000]\n",
      "INFO:tensorflow:Evaluation [788/1000]\n",
      "INFO:tensorflow:Evaluation [789/1000]\n",
      "INFO:tensorflow:Evaluation [790/1000]\n",
      "INFO:tensorflow:Evaluation [791/1000]\n",
      "INFO:tensorflow:Evaluation [792/1000]\n",
      "INFO:tensorflow:Evaluation [793/1000]\n",
      "INFO:tensorflow:Evaluation [794/1000]\n",
      "INFO:tensorflow:Evaluation [795/1000]\n",
      "INFO:tensorflow:Evaluation [796/1000]\n",
      "INFO:tensorflow:Evaluation [797/1000]\n",
      "INFO:tensorflow:Evaluation [798/1000]\n",
      "INFO:tensorflow:Evaluation [799/1000]\n",
      "INFO:tensorflow:Evaluation [800/1000]\n",
      "INFO:tensorflow:Evaluation [801/1000]\n",
      "INFO:tensorflow:Evaluation [802/1000]\n",
      "INFO:tensorflow:Evaluation [803/1000]\n",
      "INFO:tensorflow:Evaluation [804/1000]\n",
      "INFO:tensorflow:Evaluation [805/1000]\n",
      "INFO:tensorflow:Evaluation [806/1000]\n",
      "INFO:tensorflow:Evaluation [807/1000]\n",
      "INFO:tensorflow:Evaluation [808/1000]\n",
      "INFO:tensorflow:Evaluation [809/1000]\n",
      "INFO:tensorflow:Evaluation [810/1000]\n",
      "INFO:tensorflow:Evaluation [811/1000]\n",
      "INFO:tensorflow:Evaluation [812/1000]\n",
      "INFO:tensorflow:Evaluation [813/1000]\n",
      "INFO:tensorflow:Evaluation [814/1000]\n",
      "INFO:tensorflow:Evaluation [815/1000]\n",
      "INFO:tensorflow:Evaluation [816/1000]\n",
      "INFO:tensorflow:Evaluation [817/1000]\n",
      "INFO:tensorflow:Evaluation [818/1000]\n",
      "INFO:tensorflow:Evaluation [819/1000]\n",
      "INFO:tensorflow:Evaluation [820/1000]\n",
      "INFO:tensorflow:Evaluation [821/1000]\n",
      "INFO:tensorflow:Evaluation [822/1000]\n",
      "INFO:tensorflow:Evaluation [823/1000]\n",
      "INFO:tensorflow:Evaluation [824/1000]\n",
      "INFO:tensorflow:Evaluation [825/1000]\n",
      "INFO:tensorflow:Evaluation [826/1000]\n",
      "INFO:tensorflow:Evaluation [827/1000]\n",
      "INFO:tensorflow:Evaluation [828/1000]\n",
      "INFO:tensorflow:Evaluation [829/1000]\n",
      "INFO:tensorflow:Evaluation [830/1000]\n",
      "INFO:tensorflow:Evaluation [831/1000]\n",
      "INFO:tensorflow:Evaluation [832/1000]\n",
      "INFO:tensorflow:Evaluation [833/1000]\n",
      "INFO:tensorflow:Evaluation [834/1000]\n",
      "INFO:tensorflow:Evaluation [835/1000]\n",
      "INFO:tensorflow:Evaluation [836/1000]\n",
      "INFO:tensorflow:Evaluation [837/1000]\n",
      "INFO:tensorflow:Evaluation [838/1000]\n",
      "INFO:tensorflow:Evaluation [839/1000]\n",
      "INFO:tensorflow:Evaluation [840/1000]\n",
      "INFO:tensorflow:Evaluation [841/1000]\n",
      "INFO:tensorflow:Evaluation [842/1000]\n",
      "INFO:tensorflow:Evaluation [843/1000]\n",
      "INFO:tensorflow:Evaluation [844/1000]\n",
      "INFO:tensorflow:Evaluation [845/1000]\n",
      "INFO:tensorflow:Evaluation [846/1000]\n",
      "INFO:tensorflow:Evaluation [847/1000]\n",
      "INFO:tensorflow:Evaluation [848/1000]\n",
      "INFO:tensorflow:Evaluation [849/1000]\n",
      "INFO:tensorflow:Evaluation [850/1000]\n",
      "INFO:tensorflow:Evaluation [851/1000]\n",
      "INFO:tensorflow:Evaluation [852/1000]\n",
      "INFO:tensorflow:Evaluation [853/1000]\n",
      "INFO:tensorflow:Evaluation [854/1000]\n",
      "INFO:tensorflow:Evaluation [855/1000]\n",
      "INFO:tensorflow:Evaluation [856/1000]\n",
      "INFO:tensorflow:Evaluation [857/1000]\n",
      "INFO:tensorflow:Evaluation [858/1000]\n",
      "INFO:tensorflow:Evaluation [859/1000]\n",
      "INFO:tensorflow:Evaluation [860/1000]\n",
      "INFO:tensorflow:Evaluation [861/1000]\n"
     ]
    },
    {
     "name": "stdout",
     "output_type": "stream",
     "text": [
      "INFO:tensorflow:Evaluation [862/1000]\n",
      "INFO:tensorflow:Evaluation [863/1000]\n",
      "INFO:tensorflow:Evaluation [864/1000]\n",
      "INFO:tensorflow:Evaluation [865/1000]\n",
      "INFO:tensorflow:Evaluation [866/1000]\n",
      "INFO:tensorflow:Evaluation [867/1000]\n",
      "INFO:tensorflow:Evaluation [868/1000]\n",
      "INFO:tensorflow:Evaluation [869/1000]\n",
      "INFO:tensorflow:Evaluation [870/1000]\n",
      "INFO:tensorflow:Evaluation [871/1000]\n",
      "INFO:tensorflow:Evaluation [872/1000]\n",
      "INFO:tensorflow:Evaluation [873/1000]\n",
      "INFO:tensorflow:Evaluation [874/1000]\n",
      "INFO:tensorflow:Evaluation [875/1000]\n",
      "INFO:tensorflow:Evaluation [876/1000]\n",
      "INFO:tensorflow:Evaluation [877/1000]\n",
      "INFO:tensorflow:Evaluation [878/1000]\n",
      "INFO:tensorflow:Evaluation [879/1000]\n",
      "INFO:tensorflow:Evaluation [880/1000]\n",
      "INFO:tensorflow:Evaluation [881/1000]\n",
      "INFO:tensorflow:Evaluation [882/1000]\n",
      "INFO:tensorflow:Evaluation [883/1000]\n",
      "INFO:tensorflow:Evaluation [884/1000]\n",
      "INFO:tensorflow:Evaluation [885/1000]\n",
      "INFO:tensorflow:Evaluation [886/1000]\n",
      "INFO:tensorflow:Evaluation [887/1000]\n",
      "INFO:tensorflow:Evaluation [888/1000]\n",
      "INFO:tensorflow:Evaluation [889/1000]\n",
      "INFO:tensorflow:Evaluation [890/1000]\n",
      "INFO:tensorflow:Evaluation [891/1000]\n",
      "INFO:tensorflow:Evaluation [892/1000]\n",
      "INFO:tensorflow:Evaluation [893/1000]\n",
      "INFO:tensorflow:Evaluation [894/1000]\n",
      "INFO:tensorflow:Evaluation [895/1000]\n",
      "INFO:tensorflow:Evaluation [896/1000]\n",
      "INFO:tensorflow:Evaluation [897/1000]\n",
      "INFO:tensorflow:Evaluation [898/1000]\n",
      "INFO:tensorflow:Evaluation [899/1000]\n",
      "INFO:tensorflow:Evaluation [900/1000]\n",
      "INFO:tensorflow:Evaluation [901/1000]\n",
      "INFO:tensorflow:Evaluation [902/1000]\n",
      "INFO:tensorflow:Evaluation [903/1000]\n",
      "INFO:tensorflow:Evaluation [904/1000]\n",
      "INFO:tensorflow:Evaluation [905/1000]\n",
      "INFO:tensorflow:Evaluation [906/1000]\n",
      "INFO:tensorflow:Evaluation [907/1000]\n",
      "INFO:tensorflow:Evaluation [908/1000]\n",
      "INFO:tensorflow:Evaluation [909/1000]\n",
      "INFO:tensorflow:Evaluation [910/1000]\n",
      "INFO:tensorflow:Evaluation [911/1000]\n",
      "INFO:tensorflow:Evaluation [912/1000]\n",
      "INFO:tensorflow:Evaluation [913/1000]\n",
      "INFO:tensorflow:Evaluation [914/1000]\n",
      "INFO:tensorflow:Evaluation [915/1000]\n",
      "INFO:tensorflow:Evaluation [916/1000]\n",
      "INFO:tensorflow:Evaluation [917/1000]\n",
      "INFO:tensorflow:Evaluation [918/1000]\n",
      "INFO:tensorflow:Evaluation [919/1000]\n",
      "INFO:tensorflow:Evaluation [920/1000]\n",
      "INFO:tensorflow:Evaluation [921/1000]\n",
      "INFO:tensorflow:Evaluation [922/1000]\n",
      "INFO:tensorflow:Evaluation [923/1000]\n",
      "INFO:tensorflow:Evaluation [924/1000]\n",
      "INFO:tensorflow:Evaluation [925/1000]\n",
      "INFO:tensorflow:Evaluation [926/1000]\n",
      "INFO:tensorflow:Evaluation [927/1000]\n",
      "INFO:tensorflow:Evaluation [928/1000]\n",
      "INFO:tensorflow:Evaluation [929/1000]\n",
      "INFO:tensorflow:Evaluation [930/1000]\n",
      "INFO:tensorflow:Evaluation [931/1000]\n",
      "INFO:tensorflow:Evaluation [932/1000]\n",
      "INFO:tensorflow:Evaluation [933/1000]\n",
      "INFO:tensorflow:Evaluation [934/1000]\n",
      "INFO:tensorflow:Evaluation [935/1000]\n",
      "INFO:tensorflow:Evaluation [936/1000]\n",
      "INFO:tensorflow:Evaluation [937/1000]\n",
      "INFO:tensorflow:Evaluation [938/1000]\n",
      "INFO:tensorflow:Evaluation [939/1000]\n",
      "INFO:tensorflow:Evaluation [940/1000]\n",
      "INFO:tensorflow:Evaluation [941/1000]\n",
      "INFO:tensorflow:Evaluation [942/1000]\n",
      "INFO:tensorflow:Evaluation [943/1000]\n",
      "INFO:tensorflow:Evaluation [944/1000]\n",
      "INFO:tensorflow:Evaluation [945/1000]\n",
      "INFO:tensorflow:Evaluation [946/1000]\n",
      "INFO:tensorflow:Evaluation [947/1000]\n",
      "INFO:tensorflow:Evaluation [948/1000]\n",
      "INFO:tensorflow:Evaluation [949/1000]\n",
      "INFO:tensorflow:Evaluation [950/1000]\n",
      "INFO:tensorflow:Evaluation [951/1000]\n",
      "INFO:tensorflow:Evaluation [952/1000]\n",
      "INFO:tensorflow:Evaluation [953/1000]\n",
      "INFO:tensorflow:Evaluation [954/1000]\n",
      "INFO:tensorflow:Evaluation [955/1000]\n",
      "INFO:tensorflow:Evaluation [956/1000]\n",
      "INFO:tensorflow:Evaluation [957/1000]\n",
      "INFO:tensorflow:Evaluation [958/1000]\n",
      "INFO:tensorflow:Evaluation [959/1000]\n",
      "INFO:tensorflow:Evaluation [960/1000]\n",
      "INFO:tensorflow:Evaluation [961/1000]\n",
      "INFO:tensorflow:Evaluation [962/1000]\n",
      "INFO:tensorflow:Evaluation [963/1000]\n",
      "INFO:tensorflow:Evaluation [964/1000]\n",
      "INFO:tensorflow:Evaluation [965/1000]\n",
      "INFO:tensorflow:Evaluation [966/1000]\n",
      "INFO:tensorflow:Evaluation [967/1000]\n",
      "INFO:tensorflow:Evaluation [968/1000]\n",
      "INFO:tensorflow:Evaluation [969/1000]\n",
      "INFO:tensorflow:Evaluation [970/1000]\n",
      "INFO:tensorflow:Evaluation [971/1000]\n",
      "INFO:tensorflow:Evaluation [972/1000]\n",
      "INFO:tensorflow:Evaluation [973/1000]\n",
      "INFO:tensorflow:Evaluation [974/1000]\n",
      "INFO:tensorflow:Evaluation [975/1000]\n",
      "INFO:tensorflow:Evaluation [976/1000]\n",
      "INFO:tensorflow:Evaluation [977/1000]\n",
      "INFO:tensorflow:Evaluation [978/1000]\n",
      "INFO:tensorflow:Evaluation [979/1000]\n",
      "INFO:tensorflow:Evaluation [980/1000]\n",
      "INFO:tensorflow:Evaluation [981/1000]\n",
      "INFO:tensorflow:Evaluation [982/1000]\n",
      "INFO:tensorflow:Evaluation [983/1000]\n",
      "INFO:tensorflow:Evaluation [984/1000]\n",
      "INFO:tensorflow:Evaluation [985/1000]\n",
      "INFO:tensorflow:Evaluation [986/1000]\n",
      "INFO:tensorflow:Evaluation [987/1000]\n",
      "INFO:tensorflow:Evaluation [988/1000]\n",
      "INFO:tensorflow:Evaluation [989/1000]\n",
      "INFO:tensorflow:Evaluation [990/1000]\n",
      "INFO:tensorflow:Evaluation [991/1000]\n",
      "INFO:tensorflow:Evaluation [992/1000]\n",
      "INFO:tensorflow:Evaluation [993/1000]\n",
      "INFO:tensorflow:Evaluation [994/1000]\n",
      "INFO:tensorflow:Evaluation [995/1000]\n",
      "INFO:tensorflow:Evaluation [996/1000]\n",
      "INFO:tensorflow:Evaluation [997/1000]\n",
      "INFO:tensorflow:Evaluation [998/1000]\n",
      "INFO:tensorflow:Evaluation [999/1000]\n",
      "INFO:tensorflow:Evaluation [1000/1000]\n",
      "INFO:tensorflow:Finished evaluation at 2018-05-17-08:02:31\n",
      "INFO:tensorflow:Saving dict for global step 1000: average_loss = 1.07371, global_step = 1000, loss = 8.58972\n"
     ]
    }
   ],
   "source": [
    "# evaulation\n",
    "train_metrics = estimator.evaluate(input_fn=train_input_func,steps=1000)"
   ]
  },
  {
   "cell_type": "code",
   "execution_count": 305,
   "metadata": {},
   "outputs": [
    {
     "name": "stdout",
     "output_type": "stream",
     "text": [
      "INFO:tensorflow:Starting evaluation at 2018-05-17-08:03:21\n",
      "INFO:tensorflow:Restoring parameters from C:\\Users\\FRKSTE~1\\AppData\\Local\\Temp\\tmpvxfqtjt1\\model.ckpt-1000\n",
      "INFO:tensorflow:Evaluation [1/1000]\n",
      "INFO:tensorflow:Evaluation [2/1000]\n",
      "INFO:tensorflow:Evaluation [3/1000]\n",
      "INFO:tensorflow:Evaluation [4/1000]\n",
      "INFO:tensorflow:Evaluation [5/1000]\n",
      "INFO:tensorflow:Evaluation [6/1000]\n",
      "INFO:tensorflow:Evaluation [7/1000]\n",
      "INFO:tensorflow:Evaluation [8/1000]\n",
      "INFO:tensorflow:Evaluation [9/1000]\n",
      "INFO:tensorflow:Evaluation [10/1000]\n",
      "INFO:tensorflow:Evaluation [11/1000]\n",
      "INFO:tensorflow:Evaluation [12/1000]\n",
      "INFO:tensorflow:Evaluation [13/1000]\n",
      "INFO:tensorflow:Evaluation [14/1000]\n",
      "INFO:tensorflow:Evaluation [15/1000]\n",
      "INFO:tensorflow:Evaluation [16/1000]\n",
      "INFO:tensorflow:Evaluation [17/1000]\n",
      "INFO:tensorflow:Evaluation [18/1000]\n",
      "INFO:tensorflow:Evaluation [19/1000]\n",
      "INFO:tensorflow:Evaluation [20/1000]\n",
      "INFO:tensorflow:Evaluation [21/1000]\n",
      "INFO:tensorflow:Evaluation [22/1000]\n",
      "INFO:tensorflow:Evaluation [23/1000]\n",
      "INFO:tensorflow:Evaluation [24/1000]\n",
      "INFO:tensorflow:Evaluation [25/1000]\n",
      "INFO:tensorflow:Evaluation [26/1000]\n",
      "INFO:tensorflow:Evaluation [27/1000]\n",
      "INFO:tensorflow:Evaluation [28/1000]\n",
      "INFO:tensorflow:Evaluation [29/1000]\n",
      "INFO:tensorflow:Evaluation [30/1000]\n",
      "INFO:tensorflow:Evaluation [31/1000]\n",
      "INFO:tensorflow:Evaluation [32/1000]\n",
      "INFO:tensorflow:Evaluation [33/1000]\n",
      "INFO:tensorflow:Evaluation [34/1000]\n",
      "INFO:tensorflow:Evaluation [35/1000]\n",
      "INFO:tensorflow:Evaluation [36/1000]\n",
      "INFO:tensorflow:Evaluation [37/1000]\n",
      "INFO:tensorflow:Evaluation [38/1000]\n",
      "INFO:tensorflow:Evaluation [39/1000]\n",
      "INFO:tensorflow:Evaluation [40/1000]\n",
      "INFO:tensorflow:Evaluation [41/1000]\n",
      "INFO:tensorflow:Evaluation [42/1000]\n",
      "INFO:tensorflow:Evaluation [43/1000]\n",
      "INFO:tensorflow:Evaluation [44/1000]\n",
      "INFO:tensorflow:Evaluation [45/1000]\n",
      "INFO:tensorflow:Evaluation [46/1000]\n",
      "INFO:tensorflow:Evaluation [47/1000]\n",
      "INFO:tensorflow:Evaluation [48/1000]\n",
      "INFO:tensorflow:Evaluation [49/1000]\n",
      "INFO:tensorflow:Evaluation [50/1000]\n",
      "INFO:tensorflow:Evaluation [51/1000]\n",
      "INFO:tensorflow:Evaluation [52/1000]\n",
      "INFO:tensorflow:Evaluation [53/1000]\n",
      "INFO:tensorflow:Evaluation [54/1000]\n",
      "INFO:tensorflow:Evaluation [55/1000]\n",
      "INFO:tensorflow:Evaluation [56/1000]\n",
      "INFO:tensorflow:Evaluation [57/1000]\n",
      "INFO:tensorflow:Evaluation [58/1000]\n",
      "INFO:tensorflow:Evaluation [59/1000]\n",
      "INFO:tensorflow:Evaluation [60/1000]\n",
      "INFO:tensorflow:Evaluation [61/1000]\n",
      "INFO:tensorflow:Evaluation [62/1000]\n",
      "INFO:tensorflow:Evaluation [63/1000]\n",
      "INFO:tensorflow:Evaluation [64/1000]\n",
      "INFO:tensorflow:Evaluation [65/1000]\n",
      "INFO:tensorflow:Evaluation [66/1000]\n",
      "INFO:tensorflow:Evaluation [67/1000]\n",
      "INFO:tensorflow:Evaluation [68/1000]\n",
      "INFO:tensorflow:Evaluation [69/1000]\n",
      "INFO:tensorflow:Evaluation [70/1000]\n",
      "INFO:tensorflow:Evaluation [71/1000]\n",
      "INFO:tensorflow:Evaluation [72/1000]\n",
      "INFO:tensorflow:Evaluation [73/1000]\n",
      "INFO:tensorflow:Evaluation [74/1000]\n",
      "INFO:tensorflow:Evaluation [75/1000]\n",
      "INFO:tensorflow:Evaluation [76/1000]\n",
      "INFO:tensorflow:Evaluation [77/1000]\n",
      "INFO:tensorflow:Evaluation [78/1000]\n",
      "INFO:tensorflow:Evaluation [79/1000]\n",
      "INFO:tensorflow:Evaluation [80/1000]\n",
      "INFO:tensorflow:Evaluation [81/1000]\n",
      "INFO:tensorflow:Evaluation [82/1000]\n",
      "INFO:tensorflow:Evaluation [83/1000]\n",
      "INFO:tensorflow:Evaluation [84/1000]\n",
      "INFO:tensorflow:Evaluation [85/1000]\n",
      "INFO:tensorflow:Evaluation [86/1000]\n",
      "INFO:tensorflow:Evaluation [87/1000]\n",
      "INFO:tensorflow:Evaluation [88/1000]\n",
      "INFO:tensorflow:Evaluation [89/1000]\n",
      "INFO:tensorflow:Evaluation [90/1000]\n",
      "INFO:tensorflow:Evaluation [91/1000]\n",
      "INFO:tensorflow:Evaluation [92/1000]\n",
      "INFO:tensorflow:Evaluation [93/1000]\n",
      "INFO:tensorflow:Evaluation [94/1000]\n",
      "INFO:tensorflow:Evaluation [95/1000]\n",
      "INFO:tensorflow:Evaluation [96/1000]\n",
      "INFO:tensorflow:Evaluation [97/1000]\n",
      "INFO:tensorflow:Evaluation [98/1000]\n",
      "INFO:tensorflow:Evaluation [99/1000]\n",
      "INFO:tensorflow:Evaluation [100/1000]\n",
      "INFO:tensorflow:Evaluation [101/1000]\n",
      "INFO:tensorflow:Evaluation [102/1000]\n",
      "INFO:tensorflow:Evaluation [103/1000]\n",
      "INFO:tensorflow:Evaluation [104/1000]\n",
      "INFO:tensorflow:Evaluation [105/1000]\n",
      "INFO:tensorflow:Evaluation [106/1000]\n",
      "INFO:tensorflow:Evaluation [107/1000]\n",
      "INFO:tensorflow:Evaluation [108/1000]\n",
      "INFO:tensorflow:Evaluation [109/1000]\n",
      "INFO:tensorflow:Evaluation [110/1000]\n",
      "INFO:tensorflow:Evaluation [111/1000]\n",
      "INFO:tensorflow:Evaluation [112/1000]\n",
      "INFO:tensorflow:Evaluation [113/1000]\n",
      "INFO:tensorflow:Evaluation [114/1000]\n",
      "INFO:tensorflow:Evaluation [115/1000]\n",
      "INFO:tensorflow:Evaluation [116/1000]\n",
      "INFO:tensorflow:Evaluation [117/1000]\n",
      "INFO:tensorflow:Evaluation [118/1000]\n",
      "INFO:tensorflow:Evaluation [119/1000]\n",
      "INFO:tensorflow:Evaluation [120/1000]\n",
      "INFO:tensorflow:Evaluation [121/1000]\n",
      "INFO:tensorflow:Evaluation [122/1000]\n",
      "INFO:tensorflow:Evaluation [123/1000]\n",
      "INFO:tensorflow:Evaluation [124/1000]\n",
      "INFO:tensorflow:Evaluation [125/1000]\n",
      "INFO:tensorflow:Evaluation [126/1000]\n",
      "INFO:tensorflow:Evaluation [127/1000]\n",
      "INFO:tensorflow:Evaluation [128/1000]\n",
      "INFO:tensorflow:Evaluation [129/1000]\n",
      "INFO:tensorflow:Evaluation [130/1000]\n",
      "INFO:tensorflow:Evaluation [131/1000]\n",
      "INFO:tensorflow:Evaluation [132/1000]\n",
      "INFO:tensorflow:Evaluation [133/1000]\n",
      "INFO:tensorflow:Evaluation [134/1000]\n",
      "INFO:tensorflow:Evaluation [135/1000]\n",
      "INFO:tensorflow:Evaluation [136/1000]\n",
      "INFO:tensorflow:Evaluation [137/1000]\n",
      "INFO:tensorflow:Evaluation [138/1000]\n",
      "INFO:tensorflow:Evaluation [139/1000]\n",
      "INFO:tensorflow:Evaluation [140/1000]\n",
      "INFO:tensorflow:Evaluation [141/1000]\n",
      "INFO:tensorflow:Evaluation [142/1000]\n",
      "INFO:tensorflow:Evaluation [143/1000]\n",
      "INFO:tensorflow:Evaluation [144/1000]\n",
      "INFO:tensorflow:Evaluation [145/1000]\n",
      "INFO:tensorflow:Evaluation [146/1000]\n",
      "INFO:tensorflow:Evaluation [147/1000]\n",
      "INFO:tensorflow:Evaluation [148/1000]\n",
      "INFO:tensorflow:Evaluation [149/1000]\n",
      "INFO:tensorflow:Evaluation [150/1000]\n",
      "INFO:tensorflow:Evaluation [151/1000]\n",
      "INFO:tensorflow:Evaluation [152/1000]\n",
      "INFO:tensorflow:Evaluation [153/1000]\n",
      "INFO:tensorflow:Evaluation [154/1000]\n",
      "INFO:tensorflow:Evaluation [155/1000]\n",
      "INFO:tensorflow:Evaluation [156/1000]\n",
      "INFO:tensorflow:Evaluation [157/1000]\n",
      "INFO:tensorflow:Evaluation [158/1000]\n",
      "INFO:tensorflow:Evaluation [159/1000]\n",
      "INFO:tensorflow:Evaluation [160/1000]\n",
      "INFO:tensorflow:Evaluation [161/1000]\n",
      "INFO:tensorflow:Evaluation [162/1000]\n",
      "INFO:tensorflow:Evaluation [163/1000]\n",
      "INFO:tensorflow:Evaluation [164/1000]\n",
      "INFO:tensorflow:Evaluation [165/1000]\n",
      "INFO:tensorflow:Evaluation [166/1000]\n",
      "INFO:tensorflow:Evaluation [167/1000]\n",
      "INFO:tensorflow:Evaluation [168/1000]\n",
      "INFO:tensorflow:Evaluation [169/1000]\n",
      "INFO:tensorflow:Evaluation [170/1000]\n",
      "INFO:tensorflow:Evaluation [171/1000]\n",
      "INFO:tensorflow:Evaluation [172/1000]\n",
      "INFO:tensorflow:Evaluation [173/1000]\n",
      "INFO:tensorflow:Evaluation [174/1000]\n",
      "INFO:tensorflow:Evaluation [175/1000]\n",
      "INFO:tensorflow:Evaluation [176/1000]\n",
      "INFO:tensorflow:Evaluation [177/1000]\n",
      "INFO:tensorflow:Evaluation [178/1000]\n",
      "INFO:tensorflow:Evaluation [179/1000]\n",
      "INFO:tensorflow:Evaluation [180/1000]\n",
      "INFO:tensorflow:Evaluation [181/1000]\n",
      "INFO:tensorflow:Evaluation [182/1000]\n",
      "INFO:tensorflow:Evaluation [183/1000]\n",
      "INFO:tensorflow:Evaluation [184/1000]\n",
      "INFO:tensorflow:Evaluation [185/1000]\n",
      "INFO:tensorflow:Evaluation [186/1000]\n",
      "INFO:tensorflow:Evaluation [187/1000]\n",
      "INFO:tensorflow:Evaluation [188/1000]\n",
      "INFO:tensorflow:Evaluation [189/1000]\n",
      "INFO:tensorflow:Evaluation [190/1000]\n",
      "INFO:tensorflow:Evaluation [191/1000]\n",
      "INFO:tensorflow:Evaluation [192/1000]\n",
      "INFO:tensorflow:Evaluation [193/1000]\n",
      "INFO:tensorflow:Evaluation [194/1000]\n",
      "INFO:tensorflow:Evaluation [195/1000]\n",
      "INFO:tensorflow:Evaluation [196/1000]\n",
      "INFO:tensorflow:Evaluation [197/1000]\n",
      "INFO:tensorflow:Evaluation [198/1000]\n",
      "INFO:tensorflow:Evaluation [199/1000]\n",
      "INFO:tensorflow:Evaluation [200/1000]\n",
      "INFO:tensorflow:Evaluation [201/1000]\n",
      "INFO:tensorflow:Evaluation [202/1000]\n",
      "INFO:tensorflow:Evaluation [203/1000]\n",
      "INFO:tensorflow:Evaluation [204/1000]\n",
      "INFO:tensorflow:Evaluation [205/1000]\n",
      "INFO:tensorflow:Evaluation [206/1000]\n",
      "INFO:tensorflow:Evaluation [207/1000]\n",
      "INFO:tensorflow:Evaluation [208/1000]\n",
      "INFO:tensorflow:Evaluation [209/1000]\n",
      "INFO:tensorflow:Evaluation [210/1000]\n",
      "INFO:tensorflow:Evaluation [211/1000]\n",
      "INFO:tensorflow:Evaluation [212/1000]\n",
      "INFO:tensorflow:Evaluation [213/1000]\n",
      "INFO:tensorflow:Evaluation [214/1000]\n",
      "INFO:tensorflow:Evaluation [215/1000]\n"
     ]
    },
    {
     "name": "stdout",
     "output_type": "stream",
     "text": [
      "INFO:tensorflow:Evaluation [216/1000]\n",
      "INFO:tensorflow:Evaluation [217/1000]\n",
      "INFO:tensorflow:Evaluation [218/1000]\n",
      "INFO:tensorflow:Evaluation [219/1000]\n",
      "INFO:tensorflow:Evaluation [220/1000]\n",
      "INFO:tensorflow:Evaluation [221/1000]\n",
      "INFO:tensorflow:Evaluation [222/1000]\n",
      "INFO:tensorflow:Evaluation [223/1000]\n",
      "INFO:tensorflow:Evaluation [224/1000]\n",
      "INFO:tensorflow:Evaluation [225/1000]\n",
      "INFO:tensorflow:Evaluation [226/1000]\n",
      "INFO:tensorflow:Evaluation [227/1000]\n",
      "INFO:tensorflow:Evaluation [228/1000]\n",
      "INFO:tensorflow:Evaluation [229/1000]\n",
      "INFO:tensorflow:Evaluation [230/1000]\n",
      "INFO:tensorflow:Evaluation [231/1000]\n",
      "INFO:tensorflow:Evaluation [232/1000]\n",
      "INFO:tensorflow:Evaluation [233/1000]\n",
      "INFO:tensorflow:Evaluation [234/1000]\n",
      "INFO:tensorflow:Evaluation [235/1000]\n",
      "INFO:tensorflow:Evaluation [236/1000]\n",
      "INFO:tensorflow:Evaluation [237/1000]\n",
      "INFO:tensorflow:Evaluation [238/1000]\n",
      "INFO:tensorflow:Evaluation [239/1000]\n",
      "INFO:tensorflow:Evaluation [240/1000]\n",
      "INFO:tensorflow:Evaluation [241/1000]\n",
      "INFO:tensorflow:Evaluation [242/1000]\n",
      "INFO:tensorflow:Evaluation [243/1000]\n",
      "INFO:tensorflow:Evaluation [244/1000]\n",
      "INFO:tensorflow:Evaluation [245/1000]\n",
      "INFO:tensorflow:Evaluation [246/1000]\n",
      "INFO:tensorflow:Evaluation [247/1000]\n",
      "INFO:tensorflow:Evaluation [248/1000]\n",
      "INFO:tensorflow:Evaluation [249/1000]\n",
      "INFO:tensorflow:Evaluation [250/1000]\n",
      "INFO:tensorflow:Evaluation [251/1000]\n",
      "INFO:tensorflow:Evaluation [252/1000]\n",
      "INFO:tensorflow:Evaluation [253/1000]\n",
      "INFO:tensorflow:Evaluation [254/1000]\n",
      "INFO:tensorflow:Evaluation [255/1000]\n",
      "INFO:tensorflow:Evaluation [256/1000]\n",
      "INFO:tensorflow:Evaluation [257/1000]\n",
      "INFO:tensorflow:Evaluation [258/1000]\n",
      "INFO:tensorflow:Evaluation [259/1000]\n",
      "INFO:tensorflow:Evaluation [260/1000]\n",
      "INFO:tensorflow:Evaluation [261/1000]\n",
      "INFO:tensorflow:Evaluation [262/1000]\n",
      "INFO:tensorflow:Evaluation [263/1000]\n",
      "INFO:tensorflow:Evaluation [264/1000]\n",
      "INFO:tensorflow:Evaluation [265/1000]\n",
      "INFO:tensorflow:Evaluation [266/1000]\n",
      "INFO:tensorflow:Evaluation [267/1000]\n",
      "INFO:tensorflow:Evaluation [268/1000]\n",
      "INFO:tensorflow:Evaluation [269/1000]\n",
      "INFO:tensorflow:Evaluation [270/1000]\n",
      "INFO:tensorflow:Evaluation [271/1000]\n",
      "INFO:tensorflow:Evaluation [272/1000]\n",
      "INFO:tensorflow:Evaluation [273/1000]\n",
      "INFO:tensorflow:Evaluation [274/1000]\n",
      "INFO:tensorflow:Evaluation [275/1000]\n",
      "INFO:tensorflow:Evaluation [276/1000]\n",
      "INFO:tensorflow:Evaluation [277/1000]\n",
      "INFO:tensorflow:Evaluation [278/1000]\n",
      "INFO:tensorflow:Evaluation [279/1000]\n",
      "INFO:tensorflow:Evaluation [280/1000]\n",
      "INFO:tensorflow:Evaluation [281/1000]\n",
      "INFO:tensorflow:Evaluation [282/1000]\n",
      "INFO:tensorflow:Evaluation [283/1000]\n",
      "INFO:tensorflow:Evaluation [284/1000]\n",
      "INFO:tensorflow:Evaluation [285/1000]\n",
      "INFO:tensorflow:Evaluation [286/1000]\n",
      "INFO:tensorflow:Evaluation [287/1000]\n",
      "INFO:tensorflow:Evaluation [288/1000]\n",
      "INFO:tensorflow:Evaluation [289/1000]\n",
      "INFO:tensorflow:Evaluation [290/1000]\n",
      "INFO:tensorflow:Evaluation [291/1000]\n",
      "INFO:tensorflow:Evaluation [292/1000]\n",
      "INFO:tensorflow:Evaluation [293/1000]\n",
      "INFO:tensorflow:Evaluation [294/1000]\n",
      "INFO:tensorflow:Evaluation [295/1000]\n",
      "INFO:tensorflow:Evaluation [296/1000]\n",
      "INFO:tensorflow:Evaluation [297/1000]\n",
      "INFO:tensorflow:Evaluation [298/1000]\n",
      "INFO:tensorflow:Evaluation [299/1000]\n",
      "INFO:tensorflow:Evaluation [300/1000]\n",
      "INFO:tensorflow:Evaluation [301/1000]\n",
      "INFO:tensorflow:Evaluation [302/1000]\n",
      "INFO:tensorflow:Evaluation [303/1000]\n",
      "INFO:tensorflow:Evaluation [304/1000]\n",
      "INFO:tensorflow:Evaluation [305/1000]\n",
      "INFO:tensorflow:Evaluation [306/1000]\n",
      "INFO:tensorflow:Evaluation [307/1000]\n",
      "INFO:tensorflow:Evaluation [308/1000]\n",
      "INFO:tensorflow:Evaluation [309/1000]\n",
      "INFO:tensorflow:Evaluation [310/1000]\n",
      "INFO:tensorflow:Evaluation [311/1000]\n",
      "INFO:tensorflow:Evaluation [312/1000]\n",
      "INFO:tensorflow:Evaluation [313/1000]\n",
      "INFO:tensorflow:Evaluation [314/1000]\n",
      "INFO:tensorflow:Evaluation [315/1000]\n",
      "INFO:tensorflow:Evaluation [316/1000]\n",
      "INFO:tensorflow:Evaluation [317/1000]\n",
      "INFO:tensorflow:Evaluation [318/1000]\n",
      "INFO:tensorflow:Evaluation [319/1000]\n",
      "INFO:tensorflow:Evaluation [320/1000]\n",
      "INFO:tensorflow:Evaluation [321/1000]\n",
      "INFO:tensorflow:Evaluation [322/1000]\n",
      "INFO:tensorflow:Evaluation [323/1000]\n",
      "INFO:tensorflow:Evaluation [324/1000]\n",
      "INFO:tensorflow:Evaluation [325/1000]\n",
      "INFO:tensorflow:Evaluation [326/1000]\n",
      "INFO:tensorflow:Evaluation [327/1000]\n",
      "INFO:tensorflow:Evaluation [328/1000]\n",
      "INFO:tensorflow:Evaluation [329/1000]\n",
      "INFO:tensorflow:Evaluation [330/1000]\n",
      "INFO:tensorflow:Evaluation [331/1000]\n",
      "INFO:tensorflow:Evaluation [332/1000]\n",
      "INFO:tensorflow:Evaluation [333/1000]\n",
      "INFO:tensorflow:Evaluation [334/1000]\n",
      "INFO:tensorflow:Evaluation [335/1000]\n",
      "INFO:tensorflow:Evaluation [336/1000]\n",
      "INFO:tensorflow:Evaluation [337/1000]\n",
      "INFO:tensorflow:Evaluation [338/1000]\n",
      "INFO:tensorflow:Evaluation [339/1000]\n",
      "INFO:tensorflow:Evaluation [340/1000]\n",
      "INFO:tensorflow:Evaluation [341/1000]\n",
      "INFO:tensorflow:Evaluation [342/1000]\n",
      "INFO:tensorflow:Evaluation [343/1000]\n",
      "INFO:tensorflow:Evaluation [344/1000]\n",
      "INFO:tensorflow:Evaluation [345/1000]\n",
      "INFO:tensorflow:Evaluation [346/1000]\n",
      "INFO:tensorflow:Evaluation [347/1000]\n",
      "INFO:tensorflow:Evaluation [348/1000]\n",
      "INFO:tensorflow:Evaluation [349/1000]\n",
      "INFO:tensorflow:Evaluation [350/1000]\n",
      "INFO:tensorflow:Evaluation [351/1000]\n",
      "INFO:tensorflow:Evaluation [352/1000]\n",
      "INFO:tensorflow:Evaluation [353/1000]\n",
      "INFO:tensorflow:Evaluation [354/1000]\n",
      "INFO:tensorflow:Evaluation [355/1000]\n",
      "INFO:tensorflow:Evaluation [356/1000]\n",
      "INFO:tensorflow:Evaluation [357/1000]\n",
      "INFO:tensorflow:Evaluation [358/1000]\n",
      "INFO:tensorflow:Evaluation [359/1000]\n",
      "INFO:tensorflow:Evaluation [360/1000]\n",
      "INFO:tensorflow:Evaluation [361/1000]\n",
      "INFO:tensorflow:Evaluation [362/1000]\n",
      "INFO:tensorflow:Evaluation [363/1000]\n",
      "INFO:tensorflow:Evaluation [364/1000]\n",
      "INFO:tensorflow:Evaluation [365/1000]\n",
      "INFO:tensorflow:Evaluation [366/1000]\n",
      "INFO:tensorflow:Evaluation [367/1000]\n",
      "INFO:tensorflow:Evaluation [368/1000]\n",
      "INFO:tensorflow:Evaluation [369/1000]\n",
      "INFO:tensorflow:Evaluation [370/1000]\n",
      "INFO:tensorflow:Evaluation [371/1000]\n",
      "INFO:tensorflow:Evaluation [372/1000]\n",
      "INFO:tensorflow:Evaluation [373/1000]\n",
      "INFO:tensorflow:Evaluation [374/1000]\n",
      "INFO:tensorflow:Evaluation [375/1000]\n",
      "INFO:tensorflow:Evaluation [376/1000]\n",
      "INFO:tensorflow:Evaluation [377/1000]\n",
      "INFO:tensorflow:Evaluation [378/1000]\n",
      "INFO:tensorflow:Evaluation [379/1000]\n",
      "INFO:tensorflow:Evaluation [380/1000]\n",
      "INFO:tensorflow:Evaluation [381/1000]\n",
      "INFO:tensorflow:Evaluation [382/1000]\n",
      "INFO:tensorflow:Evaluation [383/1000]\n",
      "INFO:tensorflow:Evaluation [384/1000]\n",
      "INFO:tensorflow:Evaluation [385/1000]\n",
      "INFO:tensorflow:Evaluation [386/1000]\n",
      "INFO:tensorflow:Evaluation [387/1000]\n",
      "INFO:tensorflow:Evaluation [388/1000]\n",
      "INFO:tensorflow:Evaluation [389/1000]\n",
      "INFO:tensorflow:Evaluation [390/1000]\n",
      "INFO:tensorflow:Evaluation [391/1000]\n",
      "INFO:tensorflow:Evaluation [392/1000]\n",
      "INFO:tensorflow:Evaluation [393/1000]\n",
      "INFO:tensorflow:Evaluation [394/1000]\n",
      "INFO:tensorflow:Evaluation [395/1000]\n",
      "INFO:tensorflow:Evaluation [396/1000]\n",
      "INFO:tensorflow:Evaluation [397/1000]\n",
      "INFO:tensorflow:Evaluation [398/1000]\n",
      "INFO:tensorflow:Evaluation [399/1000]\n",
      "INFO:tensorflow:Evaluation [400/1000]\n",
      "INFO:tensorflow:Evaluation [401/1000]\n",
      "INFO:tensorflow:Evaluation [402/1000]\n",
      "INFO:tensorflow:Evaluation [403/1000]\n",
      "INFO:tensorflow:Evaluation [404/1000]\n",
      "INFO:tensorflow:Evaluation [405/1000]\n",
      "INFO:tensorflow:Evaluation [406/1000]\n",
      "INFO:tensorflow:Evaluation [407/1000]\n",
      "INFO:tensorflow:Evaluation [408/1000]\n",
      "INFO:tensorflow:Evaluation [409/1000]\n",
      "INFO:tensorflow:Evaluation [410/1000]\n",
      "INFO:tensorflow:Evaluation [411/1000]\n",
      "INFO:tensorflow:Evaluation [412/1000]\n",
      "INFO:tensorflow:Evaluation [413/1000]\n",
      "INFO:tensorflow:Evaluation [414/1000]\n",
      "INFO:tensorflow:Evaluation [415/1000]\n",
      "INFO:tensorflow:Evaluation [416/1000]\n",
      "INFO:tensorflow:Evaluation [417/1000]\n",
      "INFO:tensorflow:Evaluation [418/1000]\n",
      "INFO:tensorflow:Evaluation [419/1000]\n",
      "INFO:tensorflow:Evaluation [420/1000]\n",
      "INFO:tensorflow:Evaluation [421/1000]\n",
      "INFO:tensorflow:Evaluation [422/1000]\n",
      "INFO:tensorflow:Evaluation [423/1000]\n",
      "INFO:tensorflow:Evaluation [424/1000]\n",
      "INFO:tensorflow:Evaluation [425/1000]\n",
      "INFO:tensorflow:Evaluation [426/1000]\n",
      "INFO:tensorflow:Evaluation [427/1000]\n",
      "INFO:tensorflow:Evaluation [428/1000]\n",
      "INFO:tensorflow:Evaluation [429/1000]\n",
      "INFO:tensorflow:Evaluation [430/1000]\n"
     ]
    },
    {
     "name": "stdout",
     "output_type": "stream",
     "text": [
      "INFO:tensorflow:Evaluation [431/1000]\n",
      "INFO:tensorflow:Evaluation [432/1000]\n",
      "INFO:tensorflow:Evaluation [433/1000]\n",
      "INFO:tensorflow:Evaluation [434/1000]\n",
      "INFO:tensorflow:Evaluation [435/1000]\n",
      "INFO:tensorflow:Evaluation [436/1000]\n",
      "INFO:tensorflow:Evaluation [437/1000]\n",
      "INFO:tensorflow:Evaluation [438/1000]\n",
      "INFO:tensorflow:Evaluation [439/1000]\n",
      "INFO:tensorflow:Evaluation [440/1000]\n",
      "INFO:tensorflow:Evaluation [441/1000]\n",
      "INFO:tensorflow:Evaluation [442/1000]\n",
      "INFO:tensorflow:Evaluation [443/1000]\n",
      "INFO:tensorflow:Evaluation [444/1000]\n",
      "INFO:tensorflow:Evaluation [445/1000]\n",
      "INFO:tensorflow:Evaluation [446/1000]\n",
      "INFO:tensorflow:Evaluation [447/1000]\n",
      "INFO:tensorflow:Evaluation [448/1000]\n",
      "INFO:tensorflow:Evaluation [449/1000]\n",
      "INFO:tensorflow:Evaluation [450/1000]\n",
      "INFO:tensorflow:Evaluation [451/1000]\n",
      "INFO:tensorflow:Evaluation [452/1000]\n",
      "INFO:tensorflow:Evaluation [453/1000]\n",
      "INFO:tensorflow:Evaluation [454/1000]\n",
      "INFO:tensorflow:Evaluation [455/1000]\n",
      "INFO:tensorflow:Evaluation [456/1000]\n",
      "INFO:tensorflow:Evaluation [457/1000]\n",
      "INFO:tensorflow:Evaluation [458/1000]\n",
      "INFO:tensorflow:Evaluation [459/1000]\n",
      "INFO:tensorflow:Evaluation [460/1000]\n",
      "INFO:tensorflow:Evaluation [461/1000]\n",
      "INFO:tensorflow:Evaluation [462/1000]\n",
      "INFO:tensorflow:Evaluation [463/1000]\n",
      "INFO:tensorflow:Evaluation [464/1000]\n",
      "INFO:tensorflow:Evaluation [465/1000]\n",
      "INFO:tensorflow:Evaluation [466/1000]\n",
      "INFO:tensorflow:Evaluation [467/1000]\n",
      "INFO:tensorflow:Evaluation [468/1000]\n",
      "INFO:tensorflow:Evaluation [469/1000]\n",
      "INFO:tensorflow:Evaluation [470/1000]\n",
      "INFO:tensorflow:Evaluation [471/1000]\n",
      "INFO:tensorflow:Evaluation [472/1000]\n",
      "INFO:tensorflow:Evaluation [473/1000]\n",
      "INFO:tensorflow:Evaluation [474/1000]\n",
      "INFO:tensorflow:Evaluation [475/1000]\n",
      "INFO:tensorflow:Evaluation [476/1000]\n",
      "INFO:tensorflow:Evaluation [477/1000]\n",
      "INFO:tensorflow:Evaluation [478/1000]\n",
      "INFO:tensorflow:Evaluation [479/1000]\n",
      "INFO:tensorflow:Evaluation [480/1000]\n",
      "INFO:tensorflow:Evaluation [481/1000]\n",
      "INFO:tensorflow:Evaluation [482/1000]\n",
      "INFO:tensorflow:Evaluation [483/1000]\n",
      "INFO:tensorflow:Evaluation [484/1000]\n",
      "INFO:tensorflow:Evaluation [485/1000]\n",
      "INFO:tensorflow:Evaluation [486/1000]\n",
      "INFO:tensorflow:Evaluation [487/1000]\n",
      "INFO:tensorflow:Evaluation [488/1000]\n",
      "INFO:tensorflow:Evaluation [489/1000]\n",
      "INFO:tensorflow:Evaluation [490/1000]\n",
      "INFO:tensorflow:Evaluation [491/1000]\n",
      "INFO:tensorflow:Evaluation [492/1000]\n",
      "INFO:tensorflow:Evaluation [493/1000]\n",
      "INFO:tensorflow:Evaluation [494/1000]\n",
      "INFO:tensorflow:Evaluation [495/1000]\n",
      "INFO:tensorflow:Evaluation [496/1000]\n",
      "INFO:tensorflow:Evaluation [497/1000]\n",
      "INFO:tensorflow:Evaluation [498/1000]\n",
      "INFO:tensorflow:Evaluation [499/1000]\n",
      "INFO:tensorflow:Evaluation [500/1000]\n",
      "INFO:tensorflow:Evaluation [501/1000]\n",
      "INFO:tensorflow:Evaluation [502/1000]\n",
      "INFO:tensorflow:Evaluation [503/1000]\n",
      "INFO:tensorflow:Evaluation [504/1000]\n",
      "INFO:tensorflow:Evaluation [505/1000]\n",
      "INFO:tensorflow:Evaluation [506/1000]\n",
      "INFO:tensorflow:Evaluation [507/1000]\n",
      "INFO:tensorflow:Evaluation [508/1000]\n",
      "INFO:tensorflow:Evaluation [509/1000]\n",
      "INFO:tensorflow:Evaluation [510/1000]\n",
      "INFO:tensorflow:Evaluation [511/1000]\n",
      "INFO:tensorflow:Evaluation [512/1000]\n",
      "INFO:tensorflow:Evaluation [513/1000]\n",
      "INFO:tensorflow:Evaluation [514/1000]\n",
      "INFO:tensorflow:Evaluation [515/1000]\n",
      "INFO:tensorflow:Evaluation [516/1000]\n",
      "INFO:tensorflow:Evaluation [517/1000]\n",
      "INFO:tensorflow:Evaluation [518/1000]\n",
      "INFO:tensorflow:Evaluation [519/1000]\n",
      "INFO:tensorflow:Evaluation [520/1000]\n",
      "INFO:tensorflow:Evaluation [521/1000]\n",
      "INFO:tensorflow:Evaluation [522/1000]\n",
      "INFO:tensorflow:Evaluation [523/1000]\n",
      "INFO:tensorflow:Evaluation [524/1000]\n",
      "INFO:tensorflow:Evaluation [525/1000]\n",
      "INFO:tensorflow:Evaluation [526/1000]\n",
      "INFO:tensorflow:Evaluation [527/1000]\n",
      "INFO:tensorflow:Evaluation [528/1000]\n",
      "INFO:tensorflow:Evaluation [529/1000]\n",
      "INFO:tensorflow:Evaluation [530/1000]\n",
      "INFO:tensorflow:Evaluation [531/1000]\n",
      "INFO:tensorflow:Evaluation [532/1000]\n",
      "INFO:tensorflow:Evaluation [533/1000]\n",
      "INFO:tensorflow:Evaluation [534/1000]\n",
      "INFO:tensorflow:Evaluation [535/1000]\n",
      "INFO:tensorflow:Evaluation [536/1000]\n",
      "INFO:tensorflow:Evaluation [537/1000]\n",
      "INFO:tensorflow:Evaluation [538/1000]\n",
      "INFO:tensorflow:Evaluation [539/1000]\n",
      "INFO:tensorflow:Evaluation [540/1000]\n",
      "INFO:tensorflow:Evaluation [541/1000]\n",
      "INFO:tensorflow:Evaluation [542/1000]\n",
      "INFO:tensorflow:Evaluation [543/1000]\n",
      "INFO:tensorflow:Evaluation [544/1000]\n",
      "INFO:tensorflow:Evaluation [545/1000]\n",
      "INFO:tensorflow:Evaluation [546/1000]\n",
      "INFO:tensorflow:Evaluation [547/1000]\n",
      "INFO:tensorflow:Evaluation [548/1000]\n",
      "INFO:tensorflow:Evaluation [549/1000]\n",
      "INFO:tensorflow:Evaluation [550/1000]\n",
      "INFO:tensorflow:Evaluation [551/1000]\n",
      "INFO:tensorflow:Evaluation [552/1000]\n",
      "INFO:tensorflow:Evaluation [553/1000]\n",
      "INFO:tensorflow:Evaluation [554/1000]\n",
      "INFO:tensorflow:Evaluation [555/1000]\n",
      "INFO:tensorflow:Evaluation [556/1000]\n",
      "INFO:tensorflow:Evaluation [557/1000]\n",
      "INFO:tensorflow:Evaluation [558/1000]\n",
      "INFO:tensorflow:Evaluation [559/1000]\n",
      "INFO:tensorflow:Evaluation [560/1000]\n",
      "INFO:tensorflow:Evaluation [561/1000]\n",
      "INFO:tensorflow:Evaluation [562/1000]\n",
      "INFO:tensorflow:Evaluation [563/1000]\n",
      "INFO:tensorflow:Evaluation [564/1000]\n",
      "INFO:tensorflow:Evaluation [565/1000]\n",
      "INFO:tensorflow:Evaluation [566/1000]\n",
      "INFO:tensorflow:Evaluation [567/1000]\n",
      "INFO:tensorflow:Evaluation [568/1000]\n",
      "INFO:tensorflow:Evaluation [569/1000]\n",
      "INFO:tensorflow:Evaluation [570/1000]\n",
      "INFO:tensorflow:Evaluation [571/1000]\n",
      "INFO:tensorflow:Evaluation [572/1000]\n",
      "INFO:tensorflow:Evaluation [573/1000]\n",
      "INFO:tensorflow:Evaluation [574/1000]\n",
      "INFO:tensorflow:Evaluation [575/1000]\n",
      "INFO:tensorflow:Evaluation [576/1000]\n",
      "INFO:tensorflow:Evaluation [577/1000]\n",
      "INFO:tensorflow:Evaluation [578/1000]\n",
      "INFO:tensorflow:Evaluation [579/1000]\n",
      "INFO:tensorflow:Evaluation [580/1000]\n",
      "INFO:tensorflow:Evaluation [581/1000]\n",
      "INFO:tensorflow:Evaluation [582/1000]\n",
      "INFO:tensorflow:Evaluation [583/1000]\n",
      "INFO:tensorflow:Evaluation [584/1000]\n",
      "INFO:tensorflow:Evaluation [585/1000]\n",
      "INFO:tensorflow:Evaluation [586/1000]\n",
      "INFO:tensorflow:Evaluation [587/1000]\n",
      "INFO:tensorflow:Evaluation [588/1000]\n",
      "INFO:tensorflow:Evaluation [589/1000]\n",
      "INFO:tensorflow:Evaluation [590/1000]\n",
      "INFO:tensorflow:Evaluation [591/1000]\n",
      "INFO:tensorflow:Evaluation [592/1000]\n",
      "INFO:tensorflow:Evaluation [593/1000]\n",
      "INFO:tensorflow:Evaluation [594/1000]\n",
      "INFO:tensorflow:Evaluation [595/1000]\n",
      "INFO:tensorflow:Evaluation [596/1000]\n",
      "INFO:tensorflow:Evaluation [597/1000]\n",
      "INFO:tensorflow:Evaluation [598/1000]\n",
      "INFO:tensorflow:Evaluation [599/1000]\n",
      "INFO:tensorflow:Evaluation [600/1000]\n",
      "INFO:tensorflow:Evaluation [601/1000]\n",
      "INFO:tensorflow:Evaluation [602/1000]\n",
      "INFO:tensorflow:Evaluation [603/1000]\n",
      "INFO:tensorflow:Evaluation [604/1000]\n",
      "INFO:tensorflow:Evaluation [605/1000]\n",
      "INFO:tensorflow:Evaluation [606/1000]\n",
      "INFO:tensorflow:Evaluation [607/1000]\n",
      "INFO:tensorflow:Evaluation [608/1000]\n",
      "INFO:tensorflow:Evaluation [609/1000]\n",
      "INFO:tensorflow:Evaluation [610/1000]\n",
      "INFO:tensorflow:Evaluation [611/1000]\n",
      "INFO:tensorflow:Evaluation [612/1000]\n",
      "INFO:tensorflow:Evaluation [613/1000]\n",
      "INFO:tensorflow:Evaluation [614/1000]\n",
      "INFO:tensorflow:Evaluation [615/1000]\n",
      "INFO:tensorflow:Evaluation [616/1000]\n",
      "INFO:tensorflow:Evaluation [617/1000]\n",
      "INFO:tensorflow:Evaluation [618/1000]\n",
      "INFO:tensorflow:Evaluation [619/1000]\n",
      "INFO:tensorflow:Evaluation [620/1000]\n",
      "INFO:tensorflow:Evaluation [621/1000]\n",
      "INFO:tensorflow:Evaluation [622/1000]\n",
      "INFO:tensorflow:Evaluation [623/1000]\n",
      "INFO:tensorflow:Evaluation [624/1000]\n",
      "INFO:tensorflow:Evaluation [625/1000]\n",
      "INFO:tensorflow:Evaluation [626/1000]\n",
      "INFO:tensorflow:Evaluation [627/1000]\n",
      "INFO:tensorflow:Evaluation [628/1000]\n",
      "INFO:tensorflow:Evaluation [629/1000]\n",
      "INFO:tensorflow:Evaluation [630/1000]\n",
      "INFO:tensorflow:Evaluation [631/1000]\n",
      "INFO:tensorflow:Evaluation [632/1000]\n",
      "INFO:tensorflow:Evaluation [633/1000]\n",
      "INFO:tensorflow:Evaluation [634/1000]\n",
      "INFO:tensorflow:Evaluation [635/1000]\n",
      "INFO:tensorflow:Evaluation [636/1000]\n",
      "INFO:tensorflow:Evaluation [637/1000]\n",
      "INFO:tensorflow:Evaluation [638/1000]\n",
      "INFO:tensorflow:Evaluation [639/1000]\n",
      "INFO:tensorflow:Evaluation [640/1000]\n",
      "INFO:tensorflow:Evaluation [641/1000]\n",
      "INFO:tensorflow:Evaluation [642/1000]\n",
      "INFO:tensorflow:Evaluation [643/1000]\n",
      "INFO:tensorflow:Evaluation [644/1000]\n",
      "INFO:tensorflow:Evaluation [645/1000]\n",
      "INFO:tensorflow:Evaluation [646/1000]\n"
     ]
    },
    {
     "name": "stdout",
     "output_type": "stream",
     "text": [
      "INFO:tensorflow:Evaluation [647/1000]\n",
      "INFO:tensorflow:Evaluation [648/1000]\n",
      "INFO:tensorflow:Evaluation [649/1000]\n",
      "INFO:tensorflow:Evaluation [650/1000]\n",
      "INFO:tensorflow:Evaluation [651/1000]\n",
      "INFO:tensorflow:Evaluation [652/1000]\n",
      "INFO:tensorflow:Evaluation [653/1000]\n",
      "INFO:tensorflow:Evaluation [654/1000]\n",
      "INFO:tensorflow:Evaluation [655/1000]\n",
      "INFO:tensorflow:Evaluation [656/1000]\n",
      "INFO:tensorflow:Evaluation [657/1000]\n",
      "INFO:tensorflow:Evaluation [658/1000]\n",
      "INFO:tensorflow:Evaluation [659/1000]\n",
      "INFO:tensorflow:Evaluation [660/1000]\n",
      "INFO:tensorflow:Evaluation [661/1000]\n",
      "INFO:tensorflow:Evaluation [662/1000]\n",
      "INFO:tensorflow:Evaluation [663/1000]\n",
      "INFO:tensorflow:Evaluation [664/1000]\n",
      "INFO:tensorflow:Evaluation [665/1000]\n",
      "INFO:tensorflow:Evaluation [666/1000]\n",
      "INFO:tensorflow:Evaluation [667/1000]\n",
      "INFO:tensorflow:Evaluation [668/1000]\n",
      "INFO:tensorflow:Evaluation [669/1000]\n",
      "INFO:tensorflow:Evaluation [670/1000]\n",
      "INFO:tensorflow:Evaluation [671/1000]\n",
      "INFO:tensorflow:Evaluation [672/1000]\n",
      "INFO:tensorflow:Evaluation [673/1000]\n",
      "INFO:tensorflow:Evaluation [674/1000]\n",
      "INFO:tensorflow:Evaluation [675/1000]\n",
      "INFO:tensorflow:Evaluation [676/1000]\n",
      "INFO:tensorflow:Evaluation [677/1000]\n",
      "INFO:tensorflow:Evaluation [678/1000]\n",
      "INFO:tensorflow:Evaluation [679/1000]\n",
      "INFO:tensorflow:Evaluation [680/1000]\n",
      "INFO:tensorflow:Evaluation [681/1000]\n",
      "INFO:tensorflow:Evaluation [682/1000]\n",
      "INFO:tensorflow:Evaluation [683/1000]\n",
      "INFO:tensorflow:Evaluation [684/1000]\n",
      "INFO:tensorflow:Evaluation [685/1000]\n",
      "INFO:tensorflow:Evaluation [686/1000]\n",
      "INFO:tensorflow:Evaluation [687/1000]\n",
      "INFO:tensorflow:Evaluation [688/1000]\n",
      "INFO:tensorflow:Evaluation [689/1000]\n",
      "INFO:tensorflow:Evaluation [690/1000]\n",
      "INFO:tensorflow:Evaluation [691/1000]\n",
      "INFO:tensorflow:Evaluation [692/1000]\n",
      "INFO:tensorflow:Evaluation [693/1000]\n",
      "INFO:tensorflow:Evaluation [694/1000]\n",
      "INFO:tensorflow:Evaluation [695/1000]\n",
      "INFO:tensorflow:Evaluation [696/1000]\n",
      "INFO:tensorflow:Evaluation [697/1000]\n",
      "INFO:tensorflow:Evaluation [698/1000]\n",
      "INFO:tensorflow:Evaluation [699/1000]\n",
      "INFO:tensorflow:Evaluation [700/1000]\n",
      "INFO:tensorflow:Evaluation [701/1000]\n",
      "INFO:tensorflow:Evaluation [702/1000]\n",
      "INFO:tensorflow:Evaluation [703/1000]\n",
      "INFO:tensorflow:Evaluation [704/1000]\n",
      "INFO:tensorflow:Evaluation [705/1000]\n",
      "INFO:tensorflow:Evaluation [706/1000]\n",
      "INFO:tensorflow:Evaluation [707/1000]\n",
      "INFO:tensorflow:Evaluation [708/1000]\n",
      "INFO:tensorflow:Evaluation [709/1000]\n",
      "INFO:tensorflow:Evaluation [710/1000]\n",
      "INFO:tensorflow:Evaluation [711/1000]\n",
      "INFO:tensorflow:Evaluation [712/1000]\n",
      "INFO:tensorflow:Evaluation [713/1000]\n",
      "INFO:tensorflow:Evaluation [714/1000]\n",
      "INFO:tensorflow:Evaluation [715/1000]\n",
      "INFO:tensorflow:Evaluation [716/1000]\n",
      "INFO:tensorflow:Evaluation [717/1000]\n",
      "INFO:tensorflow:Evaluation [718/1000]\n",
      "INFO:tensorflow:Evaluation [719/1000]\n",
      "INFO:tensorflow:Evaluation [720/1000]\n",
      "INFO:tensorflow:Evaluation [721/1000]\n",
      "INFO:tensorflow:Evaluation [722/1000]\n",
      "INFO:tensorflow:Evaluation [723/1000]\n",
      "INFO:tensorflow:Evaluation [724/1000]\n",
      "INFO:tensorflow:Evaluation [725/1000]\n",
      "INFO:tensorflow:Evaluation [726/1000]\n",
      "INFO:tensorflow:Evaluation [727/1000]\n",
      "INFO:tensorflow:Evaluation [728/1000]\n",
      "INFO:tensorflow:Evaluation [729/1000]\n",
      "INFO:tensorflow:Evaluation [730/1000]\n",
      "INFO:tensorflow:Evaluation [731/1000]\n",
      "INFO:tensorflow:Evaluation [732/1000]\n",
      "INFO:tensorflow:Evaluation [733/1000]\n",
      "INFO:tensorflow:Evaluation [734/1000]\n",
      "INFO:tensorflow:Evaluation [735/1000]\n",
      "INFO:tensorflow:Evaluation [736/1000]\n",
      "INFO:tensorflow:Evaluation [737/1000]\n",
      "INFO:tensorflow:Evaluation [738/1000]\n",
      "INFO:tensorflow:Evaluation [739/1000]\n",
      "INFO:tensorflow:Evaluation [740/1000]\n",
      "INFO:tensorflow:Evaluation [741/1000]\n",
      "INFO:tensorflow:Evaluation [742/1000]\n",
      "INFO:tensorflow:Evaluation [743/1000]\n",
      "INFO:tensorflow:Evaluation [744/1000]\n",
      "INFO:tensorflow:Evaluation [745/1000]\n",
      "INFO:tensorflow:Evaluation [746/1000]\n",
      "INFO:tensorflow:Evaluation [747/1000]\n",
      "INFO:tensorflow:Evaluation [748/1000]\n",
      "INFO:tensorflow:Evaluation [749/1000]\n",
      "INFO:tensorflow:Evaluation [750/1000]\n",
      "INFO:tensorflow:Evaluation [751/1000]\n",
      "INFO:tensorflow:Evaluation [752/1000]\n",
      "INFO:tensorflow:Evaluation [753/1000]\n",
      "INFO:tensorflow:Evaluation [754/1000]\n",
      "INFO:tensorflow:Evaluation [755/1000]\n",
      "INFO:tensorflow:Evaluation [756/1000]\n",
      "INFO:tensorflow:Evaluation [757/1000]\n",
      "INFO:tensorflow:Evaluation [758/1000]\n",
      "INFO:tensorflow:Evaluation [759/1000]\n",
      "INFO:tensorflow:Evaluation [760/1000]\n",
      "INFO:tensorflow:Evaluation [761/1000]\n",
      "INFO:tensorflow:Evaluation [762/1000]\n",
      "INFO:tensorflow:Evaluation [763/1000]\n",
      "INFO:tensorflow:Evaluation [764/1000]\n",
      "INFO:tensorflow:Evaluation [765/1000]\n",
      "INFO:tensorflow:Evaluation [766/1000]\n",
      "INFO:tensorflow:Evaluation [767/1000]\n",
      "INFO:tensorflow:Evaluation [768/1000]\n",
      "INFO:tensorflow:Evaluation [769/1000]\n",
      "INFO:tensorflow:Evaluation [770/1000]\n",
      "INFO:tensorflow:Evaluation [771/1000]\n",
      "INFO:tensorflow:Evaluation [772/1000]\n",
      "INFO:tensorflow:Evaluation [773/1000]\n",
      "INFO:tensorflow:Evaluation [774/1000]\n",
      "INFO:tensorflow:Evaluation [775/1000]\n",
      "INFO:tensorflow:Evaluation [776/1000]\n",
      "INFO:tensorflow:Evaluation [777/1000]\n",
      "INFO:tensorflow:Evaluation [778/1000]\n",
      "INFO:tensorflow:Evaluation [779/1000]\n",
      "INFO:tensorflow:Evaluation [780/1000]\n",
      "INFO:tensorflow:Evaluation [781/1000]\n",
      "INFO:tensorflow:Evaluation [782/1000]\n",
      "INFO:tensorflow:Evaluation [783/1000]\n",
      "INFO:tensorflow:Evaluation [784/1000]\n",
      "INFO:tensorflow:Evaluation [785/1000]\n",
      "INFO:tensorflow:Evaluation [786/1000]\n",
      "INFO:tensorflow:Evaluation [787/1000]\n",
      "INFO:tensorflow:Evaluation [788/1000]\n",
      "INFO:tensorflow:Evaluation [789/1000]\n",
      "INFO:tensorflow:Evaluation [790/1000]\n",
      "INFO:tensorflow:Evaluation [791/1000]\n",
      "INFO:tensorflow:Evaluation [792/1000]\n",
      "INFO:tensorflow:Evaluation [793/1000]\n",
      "INFO:tensorflow:Evaluation [794/1000]\n",
      "INFO:tensorflow:Evaluation [795/1000]\n",
      "INFO:tensorflow:Evaluation [796/1000]\n",
      "INFO:tensorflow:Evaluation [797/1000]\n",
      "INFO:tensorflow:Evaluation [798/1000]\n",
      "INFO:tensorflow:Evaluation [799/1000]\n",
      "INFO:tensorflow:Evaluation [800/1000]\n",
      "INFO:tensorflow:Evaluation [801/1000]\n",
      "INFO:tensorflow:Evaluation [802/1000]\n",
      "INFO:tensorflow:Evaluation [803/1000]\n",
      "INFO:tensorflow:Evaluation [804/1000]\n",
      "INFO:tensorflow:Evaluation [805/1000]\n",
      "INFO:tensorflow:Evaluation [806/1000]\n",
      "INFO:tensorflow:Evaluation [807/1000]\n",
      "INFO:tensorflow:Evaluation [808/1000]\n",
      "INFO:tensorflow:Evaluation [809/1000]\n",
      "INFO:tensorflow:Evaluation [810/1000]\n",
      "INFO:tensorflow:Evaluation [811/1000]\n",
      "INFO:tensorflow:Evaluation [812/1000]\n",
      "INFO:tensorflow:Evaluation [813/1000]\n",
      "INFO:tensorflow:Evaluation [814/1000]\n",
      "INFO:tensorflow:Evaluation [815/1000]\n",
      "INFO:tensorflow:Evaluation [816/1000]\n",
      "INFO:tensorflow:Evaluation [817/1000]\n",
      "INFO:tensorflow:Evaluation [818/1000]\n",
      "INFO:tensorflow:Evaluation [819/1000]\n",
      "INFO:tensorflow:Evaluation [820/1000]\n",
      "INFO:tensorflow:Evaluation [821/1000]\n",
      "INFO:tensorflow:Evaluation [822/1000]\n",
      "INFO:tensorflow:Evaluation [823/1000]\n",
      "INFO:tensorflow:Evaluation [824/1000]\n",
      "INFO:tensorflow:Evaluation [825/1000]\n",
      "INFO:tensorflow:Evaluation [826/1000]\n",
      "INFO:tensorflow:Evaluation [827/1000]\n",
      "INFO:tensorflow:Evaluation [828/1000]\n",
      "INFO:tensorflow:Evaluation [829/1000]\n",
      "INFO:tensorflow:Evaluation [830/1000]\n",
      "INFO:tensorflow:Evaluation [831/1000]\n",
      "INFO:tensorflow:Evaluation [832/1000]\n",
      "INFO:tensorflow:Evaluation [833/1000]\n",
      "INFO:tensorflow:Evaluation [834/1000]\n",
      "INFO:tensorflow:Evaluation [835/1000]\n",
      "INFO:tensorflow:Evaluation [836/1000]\n",
      "INFO:tensorflow:Evaluation [837/1000]\n",
      "INFO:tensorflow:Evaluation [838/1000]\n",
      "INFO:tensorflow:Evaluation [839/1000]\n",
      "INFO:tensorflow:Evaluation [840/1000]\n",
      "INFO:tensorflow:Evaluation [841/1000]\n",
      "INFO:tensorflow:Evaluation [842/1000]\n",
      "INFO:tensorflow:Evaluation [843/1000]\n",
      "INFO:tensorflow:Evaluation [844/1000]\n",
      "INFO:tensorflow:Evaluation [845/1000]\n",
      "INFO:tensorflow:Evaluation [846/1000]\n",
      "INFO:tensorflow:Evaluation [847/1000]\n",
      "INFO:tensorflow:Evaluation [848/1000]\n",
      "INFO:tensorflow:Evaluation [849/1000]\n",
      "INFO:tensorflow:Evaluation [850/1000]\n",
      "INFO:tensorflow:Evaluation [851/1000]\n",
      "INFO:tensorflow:Evaluation [852/1000]\n",
      "INFO:tensorflow:Evaluation [853/1000]\n",
      "INFO:tensorflow:Evaluation [854/1000]\n",
      "INFO:tensorflow:Evaluation [855/1000]\n",
      "INFO:tensorflow:Evaluation [856/1000]\n",
      "INFO:tensorflow:Evaluation [857/1000]\n",
      "INFO:tensorflow:Evaluation [858/1000]\n",
      "INFO:tensorflow:Evaluation [859/1000]\n",
      "INFO:tensorflow:Evaluation [860/1000]\n",
      "INFO:tensorflow:Evaluation [861/1000]\n",
      "INFO:tensorflow:Evaluation [862/1000]\n"
     ]
    },
    {
     "name": "stdout",
     "output_type": "stream",
     "text": [
      "INFO:tensorflow:Evaluation [863/1000]\n",
      "INFO:tensorflow:Evaluation [864/1000]\n",
      "INFO:tensorflow:Evaluation [865/1000]\n",
      "INFO:tensorflow:Evaluation [866/1000]\n",
      "INFO:tensorflow:Evaluation [867/1000]\n",
      "INFO:tensorflow:Evaluation [868/1000]\n",
      "INFO:tensorflow:Evaluation [869/1000]\n",
      "INFO:tensorflow:Evaluation [870/1000]\n",
      "INFO:tensorflow:Evaluation [871/1000]\n",
      "INFO:tensorflow:Evaluation [872/1000]\n",
      "INFO:tensorflow:Evaluation [873/1000]\n",
      "INFO:tensorflow:Evaluation [874/1000]\n",
      "INFO:tensorflow:Evaluation [875/1000]\n",
      "INFO:tensorflow:Evaluation [876/1000]\n",
      "INFO:tensorflow:Evaluation [877/1000]\n",
      "INFO:tensorflow:Evaluation [878/1000]\n",
      "INFO:tensorflow:Evaluation [879/1000]\n",
      "INFO:tensorflow:Evaluation [880/1000]\n",
      "INFO:tensorflow:Evaluation [881/1000]\n",
      "INFO:tensorflow:Evaluation [882/1000]\n",
      "INFO:tensorflow:Evaluation [883/1000]\n",
      "INFO:tensorflow:Evaluation [884/1000]\n",
      "INFO:tensorflow:Evaluation [885/1000]\n",
      "INFO:tensorflow:Evaluation [886/1000]\n",
      "INFO:tensorflow:Evaluation [887/1000]\n",
      "INFO:tensorflow:Evaluation [888/1000]\n",
      "INFO:tensorflow:Evaluation [889/1000]\n",
      "INFO:tensorflow:Evaluation [890/1000]\n",
      "INFO:tensorflow:Evaluation [891/1000]\n",
      "INFO:tensorflow:Evaluation [892/1000]\n",
      "INFO:tensorflow:Evaluation [893/1000]\n",
      "INFO:tensorflow:Evaluation [894/1000]\n",
      "INFO:tensorflow:Evaluation [895/1000]\n",
      "INFO:tensorflow:Evaluation [896/1000]\n",
      "INFO:tensorflow:Evaluation [897/1000]\n",
      "INFO:tensorflow:Evaluation [898/1000]\n",
      "INFO:tensorflow:Evaluation [899/1000]\n",
      "INFO:tensorflow:Evaluation [900/1000]\n",
      "INFO:tensorflow:Evaluation [901/1000]\n",
      "INFO:tensorflow:Evaluation [902/1000]\n",
      "INFO:tensorflow:Evaluation [903/1000]\n",
      "INFO:tensorflow:Evaluation [904/1000]\n",
      "INFO:tensorflow:Evaluation [905/1000]\n",
      "INFO:tensorflow:Evaluation [906/1000]\n",
      "INFO:tensorflow:Evaluation [907/1000]\n",
      "INFO:tensorflow:Evaluation [908/1000]\n",
      "INFO:tensorflow:Evaluation [909/1000]\n",
      "INFO:tensorflow:Evaluation [910/1000]\n",
      "INFO:tensorflow:Evaluation [911/1000]\n",
      "INFO:tensorflow:Evaluation [912/1000]\n",
      "INFO:tensorflow:Evaluation [913/1000]\n",
      "INFO:tensorflow:Evaluation [914/1000]\n",
      "INFO:tensorflow:Evaluation [915/1000]\n",
      "INFO:tensorflow:Evaluation [916/1000]\n",
      "INFO:tensorflow:Evaluation [917/1000]\n",
      "INFO:tensorflow:Evaluation [918/1000]\n",
      "INFO:tensorflow:Evaluation [919/1000]\n",
      "INFO:tensorflow:Evaluation [920/1000]\n",
      "INFO:tensorflow:Evaluation [921/1000]\n",
      "INFO:tensorflow:Evaluation [922/1000]\n",
      "INFO:tensorflow:Evaluation [923/1000]\n",
      "INFO:tensorflow:Evaluation [924/1000]\n",
      "INFO:tensorflow:Evaluation [925/1000]\n",
      "INFO:tensorflow:Evaluation [926/1000]\n",
      "INFO:tensorflow:Evaluation [927/1000]\n",
      "INFO:tensorflow:Evaluation [928/1000]\n",
      "INFO:tensorflow:Evaluation [929/1000]\n",
      "INFO:tensorflow:Evaluation [930/1000]\n",
      "INFO:tensorflow:Evaluation [931/1000]\n",
      "INFO:tensorflow:Evaluation [932/1000]\n",
      "INFO:tensorflow:Evaluation [933/1000]\n",
      "INFO:tensorflow:Evaluation [934/1000]\n",
      "INFO:tensorflow:Evaluation [935/1000]\n",
      "INFO:tensorflow:Evaluation [936/1000]\n",
      "INFO:tensorflow:Evaluation [937/1000]\n",
      "INFO:tensorflow:Evaluation [938/1000]\n",
      "INFO:tensorflow:Evaluation [939/1000]\n",
      "INFO:tensorflow:Evaluation [940/1000]\n",
      "INFO:tensorflow:Evaluation [941/1000]\n",
      "INFO:tensorflow:Evaluation [942/1000]\n",
      "INFO:tensorflow:Evaluation [943/1000]\n",
      "INFO:tensorflow:Evaluation [944/1000]\n",
      "INFO:tensorflow:Evaluation [945/1000]\n",
      "INFO:tensorflow:Evaluation [946/1000]\n",
      "INFO:tensorflow:Evaluation [947/1000]\n",
      "INFO:tensorflow:Evaluation [948/1000]\n",
      "INFO:tensorflow:Evaluation [949/1000]\n",
      "INFO:tensorflow:Evaluation [950/1000]\n",
      "INFO:tensorflow:Evaluation [951/1000]\n",
      "INFO:tensorflow:Evaluation [952/1000]\n",
      "INFO:tensorflow:Evaluation [953/1000]\n",
      "INFO:tensorflow:Evaluation [954/1000]\n",
      "INFO:tensorflow:Evaluation [955/1000]\n",
      "INFO:tensorflow:Evaluation [956/1000]\n",
      "INFO:tensorflow:Evaluation [957/1000]\n",
      "INFO:tensorflow:Evaluation [958/1000]\n",
      "INFO:tensorflow:Evaluation [959/1000]\n",
      "INFO:tensorflow:Evaluation [960/1000]\n",
      "INFO:tensorflow:Evaluation [961/1000]\n",
      "INFO:tensorflow:Evaluation [962/1000]\n",
      "INFO:tensorflow:Evaluation [963/1000]\n",
      "INFO:tensorflow:Evaluation [964/1000]\n",
      "INFO:tensorflow:Evaluation [965/1000]\n",
      "INFO:tensorflow:Evaluation [966/1000]\n",
      "INFO:tensorflow:Evaluation [967/1000]\n",
      "INFO:tensorflow:Evaluation [968/1000]\n",
      "INFO:tensorflow:Evaluation [969/1000]\n",
      "INFO:tensorflow:Evaluation [970/1000]\n",
      "INFO:tensorflow:Evaluation [971/1000]\n",
      "INFO:tensorflow:Evaluation [972/1000]\n",
      "INFO:tensorflow:Evaluation [973/1000]\n",
      "INFO:tensorflow:Evaluation [974/1000]\n",
      "INFO:tensorflow:Evaluation [975/1000]\n",
      "INFO:tensorflow:Evaluation [976/1000]\n",
      "INFO:tensorflow:Evaluation [977/1000]\n",
      "INFO:tensorflow:Evaluation [978/1000]\n",
      "INFO:tensorflow:Evaluation [979/1000]\n",
      "INFO:tensorflow:Evaluation [980/1000]\n",
      "INFO:tensorflow:Evaluation [981/1000]\n",
      "INFO:tensorflow:Evaluation [982/1000]\n",
      "INFO:tensorflow:Evaluation [983/1000]\n",
      "INFO:tensorflow:Evaluation [984/1000]\n",
      "INFO:tensorflow:Evaluation [985/1000]\n",
      "INFO:tensorflow:Evaluation [986/1000]\n",
      "INFO:tensorflow:Evaluation [987/1000]\n",
      "INFO:tensorflow:Evaluation [988/1000]\n",
      "INFO:tensorflow:Evaluation [989/1000]\n",
      "INFO:tensorflow:Evaluation [990/1000]\n",
      "INFO:tensorflow:Evaluation [991/1000]\n",
      "INFO:tensorflow:Evaluation [992/1000]\n",
      "INFO:tensorflow:Evaluation [993/1000]\n",
      "INFO:tensorflow:Evaluation [994/1000]\n",
      "INFO:tensorflow:Evaluation [995/1000]\n",
      "INFO:tensorflow:Evaluation [996/1000]\n",
      "INFO:tensorflow:Evaluation [997/1000]\n",
      "INFO:tensorflow:Evaluation [998/1000]\n",
      "INFO:tensorflow:Evaluation [999/1000]\n",
      "INFO:tensorflow:Evaluation [1000/1000]\n",
      "INFO:tensorflow:Finished evaluation at 2018-05-17-08:03:28\n",
      "INFO:tensorflow:Saving dict for global step 1000: average_loss = 1.08739, global_step = 1000, loss = 8.69912\n"
     ]
    }
   ],
   "source": [
    "eval_metrics = estimator.evaluate(input_fn=eval_input_func,steps=1000) "
   ]
  },
  {
   "cell_type": "code",
   "execution_count": 306,
   "metadata": {},
   "outputs": [
    {
     "name": "stdout",
     "output_type": "stream",
     "text": [
      "Training data metrics\n",
      "{'average_loss': 1.0737144, 'loss': 8.589715, 'global_step': 1000}\n"
     ]
    }
   ],
   "source": [
    "print('Training data metrics')\n",
    "print(train_metrics)"
   ]
  },
  {
   "cell_type": "code",
   "execution_count": 307,
   "metadata": {},
   "outputs": [
    {
     "name": "stdout",
     "output_type": "stream",
     "text": [
      "Eval data metrics\n",
      "{'average_loss': 1.0873898, 'loss': 8.6991186, 'global_step': 1000}\n"
     ]
    }
   ],
   "source": [
    "print('Eval data metrics')\n",
    "print(eval_metrics)"
   ]
  },
  {
   "cell_type": "markdown",
   "metadata": {},
   "source": [
    "Overfitting if training data loss small, and eval data loss high. Evaluation data should be slightly worse."
   ]
  },
  {
   "cell_type": "code",
   "execution_count": 308,
   "metadata": {
    "collapsed": true
   },
   "outputs": [],
   "source": [
    "# Predicting\n",
    "brand_new_data = np.linspace(0,10,10)\n",
    "input_fn_predict = tf.estimator.inputs.numpy_input_fn({'x':brand_new_data},shuffle=False)"
   ]
  },
  {
   "cell_type": "code",
   "execution_count": 310,
   "metadata": {},
   "outputs": [
    {
     "name": "stdout",
     "output_type": "stream",
     "text": [
      "INFO:tensorflow:Restoring parameters from C:\\Users\\FRKSTE~1\\AppData\\Local\\Temp\\tmpvxfqtjt1\\model.ckpt-1000\n"
     ]
    },
    {
     "data": {
      "text/plain": [
       "[{'predictions': array([ 4.49587488], dtype=float32)},\n",
       " {'predictions': array([ 5.14347744], dtype=float32)},\n",
       " {'predictions': array([ 5.79108], dtype=float32)},\n",
       " {'predictions': array([ 6.43868256], dtype=float32)},\n",
       " {'predictions': array([ 7.08628464], dtype=float32)},\n",
       " {'predictions': array([ 7.7338872], dtype=float32)},\n",
       " {'predictions': array([ 8.38148975], dtype=float32)},\n",
       " {'predictions': array([ 9.02909279], dtype=float32)},\n",
       " {'predictions': array([ 9.67669487], dtype=float32)},\n",
       " {'predictions': array([ 10.32429695], dtype=float32)}]"
      ]
     },
     "execution_count": 310,
     "metadata": {},
     "output_type": "execute_result"
    }
   ],
   "source": [
    "# need to pass the generator object to a list to see all the individual predictions\n",
    "list(estimator.predict(input_fn=input_fn_predict))"
   ]
  },
  {
   "cell_type": "code",
   "execution_count": 312,
   "metadata": {},
   "outputs": [
    {
     "name": "stdout",
     "output_type": "stream",
     "text": [
      "INFO:tensorflow:Restoring parameters from C:\\Users\\FRKSTE~1\\AppData\\Local\\Temp\\tmpvxfqtjt1\\model.ckpt-1000\n"
     ]
    }
   ],
   "source": [
    "predictions = []\n",
    "\n",
    "for pred in estimator.predict(input_fn=input_fn_predict):\n",
    "    predictions.append(pred['predictions'])"
   ]
  },
  {
   "cell_type": "code",
   "execution_count": 315,
   "metadata": {},
   "outputs": [
    {
     "data": {
      "text/plain": [
       "[<matplotlib.lines.Line2D at 0x27be2d8d978>]"
      ]
     },
     "execution_count": 315,
     "metadata": {},
     "output_type": "execute_result"
    },
    {
     "data": {
      "image/png": "[encoded data removed]",
      "text/plain": [
       "<matplotlib.figure.Figure at 0x27be2d8d6a0>"
      ]
     },
     "metadata": {},
     "output_type": "display_data"
    }
   ],
   "source": [
    "my_data.sample(n=250).plot(kind='scatter', x='X data', y='Y')\n",
    "plt.plot(brand_new_data,predictions,'r*')"
   ]
  },
  {
   "cell_type": "markdown",
   "metadata": {},
   "source": [
    "## Diabetes data"
   ]
  },
  {
   "cell_type": "code",
   "execution_count": 329,
   "metadata": {},
   "outputs": [
    {
     "data": {
      "text/plain": [
       "'C:\\\\Users\\\\frksteenhoff\\\\Documents\\\\GitHub\\\\02456_DeepLearning\\\\Tensorflow-Bootcamp-master'"
      ]
     },
     "execution_count": 329,
     "metadata": {},
     "output_type": "execute_result"
    }
   ],
   "source": [
    "pwd"
   ]
  },
  {
   "cell_type": "code",
   "execution_count": 331,
   "metadata": {},
   "outputs": [],
   "source": [
    "diabetes = pd.read_csv('pima-indians-diabetes.csv')"
   ]
  },
  {
   "cell_type": "code",
   "execution_count": 332,
   "metadata": {},
   "outputs": [
    {
     "data": {
      "text/html": [
       "<div>\n",
       "<style>\n",
       "    .dataframe thead tr:only-child th {\n",
       "        text-align: right;\n",
       "    }\n",
       "\n",
       "    .dataframe thead th {\n",
       "        text-align: left;\n",
       "    }\n",
       "\n",
       "    .dataframe tbody tr th {\n",
       "        vertical-align: top;\n",
       "    }\n",
       "</style>\n",
       "<table border=\"1\" class=\"dataframe\">\n",
       "  <thead>\n",
       "    <tr style=\"text-align: right;\">\n",
       "      <th></th>\n",
       "      <th>Number_pregnant</th>\n",
       "      <th>Glucose_concentration</th>\n",
       "      <th>Blood_pressure</th>\n",
       "      <th>Triceps</th>\n",
       "      <th>Insulin</th>\n",
       "      <th>BMI</th>\n",
       "      <th>Pedigree</th>\n",
       "      <th>Age</th>\n",
       "      <th>Class</th>\n",
       "      <th>Group</th>\n",
       "    </tr>\n",
       "  </thead>\n",
       "  <tbody>\n",
       "    <tr>\n",
       "      <th>0</th>\n",
       "      <td>6</td>\n",
       "      <td>0.743719</td>\n",
       "      <td>0.590164</td>\n",
       "      <td>0.353535</td>\n",
       "      <td>0.000000</td>\n",
       "      <td>0.500745</td>\n",
       "      <td>0.234415</td>\n",
       "      <td>50</td>\n",
       "      <td>1</td>\n",
       "      <td>B</td>\n",
       "    </tr>\n",
       "    <tr>\n",
       "      <th>1</th>\n",
       "      <td>1</td>\n",
       "      <td>0.427136</td>\n",
       "      <td>0.540984</td>\n",
       "      <td>0.292929</td>\n",
       "      <td>0.000000</td>\n",
       "      <td>0.396423</td>\n",
       "      <td>0.116567</td>\n",
       "      <td>31</td>\n",
       "      <td>0</td>\n",
       "      <td>C</td>\n",
       "    </tr>\n",
       "    <tr>\n",
       "      <th>2</th>\n",
       "      <td>8</td>\n",
       "      <td>0.919598</td>\n",
       "      <td>0.524590</td>\n",
       "      <td>0.000000</td>\n",
       "      <td>0.000000</td>\n",
       "      <td>0.347243</td>\n",
       "      <td>0.253629</td>\n",
       "      <td>32</td>\n",
       "      <td>1</td>\n",
       "      <td>B</td>\n",
       "    </tr>\n",
       "    <tr>\n",
       "      <th>3</th>\n",
       "      <td>1</td>\n",
       "      <td>0.447236</td>\n",
       "      <td>0.540984</td>\n",
       "      <td>0.232323</td>\n",
       "      <td>0.111111</td>\n",
       "      <td>0.418778</td>\n",
       "      <td>0.038002</td>\n",
       "      <td>21</td>\n",
       "      <td>0</td>\n",
       "      <td>B</td>\n",
       "    </tr>\n",
       "    <tr>\n",
       "      <th>4</th>\n",
       "      <td>0</td>\n",
       "      <td>0.688442</td>\n",
       "      <td>0.327869</td>\n",
       "      <td>0.353535</td>\n",
       "      <td>0.198582</td>\n",
       "      <td>0.642325</td>\n",
       "      <td>0.943638</td>\n",
       "      <td>33</td>\n",
       "      <td>1</td>\n",
       "      <td>C</td>\n",
       "    </tr>\n",
       "  </tbody>\n",
       "</table>\n",
       "</div>"
      ],
      "text/plain": [
       "   Number_pregnant  Glucose_concentration  Blood_pressure   Triceps   Insulin  \\\n",
       "0                6               0.743719        0.590164  0.353535  0.000000   \n",
       "1                1               0.427136        0.540984  0.292929  0.000000   \n",
       "2                8               0.919598        0.524590  0.000000  0.000000   \n",
       "3                1               0.447236        0.540984  0.232323  0.111111   \n",
       "4                0               0.688442        0.327869  0.353535  0.198582   \n",
       "\n",
       "        BMI  Pedigree  Age  Class Group  \n",
       "0  0.500745  0.234415   50      1     B  \n",
       "1  0.396423  0.116567   31      0     C  \n",
       "2  0.347243  0.253629   32      1     B  \n",
       "3  0.418778  0.038002   21      0     B  \n",
       "4  0.642325  0.943638   33      1     C  "
      ]
     },
     "execution_count": 332,
     "metadata": {},
     "output_type": "execute_result"
    }
   ],
   "source": [
    "diabetes.head()"
   ]
  },
  {
   "cell_type": "code",
   "execution_count": 333,
   "metadata": {},
   "outputs": [
    {
     "data": {
      "text/plain": [
       "Index(['Number_pregnant', 'Glucose_concentration', 'Blood_pressure', 'Triceps',\n",
       "       'Insulin', 'BMI', 'Pedigree', 'Age', 'Class', 'Group'],\n",
       "      dtype='object')"
      ]
     },
     "execution_count": 333,
     "metadata": {},
     "output_type": "execute_result"
    }
   ],
   "source": [
    "diabetes.columns"
   ]
  },
  {
   "cell_type": "code",
   "execution_count": 334,
   "metadata": {
    "collapsed": true
   },
   "outputs": [],
   "source": [
    "cols_to_norm = ['Number_pregnant', 'Glucose_concentration', 'Blood_pressure', 'Triceps',\n",
    "       'Insulin', 'BMI', 'Pedigree']"
   ]
  },
  {
   "cell_type": "markdown",
   "metadata": {},
   "source": [
    "### Preprocessing"
   ]
  },
  {
   "cell_type": "code",
   "execution_count": 335,
   "metadata": {
    "collapsed": true
   },
   "outputs": [],
   "source": [
    "diabetes[cols_to_norm] = diabetes[cols_to_norm].apply(lambda x: (x - x.min()) / (x.max() - x.min()))"
   ]
  },
  {
   "cell_type": "code",
   "execution_count": 336,
   "metadata": {},
   "outputs": [
    {
     "data": {
      "text/html": [
       "<div>\n",
       "<style>\n",
       "    .dataframe thead tr:only-child th {\n",
       "        text-align: right;\n",
       "    }\n",
       "\n",
       "    .dataframe thead th {\n",
       "        text-align: left;\n",
       "    }\n",
       "\n",
       "    .dataframe tbody tr th {\n",
       "        vertical-align: top;\n",
       "    }\n",
       "</style>\n",
       "<table border=\"1\" class=\"dataframe\">\n",
       "  <thead>\n",
       "    <tr style=\"text-align: right;\">\n",
       "      <th></th>\n",
       "      <th>Number_pregnant</th>\n",
       "      <th>Glucose_concentration</th>\n",
       "      <th>Blood_pressure</th>\n",
       "      <th>Triceps</th>\n",
       "      <th>Insulin</th>\n",
       "      <th>BMI</th>\n",
       "      <th>Pedigree</th>\n",
       "      <th>Age</th>\n",
       "      <th>Class</th>\n",
       "      <th>Group</th>\n",
       "    </tr>\n",
       "  </thead>\n",
       "  <tbody>\n",
       "    <tr>\n",
       "      <th>0</th>\n",
       "      <td>0.352941</td>\n",
       "      <td>0.743719</td>\n",
       "      <td>0.590164</td>\n",
       "      <td>0.353535</td>\n",
       "      <td>0.000000</td>\n",
       "      <td>0.500745</td>\n",
       "      <td>0.234415</td>\n",
       "      <td>50</td>\n",
       "      <td>1</td>\n",
       "      <td>B</td>\n",
       "    </tr>\n",
       "    <tr>\n",
       "      <th>1</th>\n",
       "      <td>0.058824</td>\n",
       "      <td>0.427136</td>\n",
       "      <td>0.540984</td>\n",
       "      <td>0.292929</td>\n",
       "      <td>0.000000</td>\n",
       "      <td>0.396423</td>\n",
       "      <td>0.116567</td>\n",
       "      <td>31</td>\n",
       "      <td>0</td>\n",
       "      <td>C</td>\n",
       "    </tr>\n",
       "    <tr>\n",
       "      <th>2</th>\n",
       "      <td>0.470588</td>\n",
       "      <td>0.919598</td>\n",
       "      <td>0.524590</td>\n",
       "      <td>0.000000</td>\n",
       "      <td>0.000000</td>\n",
       "      <td>0.347243</td>\n",
       "      <td>0.253629</td>\n",
       "      <td>32</td>\n",
       "      <td>1</td>\n",
       "      <td>B</td>\n",
       "    </tr>\n",
       "    <tr>\n",
       "      <th>3</th>\n",
       "      <td>0.058824</td>\n",
       "      <td>0.447236</td>\n",
       "      <td>0.540984</td>\n",
       "      <td>0.232323</td>\n",
       "      <td>0.111111</td>\n",
       "      <td>0.418778</td>\n",
       "      <td>0.038002</td>\n",
       "      <td>21</td>\n",
       "      <td>0</td>\n",
       "      <td>B</td>\n",
       "    </tr>\n",
       "    <tr>\n",
       "      <th>4</th>\n",
       "      <td>0.000000</td>\n",
       "      <td>0.688442</td>\n",
       "      <td>0.327869</td>\n",
       "      <td>0.353535</td>\n",
       "      <td>0.198582</td>\n",
       "      <td>0.642325</td>\n",
       "      <td>0.943638</td>\n",
       "      <td>33</td>\n",
       "      <td>1</td>\n",
       "      <td>C</td>\n",
       "    </tr>\n",
       "  </tbody>\n",
       "</table>\n",
       "</div>"
      ],
      "text/plain": [
       "   Number_pregnant  Glucose_concentration  Blood_pressure   Triceps   Insulin  \\\n",
       "0         0.352941               0.743719        0.590164  0.353535  0.000000   \n",
       "1         0.058824               0.427136        0.540984  0.292929  0.000000   \n",
       "2         0.470588               0.919598        0.524590  0.000000  0.000000   \n",
       "3         0.058824               0.447236        0.540984  0.232323  0.111111   \n",
       "4         0.000000               0.688442        0.327869  0.353535  0.198582   \n",
       "\n",
       "        BMI  Pedigree  Age  Class Group  \n",
       "0  0.500745  0.234415   50      1     B  \n",
       "1  0.396423  0.116567   31      0     C  \n",
       "2  0.347243  0.253629   32      1     B  \n",
       "3  0.418778  0.038002   21      0     B  \n",
       "4  0.642325  0.943638   33      1     C  "
      ]
     },
     "execution_count": 336,
     "metadata": {},
     "output_type": "execute_result"
    }
   ],
   "source": [
    "diabetes.head()"
   ]
  },
  {
   "cell_type": "code",
   "execution_count": 337,
   "metadata": {
    "collapsed": true
   },
   "outputs": [],
   "source": [
    "# feature columns\n",
    "num_preg = tf.feature_column.numeric_column('Number_pregnant')\n",
    "plasma_gluc = tf.feature_column.numeric_column('Glucose_concentration')\n",
    "dias_press = tf.feature_column.numeric_column('Blood_pressure')\n",
    "tricep = tf.feature_column.numeric_column('Triceps')\n",
    "insulin = tf.feature_column.numeric_column('Insulin')\n",
    "bmi = tf.feature_column.numeric_column('BMI')\n",
    "diabetes_pedigree = tf.feature_column.numeric_column('Pedigree')\n",
    "age = tf.feature_column.numeric_column('Age')"
   ]
  },
  {
   "cell_type": "code",
   "execution_count": 338,
   "metadata": {
    "collapsed": true
   },
   "outputs": [],
   "source": [
    "assigned_group = tf.feature_column.categorical_column_with_vocabulary_list('Group',['A', 'B', 'C', 'D'])"
   ]
  },
  {
   "cell_type": "code",
   "execution_count": 339,
   "metadata": {
    "collapsed": true
   },
   "outputs": [],
   "source": [
    "#assigned_group = tf.feature_column.categorical_column_with_hash_bucket('Group', hash_bucket_size=10)"
   ]
  },
  {
   "cell_type": "code",
   "execution_count": 341,
   "metadata": {},
   "outputs": [
    {
     "data": {
      "text/plain": [
       "<matplotlib.axes._subplots.AxesSubplot at 0x27be308ff28>"
      ]
     },
     "execution_count": 341,
     "metadata": {},
     "output_type": "execute_result"
    },
    {
     "data": {
      "image/png": "[encoded data removed]",
      "text/plain": [
       "<matplotlib.figure.Figure at 0x27be308bf28>"
      ]
     },
     "metadata": {},
     "output_type": "display_data"
    }
   ],
   "source": [
    "# Age more info if not normalized, instead make it categorical\n",
    "diabetes['Age'].hist(bins=20)\n"
   ]
  },
  {
   "cell_type": "code",
   "execution_count": 342,
   "metadata": {
    "collapsed": true
   },
   "outputs": [],
   "source": [
    "# Continuous numeric to categorical columns in buckets\n",
    "age_bucket = tf.feature_column.bucketized_column(age, boundaries=[20,30,40,50,60,70,80])"
   ]
  },
  {
   "cell_type": "code",
   "execution_count": 343,
   "metadata": {
    "collapsed": true
   },
   "outputs": [],
   "source": [
    "feat_cols = [num_preg, plasma_gluc, dias_press, tricep, insulin, bmi, diabetes_pedigree, assigned_group, age_bucket]"
   ]
  },
  {
   "cell_type": "code",
   "execution_count": 344,
   "metadata": {
    "collapsed": true
   },
   "outputs": [],
   "source": [
    "# Train test split\n",
    "# WITHOUT CLASS\n",
    "x_data = diabetes.drop('Class', axis=1)"
   ]
  },
  {
   "cell_type": "code",
   "execution_count": 346,
   "metadata": {},
   "outputs": [],
   "source": [
    "labels = diabetes['Class']"
   ]
  },
  {
   "cell_type": "code",
   "execution_count": 347,
   "metadata": {
    "collapsed": true
   },
   "outputs": [],
   "source": [
    "X_train, X_test, y_train, y_test = train_test_split(x_data, labels, test_size=0.3, random_state=101)"
   ]
  },
  {
   "cell_type": "markdown",
   "metadata": {},
   "source": [
    "### Creating and evaluating the model"
   ]
  },
  {
   "cell_type": "code",
   "execution_count": 348,
   "metadata": {
    "collapsed": true
   },
   "outputs": [],
   "source": [
    "input_func = tf.estimator.inputs.pandas_input_fn(x=X_train,y=y_train,batch_size=10,num_epochs=1000,shuffle=True)"
   ]
  },
  {
   "cell_type": "code",
   "execution_count": 349,
   "metadata": {},
   "outputs": [
    {
     "name": "stdout",
     "output_type": "stream",
     "text": [
      "INFO:tensorflow:Using default config.\n",
      "WARNING:tensorflow:Using temporary folder as model directory: C:\\Users\\FRKSTE~1\\AppData\\Local\\Temp\\tmp3_3l3z8p\n",
      "INFO:tensorflow:Using config: {'_model_dir': 'C:\\\\Users\\\\FRKSTE~1\\\\AppData\\\\Local\\\\Temp\\\\tmp3_3l3z8p', '_log_step_count_steps': 100, '_tf_random_seed': 1, '_keep_checkpoint_every_n_hours': 10000, '_save_checkpoints_steps': None, '_keep_checkpoint_max': 5, '_save_summary_steps': 100, '_session_config': None, '_save_checkpoints_secs': 600}\n"
     ]
    }
   ],
   "source": [
    "model = tf.estimator.LinearClassifier(feature_columns=feat_cols,n_classes=2)"
   ]
  },
  {
   "cell_type": "code",
   "execution_count": 350,
   "metadata": {},
   "outputs": [
    {
     "name": "stdout",
     "output_type": "stream",
     "text": [
      "INFO:tensorflow:Create CheckpointSaverHook.\n",
      "INFO:tensorflow:Saving checkpoints for 1 into C:\\Users\\FRKSTE~1\\AppData\\Local\\Temp\\tmp3_3l3z8p\\model.ckpt.\n",
      "INFO:tensorflow:loss = 6.93147, step = 1\n",
      "INFO:tensorflow:global_step/sec: 233.026\n",
      "INFO:tensorflow:loss = 5.55319, step = 101 (0.439 sec)\n",
      "INFO:tensorflow:global_step/sec: 259.049\n",
      "INFO:tensorflow:loss = 4.37316, step = 201 (0.384 sec)\n",
      "INFO:tensorflow:global_step/sec: 252.173\n",
      "INFO:tensorflow:loss = 5.4115, step = 301 (0.395 sec)\n",
      "INFO:tensorflow:global_step/sec: 245.348\n",
      "INFO:tensorflow:loss = 5.48656, step = 401 (0.411 sec)\n",
      "INFO:tensorflow:global_step/sec: 224.879\n",
      "INFO:tensorflow:loss = 7.53029, step = 501 (0.445 sec)\n",
      "INFO:tensorflow:global_step/sec: 244.147\n",
      "INFO:tensorflow:loss = 3.523, step = 601 (0.413 sec)\n",
      "INFO:tensorflow:global_step/sec: 259.724\n",
      "INFO:tensorflow:loss = 6.71413, step = 701 (0.386 sec)\n",
      "INFO:tensorflow:global_step/sec: 246.561\n",
      "INFO:tensorflow:loss = 5.55173, step = 801 (0.412 sec)\n",
      "INFO:tensorflow:global_step/sec: 214.713\n",
      "INFO:tensorflow:loss = 4.0491, step = 901 (0.460 sec)\n",
      "INFO:tensorflow:Saving checkpoints for 1000 into C:\\Users\\FRKSTE~1\\AppData\\Local\\Temp\\tmp3_3l3z8p\\model.ckpt.\n",
      "INFO:tensorflow:Loss for final step: 5.3074.\n"
     ]
    },
    {
     "data": {
      "text/plain": [
       "<tensorflow.python.estimator.canned.linear.LinearClassifier at 0x27be8232a20>"
      ]
     },
     "execution_count": 350,
     "metadata": {},
     "output_type": "execute_result"
    }
   ],
   "source": [
    "model.train(input_fn=input_func,steps=1000)"
   ]
  },
  {
   "cell_type": "code",
   "execution_count": 351,
   "metadata": {
    "collapsed": true
   },
   "outputs": [],
   "source": [
    "eval_input_func = tf.estimator.inputs.pandas_input_fn(x=X_test,y=y_test,batch_size=10,num_epochs=1,shuffle=False)"
   ]
  },
  {
   "cell_type": "code",
   "execution_count": 352,
   "metadata": {},
   "outputs": [
    {
     "name": "stdout",
     "output_type": "stream",
     "text": [
      "WARNING:tensorflow:Casting <dtype: 'float32'> labels to bool.\n",
      "WARNING:tensorflow:Casting <dtype: 'float32'> labels to bool.\n",
      "INFO:tensorflow:Starting evaluation at 2018-05-17-08:46:40\n",
      "INFO:tensorflow:Restoring parameters from C:\\Users\\FRKSTE~1\\AppData\\Local\\Temp\\tmp3_3l3z8p\\model.ckpt-1000\n",
      "INFO:tensorflow:Finished evaluation at 2018-05-17-08:46:41\n",
      "INFO:tensorflow:Saving dict for global step 1000: accuracy = 0.748918, accuracy_baseline = 0.649351, auc = 0.799136, auc_precision_recall = 0.644264, average_loss = 0.526491, global_step = 1000, label/mean = 0.350649, loss = 5.06748, prediction/mean = 0.351967\n"
     ]
    }
   ],
   "source": [
    "results = model.evaluate(eval_input_func)"
   ]
  },
  {
   "cell_type": "code",
   "execution_count": 353,
   "metadata": {},
   "outputs": [
    {
     "data": {
      "text/plain": [
       "{'accuracy': 0.74891776,\n",
       " 'accuracy_baseline': 0.64935064,\n",
       " 'auc': 0.7991358,\n",
       " 'auc_precision_recall': 0.64426434,\n",
       " 'average_loss': 0.52649134,\n",
       " 'global_step': 1000,\n",
       " 'label/mean': 0.35064936,\n",
       " 'loss': 5.0674796,\n",
       " 'prediction/mean': 0.35196659}"
      ]
     },
     "execution_count": 353,
     "metadata": {},
     "output_type": "execute_result"
    }
   ],
   "source": [
    "results"
   ]
  },
  {
   "cell_type": "code",
   "execution_count": 354,
   "metadata": {
    "collapsed": true
   },
   "outputs": [],
   "source": [
    "pred_input_func = tf.estimator.inputs.pandas_input_fn(x=X_test,batch_size=10,num_epochs=1,shuffle=False)"
   ]
  },
  {
   "cell_type": "code",
   "execution_count": 355,
   "metadata": {
    "collapsed": true
   },
   "outputs": [],
   "source": [
    "predictions = model.predict(pred_input_func)"
   ]
  },
  {
   "cell_type": "code",
   "execution_count": 356,
   "metadata": {},
   "outputs": [
    {
     "name": "stdout",
     "output_type": "stream",
     "text": [
      "INFO:tensorflow:Restoring parameters from C:\\Users\\FRKSTE~1\\AppData\\Local\\Temp\\tmp3_3l3z8p\\model.ckpt-1000\n"
     ]
    }
   ],
   "source": [
    "my_pred = list(predictions)"
   ]
  },
  {
   "cell_type": "code",
   "execution_count": 357,
   "metadata": {},
   "outputs": [
    {
     "data": {
      "text/plain": [
       "[{'class_ids': array([1], dtype=int64),\n",
       "  'classes': array([b'1'], dtype=object),\n",
       "  'logistic': array([ 0.51473385], dtype=float32),\n",
       "  'logits': array([ 0.05895245], dtype=float32),\n",
       "  'probabilities': array([ 0.48526615,  0.51473385], dtype=float32)},\n",
       " {'class_ids': array([1], dtype=int64),\n",
       "  'classes': array([b'1'], dtype=object),\n",
       "  'logistic': array([ 0.62587011], dtype=float32),\n",
       "  'logits': array([ 0.51453984], dtype=float32),\n",
       "  'probabilities': array([ 0.37412986,  0.62587011], dtype=float32)},\n",
       " {'class_ids': array([0], dtype=int64),\n",
       "  'classes': array([b'0'], dtype=object),\n",
       "  'logistic': array([ 0.34727412], dtype=float32),\n",
       "  'logits': array([-0.63104284], dtype=float32),\n",
       "  'probabilities': array([ 0.65272588,  0.34727409], dtype=float32)},\n",
       " {'class_ids': array([0], dtype=int64),\n",
       "  'classes': array([b'0'], dtype=object),\n",
       "  'logistic': array([ 0.3217566], dtype=float32),\n",
       "  'logits': array([-0.74571079], dtype=float32),\n",
       "  'probabilities': array([ 0.6782434,  0.3217566], dtype=float32)},\n",
       " {'class_ids': array([0], dtype=int64),\n",
       "  'classes': array([b'0'], dtype=object),\n",
       "  'logistic': array([ 0.13927287], dtype=float32),\n",
       "  'logits': array([-1.82134247], dtype=float32),\n",
       "  'probabilities': array([ 0.86072713,  0.13927287], dtype=float32)},\n",
       " {'class_ids': array([1], dtype=int64),\n",
       "  'classes': array([b'1'], dtype=object),\n",
       "  'logistic': array([ 0.64028615], dtype=float32),\n",
       "  'logits': array([ 0.57660639], dtype=float32),\n",
       "  'probabilities': array([ 0.35971382,  0.64028615], dtype=float32)},\n",
       " {'class_ids': array([1], dtype=int64),\n",
       "  'classes': array([b'1'], dtype=object),\n",
       "  'logistic': array([ 0.59883416], dtype=float32),\n",
       "  'logits': array([ 0.40060985], dtype=float32),\n",
       "  'probabilities': array([ 0.40116581,  0.59883416], dtype=float32)},\n",
       " {'class_ids': array([0], dtype=int64),\n",
       "  'classes': array([b'0'], dtype=object),\n",
       "  'logistic': array([ 0.3289392], dtype=float32),\n",
       "  'logits': array([-0.71298689], dtype=float32),\n",
       "  'probabilities': array([ 0.67106086,  0.3289392 ], dtype=float32)},\n",
       " {'class_ids': array([0], dtype=int64),\n",
       "  'classes': array([b'0'], dtype=object),\n",
       "  'logistic': array([ 0.2271999], dtype=float32),\n",
       "  'logits': array([-1.22419024], dtype=float32),\n",
       "  'probabilities': array([ 0.77280015,  0.2271999 ], dtype=float32)},\n",
       " {'class_ids': array([0], dtype=int64),\n",
       "  'classes': array([b'0'], dtype=object),\n",
       "  'logistic': array([ 0.2255872], dtype=float32),\n",
       "  'logits': array([-1.2333982], dtype=float32),\n",
       "  'probabilities': array([ 0.77441275,  0.22558722], dtype=float32)},\n",
       " {'class_ids': array([0], dtype=int64),\n",
       "  'classes': array([b'0'], dtype=object),\n",
       "  'logistic': array([ 0.12646852], dtype=float32),\n",
       "  'logits': array([-1.93255067], dtype=float32),\n",
       "  'probabilities': array([ 0.87353146,  0.12646852], dtype=float32)},\n",
       " {'class_ids': array([0], dtype=int64),\n",
       "  'classes': array([b'0'], dtype=object),\n",
       "  'logistic': array([ 0.14806467], dtype=float32),\n",
       "  'logits': array([-1.74986148], dtype=float32),\n",
       "  'probabilities': array([ 0.85193527,  0.14806467], dtype=float32)},\n",
       " {'class_ids': array([0], dtype=int64),\n",
       "  'classes': array([b'0'], dtype=object),\n",
       "  'logistic': array([ 0.27739331], dtype=float32),\n",
       "  'logits': array([-0.95742875], dtype=float32),\n",
       "  'probabilities': array([ 0.72260666,  0.27739328], dtype=float32)},\n",
       " {'class_ids': array([1], dtype=int64),\n",
       "  'classes': array([b'1'], dtype=object),\n",
       "  'logistic': array([ 0.55269194], dtype=float32),\n",
       "  'logits': array([ 0.21155322], dtype=float32),\n",
       "  'probabilities': array([ 0.44730806,  0.55269194], dtype=float32)},\n",
       " {'class_ids': array([0], dtype=int64),\n",
       "  'classes': array([b'0'], dtype=object),\n",
       "  'logistic': array([ 0.16663016], dtype=float32),\n",
       "  'logits': array([-1.6097008], dtype=float32),\n",
       "  'probabilities': array([ 0.83336979,  0.16663015], dtype=float32)},\n",
       " {'class_ids': array([0], dtype=int64),\n",
       "  'classes': array([b'0'], dtype=object),\n",
       "  'logistic': array([ 0.30011293], dtype=float32),\n",
       "  'logits': array([-0.84676015], dtype=float32),\n",
       "  'probabilities': array([ 0.69988704,  0.30011293], dtype=float32)},\n",
       " {'class_ids': array([0], dtype=int64),\n",
       "  'classes': array([b'0'], dtype=object),\n",
       "  'logistic': array([ 0.33644131], dtype=float32),\n",
       "  'logits': array([-0.67919362], dtype=float32),\n",
       "  'probabilities': array([ 0.66355866,  0.33644128], dtype=float32)},\n",
       " {'class_ids': array([0], dtype=int64),\n",
       "  'classes': array([b'0'], dtype=object),\n",
       "  'logistic': array([ 0.12181868], dtype=float32),\n",
       "  'logits': array([-1.97531939], dtype=float32),\n",
       "  'probabilities': array([ 0.8781814 ,  0.12181868], dtype=float32)},\n",
       " {'class_ids': array([0], dtype=int64),\n",
       "  'classes': array([b'0'], dtype=object),\n",
       "  'logistic': array([ 0.34320968], dtype=float32),\n",
       "  'logits': array([-0.64902329], dtype=float32),\n",
       "  'probabilities': array([ 0.65679038,  0.34320968], dtype=float32)},\n",
       " {'class_ids': array([0], dtype=int64),\n",
       "  'classes': array([b'0'], dtype=object),\n",
       "  'logistic': array([ 0.13890938], dtype=float32),\n",
       "  'logits': array([-1.82437789], dtype=float32),\n",
       "  'probabilities': array([ 0.8610906 ,  0.13890938], dtype=float32)},\n",
       " {'class_ids': array([0], dtype=int64),\n",
       "  'classes': array([b'0'], dtype=object),\n",
       "  'logistic': array([ 0.20852563], dtype=float32),\n",
       "  'logits': array([-1.3338356], dtype=float32),\n",
       "  'probabilities': array([ 0.79147434,  0.20852561], dtype=float32)},\n",
       " {'class_ids': array([0], dtype=int64),\n",
       "  'classes': array([b'0'], dtype=object),\n",
       "  'logistic': array([ 0.27537549], dtype=float32),\n",
       "  'logits': array([-0.96751809], dtype=float32),\n",
       "  'probabilities': array([ 0.72462451,  0.27537549], dtype=float32)},\n",
       " {'class_ids': array([1], dtype=int64),\n",
       "  'classes': array([b'1'], dtype=object),\n",
       "  'logistic': array([ 0.63870031], dtype=float32),\n",
       "  'logits': array([ 0.56972754], dtype=float32),\n",
       "  'probabilities': array([ 0.36129969,  0.63870031], dtype=float32)},\n",
       " {'class_ids': array([0], dtype=int64),\n",
       "  'classes': array([b'0'], dtype=object),\n",
       "  'logistic': array([ 0.19957103], dtype=float32),\n",
       "  'logits': array([-1.38897765], dtype=float32),\n",
       "  'probabilities': array([ 0.80042899,  0.19957101], dtype=float32)},\n",
       " {'class_ids': array([0], dtype=int64),\n",
       "  'classes': array([b'0'], dtype=object),\n",
       "  'logistic': array([ 0.16031925], dtype=float32),\n",
       "  'logits': array([-1.65585458], dtype=float32),\n",
       "  'probabilities': array([ 0.83968073,  0.16031925], dtype=float32)},\n",
       " {'class_ids': array([1], dtype=int64),\n",
       "  'classes': array([b'1'], dtype=object),\n",
       "  'logistic': array([ 0.7547676], dtype=float32),\n",
       "  'logits': array([ 1.1242038], dtype=float32),\n",
       "  'probabilities': array([ 0.24523234,  0.7547676 ], dtype=float32)},\n",
       " {'class_ids': array([0], dtype=int64),\n",
       "  'classes': array([b'0'], dtype=object),\n",
       "  'logistic': array([ 0.16817154], dtype=float32),\n",
       "  'logits': array([-1.59864163], dtype=float32),\n",
       "  'probabilities': array([ 0.83182842,  0.16817154], dtype=float32)},\n",
       " {'class_ids': array([0], dtype=int64),\n",
       "  'classes': array([b'0'], dtype=object),\n",
       "  'logistic': array([ 0.29071534], dtype=float32),\n",
       "  'logits': array([-0.89191234], dtype=float32),\n",
       "  'probabilities': array([ 0.70928466,  0.29071534], dtype=float32)},\n",
       " {'class_ids': array([0], dtype=int64),\n",
       "  'classes': array([b'0'], dtype=object),\n",
       "  'logistic': array([ 0.10096451], dtype=float32),\n",
       "  'logits': array([-2.18655348], dtype=float32),\n",
       "  'probabilities': array([ 0.89903551,  0.10096451], dtype=float32)},\n",
       " {'class_ids': array([1], dtype=int64),\n",
       "  'classes': array([b'1'], dtype=object),\n",
       "  'logistic': array([ 0.56617343], dtype=float32),\n",
       "  'logits': array([ 0.26625574], dtype=float32),\n",
       "  'probabilities': array([ 0.43382654,  0.56617343], dtype=float32)},\n",
       " {'class_ids': array([1], dtype=int64),\n",
       "  'classes': array([b'1'], dtype=object),\n",
       "  'logistic': array([ 0.93618774], dtype=float32),\n",
       "  'logits': array([ 2.68587065], dtype=float32),\n",
       "  'probabilities': array([ 0.06381226,  0.93618774], dtype=float32)},\n",
       " {'class_ids': array([0], dtype=int64),\n",
       "  'classes': array([b'0'], dtype=object),\n",
       "  'logistic': array([ 0.40759537], dtype=float32),\n",
       "  'logits': array([-0.37391496], dtype=float32),\n",
       "  'probabilities': array([ 0.5924046 ,  0.40759537], dtype=float32)},\n",
       " {'class_ids': array([0], dtype=int64),\n",
       "  'classes': array([b'0'], dtype=object),\n",
       "  'logistic': array([ 0.30983213], dtype=float32),\n",
       "  'logits': array([-0.80090421], dtype=float32),\n",
       "  'probabilities': array([ 0.69016784,  0.30983213], dtype=float32)},\n",
       " {'class_ids': array([1], dtype=int64),\n",
       "  'classes': array([b'1'], dtype=object),\n",
       "  'logistic': array([ 0.52369285], dtype=float32),\n",
       "  'logits': array([ 0.09484231], dtype=float32),\n",
       "  'probabilities': array([ 0.47630718,  0.52369285], dtype=float32)},\n",
       " {'class_ids': array([0], dtype=int64),\n",
       "  'classes': array([b'0'], dtype=object),\n",
       "  'logistic': array([ 0.21832721], dtype=float32),\n",
       "  'logits': array([-1.27544141], dtype=float32),\n",
       "  'probabilities': array([ 0.78167284,  0.21832721], dtype=float32)},\n",
       " {'class_ids': array([0], dtype=int64),\n",
       "  'classes': array([b'0'], dtype=object),\n",
       "  'logistic': array([ 0.35412112], dtype=float32),\n",
       "  'logits': array([-0.60097307], dtype=float32),\n",
       "  'probabilities': array([ 0.64587891,  0.35412109], dtype=float32)},\n",
       " {'class_ids': array([0], dtype=int64),\n",
       "  'classes': array([b'0'], dtype=object),\n",
       "  'logistic': array([ 0.48579669], dtype=float32),\n",
       "  'logits': array([-0.05682856], dtype=float32),\n",
       "  'probabilities': array([ 0.51420331,  0.48579669], dtype=float32)},\n",
       " {'class_ids': array([1], dtype=int64),\n",
       "  'classes': array([b'1'], dtype=object),\n",
       "  'logistic': array([ 0.59524924], dtype=float32),\n",
       "  'logits': array([ 0.38570881], dtype=float32),\n",
       "  'probabilities': array([ 0.4047507 ,  0.59524924], dtype=float32)},\n",
       " {'class_ids': array([1], dtype=int64),\n",
       "  'classes': array([b'1'], dtype=object),\n",
       "  'logistic': array([ 0.74352616], dtype=float32),\n",
       "  'logits': array([ 1.06437719], dtype=float32),\n",
       "  'probabilities': array([ 0.25647387,  0.74352616], dtype=float32)},\n",
       " {'class_ids': array([0], dtype=int64),\n",
       "  'classes': array([b'0'], dtype=object),\n",
       "  'logistic': array([ 0.34181619], dtype=float32),\n",
       "  'logits': array([-0.65521121], dtype=float32),\n",
       "  'probabilities': array([ 0.65818381,  0.34181616], dtype=float32)},\n",
       " {'class_ids': array([0], dtype=int64),\n",
       "  'classes': array([b'0'], dtype=object),\n",
       "  'logistic': array([ 0.17212248], dtype=float32),\n",
       "  'logits': array([-1.57065892], dtype=float32),\n",
       "  'probabilities': array([ 0.82787752,  0.17212248], dtype=float32)},\n",
       " {'class_ids': array([1], dtype=int64),\n",
       "  'classes': array([b'1'], dtype=object),\n",
       "  'logistic': array([ 0.54938155], dtype=float32),\n",
       "  'logits': array([ 0.19817221], dtype=float32),\n",
       "  'probabilities': array([ 0.45061845,  0.54938155], dtype=float32)},\n",
       " {'class_ids': array([0], dtype=int64),\n",
       "  'classes': array([b'0'], dtype=object),\n",
       "  'logistic': array([ 0.13898885], dtype=float32),\n",
       "  'logits': array([-1.82371378], dtype=float32),\n",
       "  'probabilities': array([ 0.86101115,  0.13898885], dtype=float32)},\n",
       " {'class_ids': array([1], dtype=int64),\n",
       "  'classes': array([b'1'], dtype=object),\n",
       "  'logistic': array([ 0.52684182], dtype=float32),\n",
       "  'logits': array([ 0.10747063], dtype=float32),\n",
       "  'probabilities': array([ 0.47315815,  0.52684182], dtype=float32)},\n",
       " {'class_ids': array([0], dtype=int64),\n",
       "  'classes': array([b'0'], dtype=object),\n",
       "  'logistic': array([ 0.12788047], dtype=float32),\n",
       "  'logits': array([-1.91983056], dtype=float32),\n",
       "  'probabilities': array([ 0.87211949,  0.12788045], dtype=float32)},\n",
       " {'class_ids': array([0], dtype=int64),\n",
       "  'classes': array([b'0'], dtype=object),\n",
       "  'logistic': array([ 0.11722124], dtype=float32),\n",
       "  'logits': array([-2.0190115], dtype=float32),\n",
       "  'probabilities': array([ 0.88277876,  0.11722124], dtype=float32)},\n",
       " {'class_ids': array([1], dtype=int64),\n",
       "  'classes': array([b'1'], dtype=object),\n",
       "  'logistic': array([ 0.57095557], dtype=float32),\n",
       "  'logits': array([ 0.28575075], dtype=float32),\n",
       "  'probabilities': array([ 0.42904449,  0.57095557], dtype=float32)},\n",
       " {'class_ids': array([0], dtype=int64),\n",
       "  'classes': array([b'0'], dtype=object),\n",
       "  'logistic': array([ 0.17116469], dtype=float32),\n",
       "  'logits': array([-1.57739532], dtype=float32),\n",
       "  'probabilities': array([ 0.82883531,  0.17116469], dtype=float32)},\n",
       " {'class_ids': array([0], dtype=int64),\n",
       "  'classes': array([b'0'], dtype=object),\n",
       "  'logistic': array([ 0.17399938], dtype=float32),\n",
       "  'logits': array([-1.55754375], dtype=float32),\n",
       "  'probabilities': array([ 0.82600063,  0.1739994 ], dtype=float32)},\n",
       " {'class_ids': array([0], dtype=int64),\n",
       "  'classes': array([b'0'], dtype=object),\n",
       "  'logistic': array([ 0.12610406], dtype=float32),\n",
       "  'logits': array([-1.93585384], dtype=float32),\n",
       "  'probabilities': array([ 0.87389588,  0.12610406], dtype=float32)},\n",
       " {'class_ids': array([0], dtype=int64),\n",
       "  'classes': array([b'0'], dtype=object),\n",
       "  'logistic': array([ 0.16820386], dtype=float32),\n",
       "  'logits': array([-1.59841061], dtype=float32),\n",
       "  'probabilities': array([ 0.83179611,  0.16820388], dtype=float32)},\n",
       " {'class_ids': array([0], dtype=int64),\n",
       "  'classes': array([b'0'], dtype=object),\n",
       "  'logistic': array([ 0.22196421], dtype=float32),\n",
       "  'logits': array([-1.25425649], dtype=float32),\n",
       "  'probabilities': array([ 0.77803582,  0.2219642 ], dtype=float32)},\n",
       " {'class_ids': array([0], dtype=int64),\n",
       "  'classes': array([b'0'], dtype=object),\n",
       "  'logistic': array([ 0.24978389], dtype=float32),\n",
       "  'logits': array([-1.09976518], dtype=float32),\n",
       "  'probabilities': array([ 0.75021607,  0.24978387], dtype=float32)},\n",
       " {'class_ids': array([0], dtype=int64),\n",
       "  'classes': array([b'0'], dtype=object),\n",
       "  'logistic': array([ 0.37042376], dtype=float32),\n",
       "  'logits': array([-0.53039914], dtype=float32),\n",
       "  'probabilities': array([ 0.62957621,  0.37042379], dtype=float32)},\n",
       " {'class_ids': array([0], dtype=int64),\n",
       "  'classes': array([b'0'], dtype=object),\n",
       "  'logistic': array([ 0.11583662], dtype=float32),\n",
       "  'logits': array([-2.03246117], dtype=float32),\n",
       "  'probabilities': array([ 0.88416338,  0.11583661], dtype=float32)},\n",
       " {'class_ids': array([0], dtype=int64),\n",
       "  'classes': array([b'0'], dtype=object),\n",
       "  'logistic': array([ 0.21615778], dtype=float32),\n",
       "  'logits': array([-1.28819907], dtype=float32),\n",
       "  'probabilities': array([ 0.78384221,  0.21615779], dtype=float32)},\n",
       " {'class_ids': array([0], dtype=int64),\n",
       "  'classes': array([b'0'], dtype=object),\n",
       "  'logistic': array([ 0.1967784], dtype=float32),\n",
       "  'logits': array([-1.40655243], dtype=float32),\n",
       "  'probabilities': array([ 0.80322164,  0.1967784 ], dtype=float32)},\n",
       " {'class_ids': array([0], dtype=int64),\n",
       "  'classes': array([b'0'], dtype=object),\n",
       "  'logistic': array([ 0.20706698], dtype=float32),\n",
       "  'logits': array([-1.34269643], dtype=float32),\n",
       "  'probabilities': array([ 0.79293299,  0.20706698], dtype=float32)},\n",
       " {'class_ids': array([0], dtype=int64),\n",
       "  'classes': array([b'0'], dtype=object),\n",
       "  'logistic': array([ 0.44485512], dtype=float32),\n",
       "  'logits': array([-0.22148043], dtype=float32),\n",
       "  'probabilities': array([ 0.55514485,  0.44485512], dtype=float32)},\n",
       " {'class_ids': array([0], dtype=int64),\n",
       "  'classes': array([b'0'], dtype=object),\n",
       "  'logistic': array([ 0.15920734], dtype=float32),\n",
       "  'logits': array([-1.66413772], dtype=float32),\n",
       "  'probabilities': array([ 0.84079272,  0.15920736], dtype=float32)},\n",
       " {'class_ids': array([0], dtype=int64),\n",
       "  'classes': array([b'0'], dtype=object),\n",
       "  'logistic': array([ 0.22424047], dtype=float32),\n",
       "  'logits': array([-1.24112368], dtype=float32),\n",
       "  'probabilities': array([ 0.77575958,  0.22424047], dtype=float32)},\n",
       " {'class_ids': array([1], dtype=int64),\n",
       "  'classes': array([b'1'], dtype=object),\n",
       "  'logistic': array([ 0.61076242], dtype=float32),\n",
       "  'logits': array([ 0.45051801], dtype=float32),\n",
       "  'probabilities': array([ 0.38923761,  0.61076242], dtype=float32)},\n",
       " {'class_ids': array([1], dtype=int64),\n",
       "  'classes': array([b'1'], dtype=object),\n",
       "  'logistic': array([ 0.59869033], dtype=float32),\n",
       "  'logits': array([ 0.40001106], dtype=float32),\n",
       "  'probabilities': array([ 0.4013097 ,  0.59869033], dtype=float32)},\n",
       " {'class_ids': array([0], dtype=int64),\n",
       "  'classes': array([b'0'], dtype=object),\n",
       "  'logistic': array([ 0.49268046], dtype=float32),\n",
       "  'logits': array([-0.0292803], dtype=float32),\n",
       "  'probabilities': array([ 0.50731957,  0.49268046], dtype=float32)},\n",
       " {'class_ids': array([0], dtype=int64),\n",
       "  'classes': array([b'0'], dtype=object),\n",
       "  'logistic': array([ 0.35068047], dtype=float32),\n",
       "  'logits': array([-0.61604953], dtype=float32),\n",
       "  'probabilities': array([ 0.64931953,  0.35068044], dtype=float32)},\n",
       " {'class_ids': array([0], dtype=int64),\n",
       "  'classes': array([b'0'], dtype=object),\n",
       "  'logistic': array([ 0.45788795], dtype=float32),\n",
       "  'logits': array([-0.1688481], dtype=float32),\n",
       "  'probabilities': array([ 0.54211205,  0.45788801], dtype=float32)},\n",
       " {'class_ids': array([0], dtype=int64),\n",
       "  'classes': array([b'0'], dtype=object),\n",
       "  'logistic': array([ 0.17611235], dtype=float32),\n",
       "  'logits': array([-1.54291201], dtype=float32),\n",
       "  'probabilities': array([ 0.82388765,  0.17611235], dtype=float32)},\n",
       " {'class_ids': array([0], dtype=int64),\n",
       "  'classes': array([b'0'], dtype=object),\n",
       "  'logistic': array([ 0.17895375], dtype=float32),\n",
       "  'logits': array([-1.52345204], dtype=float32),\n",
       "  'probabilities': array([ 0.82104623,  0.17895374], dtype=float32)},\n",
       " {'class_ids': array([0], dtype=int64),\n",
       "  'classes': array([b'0'], dtype=object),\n",
       "  'logistic': array([ 0.14284225], dtype=float32),\n",
       "  'logits': array([-1.79188108], dtype=float32),\n",
       "  'probabilities': array([ 0.85715777,  0.14284225], dtype=float32)},\n",
       " {'class_ids': array([0], dtype=int64),\n",
       "  'classes': array([b'0'], dtype=object),\n",
       "  'logistic': array([ 0.115474], dtype=float32),\n",
       "  'logits': array([-2.03600645], dtype=float32),\n",
       "  'probabilities': array([ 0.88452595,  0.115474  ], dtype=float32)},\n",
       " {'class_ids': array([1], dtype=int64),\n",
       "  'classes': array([b'1'], dtype=object),\n",
       "  'logistic': array([ 0.60607708], dtype=float32),\n",
       "  'logits': array([ 0.43085194], dtype=float32),\n",
       "  'probabilities': array([ 0.39392292,  0.60607708], dtype=float32)},\n",
       " {'class_ids': array([0], dtype=int64),\n",
       "  'classes': array([b'0'], dtype=object),\n",
       "  'logistic': array([ 0.20955253], dtype=float32),\n",
       "  'logits': array([-1.3276248], dtype=float32),\n",
       "  'probabilities': array([ 0.79044747,  0.20955253], dtype=float32)},\n",
       " {'class_ids': array([0], dtype=int64),\n",
       "  'classes': array([b'0'], dtype=object),\n",
       "  'logistic': array([ 0.43348983], dtype=float32),\n",
       "  'logits': array([-0.26762676], dtype=float32),\n",
       "  'probabilities': array([ 0.5665102 ,  0.43348983], dtype=float32)},\n",
       " {'class_ids': array([1], dtype=int64),\n",
       "  'classes': array([b'1'], dtype=object),\n",
       "  'logistic': array([ 0.56288064], dtype=float32),\n",
       "  'logits': array([ 0.25286126], dtype=float32),\n",
       "  'probabilities': array([ 0.43711939,  0.56288064], dtype=float32)},\n",
       " {'class_ids': array([0], dtype=int64),\n",
       "  'classes': array([b'0'], dtype=object),\n",
       "  'logistic': array([ 0.28844127], dtype=float32),\n",
       "  'logits': array([-0.90296638], dtype=float32),\n",
       "  'probabilities': array([ 0.7115587 ,  0.28844127], dtype=float32)},\n",
       " {'class_ids': array([1], dtype=int64),\n",
       "  'classes': array([b'1'], dtype=object),\n",
       "  'logistic': array([ 0.61519134], dtype=float32),\n",
       "  'logits': array([ 0.46918714], dtype=float32),\n",
       "  'probabilities': array([ 0.38480866,  0.61519134], dtype=float32)},\n",
       " {'class_ids': array([0], dtype=int64),\n",
       "  'classes': array([b'0'], dtype=object),\n",
       "  'logistic': array([ 0.12281232], dtype=float32),\n",
       "  'logits': array([-1.96606362], dtype=float32),\n",
       "  'probabilities': array([ 0.87718767,  0.12281232], dtype=float32)},\n",
       " {'class_ids': array([1], dtype=int64),\n",
       "  'classes': array([b'1'], dtype=object),\n",
       "  'logistic': array([ 0.61559594], dtype=float32),\n",
       "  'logits': array([ 0.47089648], dtype=float32),\n",
       "  'probabilities': array([ 0.38440409,  0.61559594], dtype=float32)},\n",
       " {'class_ids': array([0], dtype=int64),\n",
       "  'classes': array([b'0'], dtype=object),\n",
       "  'logistic': array([ 0.12029385], dtype=float32),\n",
       "  'logits': array([-1.98965049], dtype=float32),\n",
       "  'probabilities': array([ 0.87970614,  0.12029385], dtype=float32)},\n",
       " {'class_ids': array([1], dtype=int64),\n",
       "  'classes': array([b'1'], dtype=object),\n",
       "  'logistic': array([ 0.54621005], dtype=float32),\n",
       "  'logits': array([ 0.18536913], dtype=float32),\n",
       "  'probabilities': array([ 0.45378998,  0.54621005], dtype=float32)},\n",
       " {'class_ids': array([0], dtype=int64),\n",
       "  'classes': array([b'0'], dtype=object),\n",
       "  'logistic': array([ 0.30000019], dtype=float32),\n",
       "  'logits': array([-0.84729689], dtype=float32),\n",
       "  'probabilities': array([ 0.69999981,  0.30000022], dtype=float32)},\n",
       " {'class_ids': array([0], dtype=int64),\n",
       "  'classes': array([b'0'], dtype=object),\n",
       "  'logistic': array([ 0.14864029], dtype=float32),\n",
       "  'logits': array([-1.74530554], dtype=float32),\n",
       "  'probabilities': array([ 0.85135972,  0.14864029], dtype=float32)},\n",
       " {'class_ids': array([1], dtype=int64),\n",
       "  'classes': array([b'1'], dtype=object),\n",
       "  'logistic': array([ 0.53516573], dtype=float32),\n",
       "  'logits': array([ 0.14089561], dtype=float32),\n",
       "  'probabilities': array([ 0.46483424,  0.53516573], dtype=float32)},\n",
       " {'class_ids': array([1], dtype=int64),\n",
       "  'classes': array([b'1'], dtype=object),\n",
       "  'logistic': array([ 0.59696537], dtype=float32),\n",
       "  'logits': array([ 0.39283657], dtype=float32),\n",
       "  'probabilities': array([ 0.40303466,  0.59696537], dtype=float32)},\n",
       " {'class_ids': array([1], dtype=int64),\n",
       "  'classes': array([b'1'], dtype=object),\n",
       "  'logistic': array([ 0.52338529], dtype=float32),\n",
       "  'logits': array([ 0.09360945], dtype=float32),\n",
       "  'probabilities': array([ 0.47661471,  0.52338529], dtype=float32)},\n",
       " {'class_ids': array([0], dtype=int64),\n",
       "  'classes': array([b'0'], dtype=object),\n",
       "  'logistic': array([ 0.15992233], dtype=float32),\n",
       "  'logits': array([-1.65880609], dtype=float32),\n",
       "  'probabilities': array([ 0.84007764,  0.15992232], dtype=float32)},\n",
       " {'class_ids': array([0], dtype=int64),\n",
       "  'classes': array([b'0'], dtype=object),\n",
       "  'logistic': array([ 0.35584152], dtype=float32),\n",
       "  'logits': array([-0.59345925], dtype=float32),\n",
       "  'probabilities': array([ 0.64415848,  0.35584155], dtype=float32)},\n",
       " {'class_ids': array([0], dtype=int64),\n",
       "  'classes': array([b'0'], dtype=object),\n",
       "  'logistic': array([ 0.13971567], dtype=float32),\n",
       "  'logits': array([-1.81765354], dtype=float32),\n",
       "  'probabilities': array([ 0.86028427,  0.13971566], dtype=float32)},\n",
       " {'class_ids': array([1], dtype=int64),\n",
       "  'classes': array([b'1'], dtype=object),\n",
       "  'logistic': array([ 0.66955656], dtype=float32),\n",
       "  'logits': array([ 0.7061801], dtype=float32),\n",
       "  'probabilities': array([ 0.33044347,  0.66955656], dtype=float32)},\n",
       " {'class_ids': array([1], dtype=int64),\n",
       "  'classes': array([b'1'], dtype=object),\n",
       "  'logistic': array([ 0.77156848], dtype=float32),\n",
       "  'logits': array([ 1.21718872], dtype=float32),\n",
       "  'probabilities': array([ 0.22843157,  0.77156848], dtype=float32)},\n",
       " {'class_ids': array([1], dtype=int64),\n",
       "  'classes': array([b'1'], dtype=object),\n",
       "  'logistic': array([ 0.60623962], dtype=float32),\n",
       "  'logits': array([ 0.43153286], dtype=float32),\n",
       "  'probabilities': array([ 0.39376032,  0.60623962], dtype=float32)},\n",
       " {'class_ids': array([0], dtype=int64),\n",
       "  'classes': array([b'0'], dtype=object),\n",
       "  'logistic': array([ 0.20051102], dtype=float32),\n",
       "  'logits': array([-1.38310361], dtype=float32),\n",
       "  'probabilities': array([ 0.79948902,  0.20051102], dtype=float32)},\n",
       " {'class_ids': array([0], dtype=int64),\n",
       "  'classes': array([b'0'], dtype=object),\n",
       "  'logistic': array([ 0.46040496], dtype=float32),\n",
       "  'logits': array([-0.15871245], dtype=float32),\n",
       "  'probabilities': array([ 0.53959501,  0.46040496], dtype=float32)},\n",
       " {'class_ids': array([0], dtype=int64),\n",
       "  'classes': array([b'0'], dtype=object),\n",
       "  'logistic': array([ 0.38144121], dtype=float32),\n",
       "  'logits': array([-0.48343551], dtype=float32),\n",
       "  'probabilities': array([ 0.61855882,  0.38144124], dtype=float32)},\n",
       " {'class_ids': array([0], dtype=int64),\n",
       "  'classes': array([b'0'], dtype=object),\n",
       "  'logistic': array([ 0.42317858], dtype=float32),\n",
       "  'logits': array([-0.30973858], dtype=float32),\n",
       "  'probabilities': array([ 0.57682145,  0.42317852], dtype=float32)},\n",
       " {'class_ids': array([0], dtype=int64),\n",
       "  'classes': array([b'0'], dtype=object),\n",
       "  'logistic': array([ 0.35346884], dtype=float32),\n",
       "  'logits': array([-0.60382605], dtype=float32),\n",
       "  'probabilities': array([ 0.64653116,  0.35346884], dtype=float32)},\n",
       " {'class_ids': array([0], dtype=int64),\n",
       "  'classes': array([b'0'], dtype=object),\n",
       "  'logistic': array([ 0.43073598], dtype=float32),\n",
       "  'logits': array([-0.27884907], dtype=float32),\n",
       "  'probabilities': array([ 0.56926405,  0.43073598], dtype=float32)},\n",
       " {'class_ids': array([0], dtype=int64),\n",
       "  'classes': array([b'0'], dtype=object),\n",
       "  'logistic': array([ 0.13894856], dtype=float32),\n",
       "  'logits': array([-1.82405043], dtype=float32),\n",
       "  'probabilities': array([ 0.8610515 ,  0.13894857], dtype=float32)},\n",
       " {'class_ids': array([1], dtype=int64),\n",
       "  'classes': array([b'1'], dtype=object),\n",
       "  'logistic': array([ 0.5331102], dtype=float32),\n",
       "  'logits': array([ 0.13263488], dtype=float32),\n",
       "  'probabilities': array([ 0.46688983,  0.5331102 ], dtype=float32)},\n",
       " {'class_ids': array([1], dtype=int64),\n",
       "  'classes': array([b'1'], dtype=object),\n",
       "  'logistic': array([ 0.51430333], dtype=float32),\n",
       "  'logits': array([ 0.05722892], dtype=float32),\n",
       "  'probabilities': array([ 0.48569667,  0.51430333], dtype=float32)},\n",
       " {'class_ids': array([0], dtype=int64),\n",
       "  'classes': array([b'0'], dtype=object),\n",
       "  'logistic': array([ 0.22762851], dtype=float32),\n",
       "  'logits': array([-1.22175074], dtype=float32),\n",
       "  'probabilities': array([ 0.77237153,  0.2276285 ], dtype=float32)},\n",
       " {'class_ids': array([0], dtype=int64),\n",
       "  'classes': array([b'0'], dtype=object),\n",
       "  'logistic': array([ 0.16162866], dtype=float32),\n",
       "  'logits': array([-1.64615965], dtype=float32),\n",
       "  'probabilities': array([ 0.83837134,  0.16162866], dtype=float32)},\n",
       " {'class_ids': array([0], dtype=int64),\n",
       "  'classes': array([b'0'], dtype=object),\n",
       "  'logistic': array([ 0.16302353], dtype=float32),\n",
       "  'logits': array([-1.63590145], dtype=float32),\n",
       "  'probabilities': array([ 0.83697641,  0.16302352], dtype=float32)},\n",
       " {'class_ids': array([0], dtype=int64),\n",
       "  'classes': array([b'0'], dtype=object),\n",
       "  'logistic': array([ 0.26556829], dtype=float32),\n",
       "  'logits': array([-1.01722503], dtype=float32),\n",
       "  'probabilities': array([ 0.73443174,  0.26556829], dtype=float32)},\n",
       " {'class_ids': array([0], dtype=int64),\n",
       "  'classes': array([b'0'], dtype=object),\n",
       "  'logistic': array([ 0.37827599], dtype=float32),\n",
       "  'logits': array([-0.49687225], dtype=float32),\n",
       "  'probabilities': array([ 0.62172407,  0.37827599], dtype=float32)},\n",
       " {'class_ids': array([0], dtype=int64),\n",
       "  'classes': array([b'0'], dtype=object),\n",
       "  'logistic': array([ 0.12409567], dtype=float32),\n",
       "  'logits': array([-1.95420408], dtype=float32),\n",
       "  'probabilities': array([ 0.87590438,  0.12409568], dtype=float32)},\n",
       " {'class_ids': array([0], dtype=int64),\n",
       "  'classes': array([b'0'], dtype=object),\n",
       "  'logistic': array([ 0.32939869], dtype=float32),\n",
       "  'logits': array([-0.71090591], dtype=float32),\n",
       "  'probabilities': array([ 0.67060131,  0.32939869], dtype=float32)},\n",
       " {'class_ids': array([0], dtype=int64),\n",
       "  'classes': array([b'0'], dtype=object),\n",
       "  'logistic': array([ 0.20854527], dtype=float32),\n",
       "  'logits': array([-1.33371651], dtype=float32),\n",
       "  'probabilities': array([ 0.79145473,  0.20854528], dtype=float32)},\n",
       " {'class_ids': array([0], dtype=int64),\n",
       "  'classes': array([b'0'], dtype=object),\n",
       "  'logistic': array([ 0.09134984], dtype=float32),\n",
       "  'logits': array([-2.29726362], dtype=float32),\n",
       "  'probabilities': array([ 0.9086501 ,  0.09134983], dtype=float32)},\n",
       " {'class_ids': array([0], dtype=int64),\n",
       "  'classes': array([b'0'], dtype=object),\n",
       "  'logistic': array([ 0.12226533], dtype=float32),\n",
       "  'logits': array([-1.97115076], dtype=float32),\n",
       "  'probabilities': array([ 0.8777346 ,  0.12226533], dtype=float32)},\n",
       " {'class_ids': array([1], dtype=int64),\n",
       "  'classes': array([b'1'], dtype=object),\n",
       "  'logistic': array([ 0.71906745], dtype=float32),\n",
       "  'logits': array([ 0.93984056], dtype=float32),\n",
       "  'probabilities': array([ 0.28093255,  0.71906745], dtype=float32)},\n",
       " {'class_ids': array([0], dtype=int64),\n",
       "  'classes': array([b'0'], dtype=object),\n",
       "  'logistic': array([ 0.17281504], dtype=float32),\n",
       "  'logits': array([-1.56580639], dtype=float32),\n",
       "  'probabilities': array([ 0.82718492,  0.17281504], dtype=float32)},\n",
       " {'class_ids': array([0], dtype=int64),\n",
       "  'classes': array([b'0'], dtype=object),\n",
       "  'logistic': array([ 0.12011873], dtype=float32),\n",
       "  'logits': array([-1.99130619], dtype=float32),\n",
       "  'probabilities': array([ 0.8798812 ,  0.12011873], dtype=float32)},\n",
       " {'class_ids': array([0], dtype=int64),\n",
       "  'classes': array([b'0'], dtype=object),\n",
       "  'logistic': array([ 0.13981317], dtype=float32),\n",
       "  'logits': array([-1.81684256], dtype=float32),\n",
       "  'probabilities': array([ 0.86018682,  0.13981317], dtype=float32)},\n",
       " {'class_ids': array([0], dtype=int64),\n",
       "  'classes': array([b'0'], dtype=object),\n",
       "  'logistic': array([ 0.46718681], dtype=float32),\n",
       "  'logits': array([-0.13144159], dtype=float32),\n",
       "  'probabilities': array([ 0.53281319,  0.46718684], dtype=float32)},\n",
       " {'class_ids': array([0], dtype=int64),\n",
       "  'classes': array([b'0'], dtype=object),\n",
       "  'logistic': array([ 0.4448342], dtype=float32),\n",
       "  'logits': array([-0.22156513], dtype=float32),\n",
       "  'probabilities': array([ 0.55516577,  0.4448342 ], dtype=float32)},\n",
       " {'class_ids': array([0], dtype=int64),\n",
       "  'classes': array([b'0'], dtype=object),\n",
       "  'logistic': array([ 0.23326892], dtype=float32),\n",
       "  'logits': array([-1.18994415], dtype=float32),\n",
       "  'probabilities': array([ 0.76673102,  0.23326892], dtype=float32)},\n",
       " {'class_ids': array([0], dtype=int64),\n",
       "  'classes': array([b'0'], dtype=object),\n",
       "  'logistic': array([ 0.44431856], dtype=float32),\n",
       "  'logits': array([-0.22365344], dtype=float32),\n",
       "  'probabilities': array([ 0.55568141,  0.4443185 ], dtype=float32)},\n",
       " {'class_ids': array([0], dtype=int64),\n",
       "  'classes': array([b'0'], dtype=object),\n",
       "  'logistic': array([ 0.17028676], dtype=float32),\n",
       "  'logits': array([-1.58359623], dtype=float32),\n",
       "  'probabilities': array([ 0.82971323,  0.17028676], dtype=float32)},\n",
       " {'class_ids': array([0], dtype=int64),\n",
       "  'classes': array([b'0'], dtype=object),\n",
       "  'logistic': array([ 0.22281022], dtype=float32),\n",
       "  'logits': array([-1.24936414], dtype=float32),\n",
       "  'probabilities': array([ 0.77718979,  0.22281024], dtype=float32)},\n",
       " {'class_ids': array([0], dtype=int64),\n",
       "  'classes': array([b'0'], dtype=object),\n",
       "  'logistic': array([ 0.49608055], dtype=float32),\n",
       "  'logits': array([-0.01567817], dtype=float32),\n",
       "  'probabilities': array([ 0.50391942,  0.49608049], dtype=float32)},\n",
       " {'class_ids': array([0], dtype=int64),\n",
       "  'classes': array([b'0'], dtype=object),\n",
       "  'logistic': array([ 0.4654361], dtype=float32),\n",
       "  'logits': array([-0.13847649], dtype=float32),\n",
       "  'probabilities': array([ 0.5345639,  0.4654361], dtype=float32)},\n",
       " {'class_ids': array([0], dtype=int64),\n",
       "  'classes': array([b'0'], dtype=object),\n",
       "  'logistic': array([ 0.12297352], dtype=float32),\n",
       "  'logits': array([-1.96456814], dtype=float32),\n",
       "  'probabilities': array([ 0.87702644,  0.12297351], dtype=float32)},\n",
       " {'class_ids': array([0], dtype=int64),\n",
       "  'classes': array([b'0'], dtype=object),\n",
       "  'logistic': array([ 0.3797076], dtype=float32),\n",
       "  'logits': array([-0.49078947], dtype=float32),\n",
       "  'probabilities': array([ 0.62029243,  0.3797076 ], dtype=float32)},\n",
       " {'class_ids': array([1], dtype=int64),\n",
       "  'classes': array([b'1'], dtype=object),\n",
       "  'logistic': array([ 0.64732021], dtype=float32),\n",
       "  'logits': array([ 0.60728061], dtype=float32),\n",
       "  'probabilities': array([ 0.35267976,  0.64732021], dtype=float32)},\n",
       " {'class_ids': array([1], dtype=int64),\n",
       "  'classes': array([b'1'], dtype=object),\n",
       "  'logistic': array([ 0.50935984], dtype=float32),\n",
       "  'logits': array([ 0.03744364], dtype=float32),\n",
       "  'probabilities': array([ 0.49064022,  0.50935984], dtype=float32)},\n",
       " {'class_ids': array([0], dtype=int64),\n",
       "  'classes': array([b'0'], dtype=object),\n",
       "  'logistic': array([ 0.36543918], dtype=float32),\n",
       "  'logits': array([-0.55183327], dtype=float32),\n",
       "  'probabilities': array([ 0.63456082,  0.36543918], dtype=float32)},\n",
       " {'class_ids': array([1], dtype=int64),\n",
       "  'classes': array([b'1'], dtype=object),\n",
       "  'logistic': array([ 0.54280961], dtype=float32),\n",
       "  'logits': array([ 0.17165864], dtype=float32),\n",
       "  'probabilities': array([ 0.45719045,  0.54280961], dtype=float32)},\n",
       " {'class_ids': array([0], dtype=int64),\n",
       "  'classes': array([b'0'], dtype=object),\n",
       "  'logistic': array([ 0.20171261], dtype=float32),\n",
       "  'logits': array([-1.37562466], dtype=float32),\n",
       "  'probabilities': array([ 0.79828739,  0.20171262], dtype=float32)},\n",
       " {'class_ids': array([0], dtype=int64),\n",
       "  'classes': array([b'0'], dtype=object),\n",
       "  'logistic': array([ 0.17475401], dtype=float32),\n",
       "  'logits': array([-1.55230224], dtype=float32),\n",
       "  'probabilities': array([ 0.82524598,  0.17475401], dtype=float32)},\n",
       " {'class_ids': array([0], dtype=int64),\n",
       "  'classes': array([b'0'], dtype=object),\n",
       "  'logistic': array([ 0.12128817], dtype=float32),\n",
       "  'logits': array([-1.98028767], dtype=float32),\n",
       "  'probabilities': array([ 0.87871176,  0.12128817], dtype=float32)},\n",
       " {'class_ids': array([0], dtype=int64),\n",
       "  'classes': array([b'0'], dtype=object),\n",
       "  'logistic': array([ 0.24649838], dtype=float32),\n",
       "  'logits': array([-1.11737573], dtype=float32),\n",
       "  'probabilities': array([ 0.75350159,  0.24649838], dtype=float32)},\n",
       " {'class_ids': array([0], dtype=int64),\n",
       "  'classes': array([b'0'], dtype=object),\n",
       "  'logistic': array([ 0.49348167], dtype=float32),\n",
       "  'logits': array([-0.02607489], dtype=float32),\n",
       "  'probabilities': array([ 0.50651836,  0.49348167], dtype=float32)},\n",
       " {'class_ids': array([1], dtype=int64),\n",
       "  'classes': array([b'1'], dtype=object),\n",
       "  'logistic': array([ 0.64754903], dtype=float32),\n",
       "  'logits': array([ 0.60828316], dtype=float32),\n",
       "  'probabilities': array([ 0.35245091,  0.64754903], dtype=float32)},\n",
       " {'class_ids': array([0], dtype=int64),\n",
       "  'classes': array([b'0'], dtype=object),\n",
       "  'logistic': array([ 0.21640368], dtype=float32),\n",
       "  'logits': array([-1.28674841], dtype=float32),\n",
       "  'probabilities': array([ 0.78359634,  0.21640369], dtype=float32)},\n",
       " {'class_ids': array([0], dtype=int64),\n",
       "  'classes': array([b'0'], dtype=object),\n",
       "  'logistic': array([ 0.15291595], dtype=float32),\n",
       "  'logits': array([-1.71191144], dtype=float32),\n",
       "  'probabilities': array([ 0.84708405,  0.15291597], dtype=float32)},\n",
       " {'class_ids': array([0], dtype=int64),\n",
       "  'classes': array([b'0'], dtype=object),\n",
       "  'logistic': array([ 0.41680077], dtype=float32),\n",
       "  'logits': array([-0.33592057], dtype=float32),\n",
       "  'probabilities': array([ 0.58319926,  0.41680077], dtype=float32)},\n",
       " {'class_ids': array([0], dtype=int64),\n",
       "  'classes': array([b'0'], dtype=object),\n",
       "  'logistic': array([ 0.21931832], dtype=float32),\n",
       "  'logits': array([-1.26964331], dtype=float32),\n",
       "  'probabilities': array([ 0.78068167,  0.2193183 ], dtype=float32)},\n",
       " {'class_ids': array([0], dtype=int64),\n",
       "  'classes': array([b'0'], dtype=object),\n",
       "  'logistic': array([ 0.14111954], dtype=float32),\n",
       "  'logits': array([-1.80602241], dtype=float32),\n",
       "  'probabilities': array([ 0.85888046,  0.14111954], dtype=float32)},\n",
       " {'class_ids': array([0], dtype=int64),\n",
       "  'classes': array([b'0'], dtype=object),\n",
       "  'logistic': array([ 0.17784519], dtype=float32),\n",
       "  'logits': array([-1.53101516], dtype=float32),\n",
       "  'probabilities': array([ 0.82215476,  0.17784519], dtype=float32)},\n",
       " {'class_ids': array([0], dtype=int64),\n",
       "  'classes': array([b'0'], dtype=object),\n",
       "  'logistic': array([ 0.12212769], dtype=float32),\n",
       "  'logits': array([-1.97243404], dtype=float32),\n",
       "  'probabilities': array([ 0.87787229,  0.12212768], dtype=float32)},\n",
       " {'class_ids': array([0], dtype=int64),\n",
       "  'classes': array([b'0'], dtype=object),\n",
       "  'logistic': array([ 0.37978894], dtype=float32),\n",
       "  'logits': array([-0.49044406], dtype=float32),\n",
       "  'probabilities': array([ 0.62021106,  0.37978896], dtype=float32)},\n",
       " {'class_ids': array([1], dtype=int64),\n",
       "  'classes': array([b'1'], dtype=object),\n",
       "  'logistic': array([ 0.73185563], dtype=float32),\n",
       "  'logits': array([ 1.00405777], dtype=float32),\n",
       "  'probabilities': array([ 0.26814437,  0.73185563], dtype=float32)},\n",
       " {'class_ids': array([1], dtype=int64),\n",
       "  'classes': array([b'1'], dtype=object),\n",
       "  'logistic': array([ 0.74808234], dtype=float32),\n",
       "  'logits': array([ 1.08841097], dtype=float32),\n",
       "  'probabilities': array([ 0.2519176 ,  0.74808234], dtype=float32)},\n",
       " {'class_ids': array([1], dtype=int64),\n",
       "  'classes': array([b'1'], dtype=object),\n",
       "  'logistic': array([ 0.516895], dtype=float32),\n",
       "  'logits': array([ 0.06760561], dtype=float32),\n",
       "  'probabilities': array([ 0.48310506,  0.516895  ], dtype=float32)},\n",
       " {'class_ids': array([0], dtype=int64),\n",
       "  'classes': array([b'0'], dtype=object),\n",
       "  'logistic': array([ 0.49943286], dtype=float32),\n",
       "  'logits': array([-0.00226855], dtype=float32),\n",
       "  'probabilities': array([ 0.50056714,  0.49943286], dtype=float32)},\n",
       " {'class_ids': array([1], dtype=int64),\n",
       "  'classes': array([b'1'], dtype=object),\n",
       "  'logistic': array([ 0.55183554], dtype=float32),\n",
       "  'logits': array([ 0.20808971], dtype=float32),\n",
       "  'probabilities': array([ 0.44816449,  0.55183554], dtype=float32)},\n",
       " {'class_ids': array([0], dtype=int64),\n",
       "  'classes': array([b'0'], dtype=object),\n",
       "  'logistic': array([ 0.11109388], dtype=float32),\n",
       "  'logits': array([-2.07961607], dtype=float32),\n",
       "  'probabilities': array([ 0.88890612,  0.11109387], dtype=float32)},\n",
       " {'class_ids': array([1], dtype=int64),\n",
       "  'classes': array([b'1'], dtype=object),\n",
       "  'logistic': array([ 0.5170877], dtype=float32),\n",
       "  'logits': array([ 0.06837738], dtype=float32),\n",
       "  'probabilities': array([ 0.48291233,  0.5170877 ], dtype=float32)},\n",
       " {'class_ids': array([1], dtype=int64),\n",
       "  'classes': array([b'1'], dtype=object),\n",
       "  'logistic': array([ 0.73819679], dtype=float32),\n",
       "  'logits': array([ 1.0366174], dtype=float32),\n",
       "  'probabilities': array([ 0.26180318,  0.73819679], dtype=float32)},\n",
       " {'class_ids': array([0], dtype=int64),\n",
       "  'classes': array([b'0'], dtype=object),\n",
       "  'logistic': array([ 0.39701733], dtype=float32),\n",
       "  'logits': array([-0.41790849], dtype=float32),\n",
       "  'probabilities': array([ 0.60298264,  0.39701733], dtype=float32)},\n",
       " {'class_ids': array([0], dtype=int64),\n",
       "  'classes': array([b'0'], dtype=object),\n",
       "  'logistic': array([ 0.23794159], dtype=float32),\n",
       "  'logits': array([-1.16399789], dtype=float32),\n",
       "  'probabilities': array([ 0.76205844,  0.23794164], dtype=float32)},\n",
       " {'class_ids': array([0], dtype=int64),\n",
       "  'classes': array([b'0'], dtype=object),\n",
       "  'logistic': array([ 0.31324148], dtype=float32),\n",
       "  'logits': array([-0.78500837], dtype=float32),\n",
       "  'probabilities': array([ 0.68675852,  0.31324145], dtype=float32)},\n",
       " {'class_ids': array([1], dtype=int64),\n",
       "  'classes': array([b'1'], dtype=object),\n",
       "  'logistic': array([ 0.56848872], dtype=float32),\n",
       "  'logits': array([ 0.27568769], dtype=float32),\n",
       "  'probabilities': array([ 0.43151134,  0.56848872], dtype=float32)},\n",
       " {'class_ids': array([0], dtype=int64),\n",
       "  'classes': array([b'0'], dtype=object),\n",
       "  'logistic': array([ 0.22400306], dtype=float32),\n",
       "  'logits': array([-1.24248886], dtype=float32),\n",
       "  'probabilities': array([ 0.77599698,  0.22400308], dtype=float32)},\n",
       " {'class_ids': array([1], dtype=int64),\n",
       "  'classes': array([b'1'], dtype=object),\n",
       "  'logistic': array([ 0.6452859], dtype=float32),\n",
       "  'logits': array([ 0.59838116], dtype=float32),\n",
       "  'probabilities': array([ 0.35471418,  0.6452859 ], dtype=float32)},\n",
       " {'class_ids': array([0], dtype=int64),\n",
       "  'classes': array([b'0'], dtype=object),\n",
       "  'logistic': array([ 0.41871306], dtype=float32),\n",
       "  'logits': array([-0.32805866], dtype=float32),\n",
       "  'probabilities': array([ 0.58128697,  0.41871306], dtype=float32)},\n",
       " {'class_ids': array([0], dtype=int64),\n",
       "  'classes': array([b'0'], dtype=object),\n",
       "  'logistic': array([ 0.40606332], dtype=float32),\n",
       "  'logits': array([-0.38026357], dtype=float32),\n",
       "  'probabilities': array([ 0.59393662,  0.40606329], dtype=float32)},\n",
       " {'class_ids': array([0], dtype=int64),\n",
       "  'classes': array([b'0'], dtype=object),\n",
       "  'logistic': array([ 0.15206943], dtype=float32),\n",
       "  'logits': array([-1.71846151], dtype=float32),\n",
       "  'probabilities': array([ 0.84793061,  0.15206945], dtype=float32)},\n",
       " {'class_ids': array([0], dtype=int64),\n",
       "  'classes': array([b'0'], dtype=object),\n",
       "  'logistic': array([ 0.17294687], dtype=float32),\n",
       "  'logits': array([-1.56488454], dtype=float32),\n",
       "  'probabilities': array([ 0.82705313,  0.17294686], dtype=float32)},\n",
       " {'class_ids': array([0], dtype=int64),\n",
       "  'classes': array([b'0'], dtype=object),\n",
       "  'logistic': array([ 0.17151256], dtype=float32),\n",
       "  'logits': array([-1.57494521], dtype=float32),\n",
       "  'probabilities': array([ 0.82848746,  0.17151256], dtype=float32)},\n",
       " {'class_ids': array([0], dtype=int64),\n",
       "  'classes': array([b'0'], dtype=object),\n",
       "  'logistic': array([ 0.4342857], dtype=float32),\n",
       "  'logits': array([-0.26438653], dtype=float32),\n",
       "  'probabilities': array([ 0.5657143,  0.4342857], dtype=float32)},\n",
       " {'class_ids': array([0], dtype=int64),\n",
       "  'classes': array([b'0'], dtype=object),\n",
       "  'logistic': array([ 0.14448842], dtype=float32),\n",
       "  'logits': array([-1.77850032], dtype=float32),\n",
       "  'probabilities': array([ 0.85551161,  0.14448841], dtype=float32)},\n",
       " {'class_ids': array([1], dtype=int64),\n",
       "  'classes': array([b'1'], dtype=object),\n",
       "  'logistic': array([ 0.70429909], dtype=float32),\n",
       "  'logits': array([ 0.8678546], dtype=float32),\n",
       "  'probabilities': array([ 0.29570091,  0.70429909], dtype=float32)},\n",
       " {'class_ids': array([0], dtype=int64),\n",
       "  'classes': array([b'0'], dtype=object),\n",
       "  'logistic': array([ 0.18452622], dtype=float32),\n",
       "  'logits': array([-1.48597765], dtype=float32),\n",
       "  'probabilities': array([ 0.81547374,  0.18452622], dtype=float32)},\n",
       " {'class_ids': array([0], dtype=int64),\n",
       "  'classes': array([b'0'], dtype=object),\n",
       "  'logistic': array([ 0.48730078], dtype=float32),\n",
       "  'logits': array([-0.05080789], dtype=float32),\n",
       "  'probabilities': array([ 0.51269925,  0.48730078], dtype=float32)},\n",
       " {'class_ids': array([0], dtype=int64),\n",
       "  'classes': array([b'0'], dtype=object),\n",
       "  'logistic': array([ 0.15159835], dtype=float32),\n",
       "  'logits': array([-1.72211957], dtype=float32),\n",
       "  'probabilities': array([ 0.84840167,  0.15159835], dtype=float32)},\n",
       " {'class_ids': array([1], dtype=int64),\n",
       "  'classes': array([b'1'], dtype=object),\n",
       "  'logistic': array([ 0.6472078], dtype=float32),\n",
       "  'logits': array([ 0.6067884], dtype=float32),\n",
       "  'probabilities': array([ 0.35279214,  0.6472078 ], dtype=float32)},\n",
       " {'class_ids': array([0], dtype=int64),\n",
       "  'classes': array([b'0'], dtype=object),\n",
       "  'logistic': array([ 0.26840016], dtype=float32),\n",
       "  'logits': array([-1.00275469], dtype=float32),\n",
       "  'probabilities': array([ 0.73159987,  0.26840016], dtype=float32)},\n",
       " {'class_ids': array([0], dtype=int64),\n",
       "  'classes': array([b'0'], dtype=object),\n",
       "  'logistic': array([ 0.18934999], dtype=float32),\n",
       "  'logits': array([-1.45423925], dtype=float32),\n",
       "  'probabilities': array([ 0.81064999,  0.18934999], dtype=float32)},\n",
       " {'class_ids': array([0], dtype=int64),\n",
       "  'classes': array([b'0'], dtype=object),\n",
       "  'logistic': array([ 0.31645212], dtype=float32),\n",
       "  'logits': array([-0.77012473], dtype=float32),\n",
       "  'probabilities': array([ 0.68354785,  0.31645212], dtype=float32)},\n",
       " {'class_ids': array([0], dtype=int64),\n",
       "  'classes': array([b'0'], dtype=object),\n",
       "  'logistic': array([ 0.30359223], dtype=float32),\n",
       "  'logits': array([-0.83024991], dtype=float32),\n",
       "  'probabilities': array([ 0.69640779,  0.30359223], dtype=float32)},\n",
       " {'class_ids': array([0], dtype=int64),\n",
       "  'classes': array([b'0'], dtype=object),\n",
       "  'logistic': array([ 0.16735062], dtype=float32),\n",
       "  'logits': array([-1.60452151], dtype=float32),\n",
       "  'probabilities': array([ 0.83264941,  0.16735062], dtype=float32)},\n",
       " {'class_ids': array([1], dtype=int64),\n",
       "  'classes': array([b'1'], dtype=object),\n",
       "  'logistic': array([ 0.67326903], dtype=float32),\n",
       "  'logits': array([ 0.72300804], dtype=float32),\n",
       "  'probabilities': array([ 0.32673094,  0.67326903], dtype=float32)},\n",
       " {'class_ids': array([0], dtype=int64),\n",
       "  'classes': array([b'0'], dtype=object),\n",
       "  'logistic': array([ 0.18610975], dtype=float32),\n",
       "  'logits': array([-1.47548902], dtype=float32),\n",
       "  'probabilities': array([ 0.81389022,  0.18610974], dtype=float32)},\n",
       " {'class_ids': array([0], dtype=int64),\n",
       "  'classes': array([b'0'], dtype=object),\n",
       "  'logistic': array([ 0.17060038], dtype=float32),\n",
       "  'logits': array([-1.58137822], dtype=float32),\n",
       "  'probabilities': array([ 0.82939959,  0.17060037], dtype=float32)},\n",
       " {'class_ids': array([0], dtype=int64),\n",
       "  'classes': array([b'0'], dtype=object),\n",
       "  'logistic': array([ 0.26749563], dtype=float32),\n",
       "  'logits': array([-1.00736606], dtype=float32),\n",
       "  'probabilities': array([ 0.73250437,  0.26749563], dtype=float32)},\n",
       " {'class_ids': array([0], dtype=int64),\n",
       "  'classes': array([b'0'], dtype=object),\n",
       "  'logistic': array([ 0.43505114], dtype=float32),\n",
       "  'logits': array([-0.26127172], dtype=float32),\n",
       "  'probabilities': array([ 0.56494892,  0.43505114], dtype=float32)},\n",
       " {'class_ids': array([0], dtype=int64),\n",
       "  'classes': array([b'0'], dtype=object),\n",
       "  'logistic': array([ 0.22881079], dtype=float32),\n",
       "  'logits': array([-1.2150383], dtype=float32),\n",
       "  'probabilities': array([ 0.77118915,  0.22881079], dtype=float32)},\n",
       " {'class_ids': array([0], dtype=int64),\n",
       "  'classes': array([b'0'], dtype=object),\n",
       "  'logistic': array([ 0.11572433], dtype=float32),\n",
       "  'logits': array([-2.03355789], dtype=float32),\n",
       "  'probabilities': array([ 0.88427567,  0.11572434], dtype=float32)},\n",
       " {'class_ids': array([1], dtype=int64),\n",
       "  'classes': array([b'1'], dtype=object),\n",
       "  'logistic': array([ 0.8221311], dtype=float32),\n",
       "  'logits': array([ 1.53085291], dtype=float32),\n",
       "  'probabilities': array([ 0.17786893,  0.8221311 ], dtype=float32)},\n",
       " {'class_ids': array([1], dtype=int64),\n",
       "  'classes': array([b'1'], dtype=object),\n",
       "  'logistic': array([ 0.64418226], dtype=float32),\n",
       "  'logits': array([ 0.5935632], dtype=float32),\n",
       "  'probabilities': array([ 0.35581771,  0.64418226], dtype=float32)},\n",
       " {'class_ids': array([0], dtype=int64),\n",
       "  'classes': array([b'0'], dtype=object),\n",
       "  'logistic': array([ 0.47788006], dtype=float32),\n",
       "  'logits': array([-0.08853763], dtype=float32),\n",
       "  'probabilities': array([ 0.52211994,  0.47788003], dtype=float32)},\n",
       " {'class_ids': array([1], dtype=int64),\n",
       "  'classes': array([b'1'], dtype=object),\n",
       "  'logistic': array([ 0.69392604], dtype=float32),\n",
       "  'logits': array([ 0.81853855], dtype=float32),\n",
       "  'probabilities': array([ 0.30607399,  0.69392604], dtype=float32)},\n",
       " {'class_ids': array([0], dtype=int64),\n",
       "  'classes': array([b'0'], dtype=object),\n",
       "  'logistic': array([ 0.12092369], dtype=float32),\n",
       "  'logits': array([-1.98371196], dtype=float32),\n",
       "  'probabilities': array([ 0.87907624,  0.12092369], dtype=float32)},\n",
       " {'class_ids': array([0], dtype=int64),\n",
       "  'classes': array([b'0'], dtype=object),\n",
       "  'logistic': array([ 0.13811801], dtype=float32),\n",
       "  'logits': array([-1.83100986], dtype=float32),\n",
       "  'probabilities': array([ 0.86188203,  0.13811801], dtype=float32)},\n",
       " {'class_ids': array([0], dtype=int64),\n",
       "  'classes': array([b'0'], dtype=object),\n",
       "  'logistic': array([ 0.20301984], dtype=float32),\n",
       "  'logits': array([-1.36752605], dtype=float32),\n",
       "  'probabilities': array([ 0.79698014,  0.20301984], dtype=float32)},\n",
       " {'class_ids': array([0], dtype=int64),\n",
       "  'classes': array([b'0'], dtype=object),\n",
       "  'logistic': array([ 0.3111167], dtype=float32),\n",
       "  'logits': array([-0.79490393], dtype=float32),\n",
       "  'probabilities': array([ 0.6888833 ,  0.31111667], dtype=float32)},\n",
       " {'class_ids': array([0], dtype=int64),\n",
       "  'classes': array([b'0'], dtype=object),\n",
       "  'logistic': array([ 0.35532561], dtype=float32),\n",
       "  'logits': array([-0.59571081], dtype=float32),\n",
       "  'probabilities': array([ 0.64467442,  0.35532561], dtype=float32)},\n",
       " {'class_ids': array([1], dtype=int64),\n",
       "  'classes': array([b'1'], dtype=object),\n",
       "  'logistic': array([ 0.52677792], dtype=float32),\n",
       "  'logits': array([ 0.10721445], dtype=float32),\n",
       "  'probabilities': array([ 0.47322199,  0.52677792], dtype=float32)},\n",
       " {'class_ids': array([1], dtype=int64),\n",
       "  'classes': array([b'1'], dtype=object),\n",
       "  'logistic': array([ 0.55194938], dtype=float32),\n",
       "  'logits': array([ 0.2085501], dtype=float32),\n",
       "  'probabilities': array([ 0.44805062,  0.55194938], dtype=float32)},\n",
       " {'class_ids': array([0], dtype=int64),\n",
       "  'classes': array([b'0'], dtype=object),\n",
       "  'logistic': array([ 0.38571888], dtype=float32),\n",
       "  'logits': array([-0.46534383], dtype=float32),\n",
       "  'probabilities': array([ 0.61428112,  0.38571891], dtype=float32)},\n",
       " {'class_ids': array([0], dtype=int64),\n",
       "  'classes': array([b'0'], dtype=object),\n",
       "  'logistic': array([ 0.34340325], dtype=float32),\n",
       "  'logits': array([-0.64816463], dtype=float32),\n",
       "  'probabilities': array([ 0.65659678,  0.34340328], dtype=float32)},\n",
       " {'class_ids': array([0], dtype=int64),\n",
       "  'classes': array([b'0'], dtype=object),\n",
       "  'logistic': array([ 0.34464324], dtype=float32),\n",
       "  'logits': array([-0.64267004], dtype=float32),\n",
       "  'probabilities': array([ 0.65535676,  0.34464324], dtype=float32)},\n",
       " {'class_ids': array([0], dtype=int64),\n",
       "  'classes': array([b'0'], dtype=object),\n",
       "  'logistic': array([ 0.18151681], dtype=float32),\n",
       "  'logits': array([-1.50610459], dtype=float32),\n",
       "  'probabilities': array([ 0.81848317,  0.18151681], dtype=float32)},\n",
       " {'class_ids': array([1], dtype=int64),\n",
       "  'classes': array([b'1'], dtype=object),\n",
       "  'logistic': array([ 0.60540962], dtype=float32),\n",
       "  'logits': array([ 0.42805707], dtype=float32),\n",
       "  'probabilities': array([ 0.39459038,  0.60540962], dtype=float32)},\n",
       " {'class_ids': array([0], dtype=int64),\n",
       "  'classes': array([b'0'], dtype=object),\n",
       "  'logistic': array([ 0.12561859], dtype=float32),\n",
       "  'logits': array([-1.94026637], dtype=float32),\n",
       "  'probabilities': array([ 0.87438142,  0.12561859], dtype=float32)},\n",
       " {'class_ids': array([0], dtype=int64),\n",
       "  'classes': array([b'0'], dtype=object),\n",
       "  'logistic': array([ 0.24783169], dtype=float32),\n",
       "  'logits': array([-1.1102103], dtype=float32),\n",
       "  'probabilities': array([ 0.7521683 ,  0.24783167], dtype=float32)},\n",
       " {'class_ids': array([1], dtype=int64),\n",
       "  'classes': array([b'1'], dtype=object),\n",
       "  'logistic': array([ 0.52036673], dtype=float32),\n",
       "  'logits': array([ 0.08151186], dtype=float32),\n",
       "  'probabilities': array([ 0.4796333 ,  0.52036667], dtype=float32)},\n",
       " {'class_ids': array([0], dtype=int64),\n",
       "  'classes': array([b'0'], dtype=object),\n",
       "  'logistic': array([ 0.31053555], dtype=float32),\n",
       "  'logits': array([-0.79761672], dtype=float32),\n",
       "  'probabilities': array([ 0.68946445,  0.31053558], dtype=float32)},\n",
       " {'class_ids': array([0], dtype=int64),\n",
       "  'classes': array([b'0'], dtype=object),\n",
       "  'logistic': array([ 0.18564817], dtype=float32),\n",
       "  'logits': array([-1.47853911], dtype=float32),\n",
       "  'probabilities': array([ 0.8143518 ,  0.18564817], dtype=float32)},\n",
       " {'class_ids': array([0], dtype=int64),\n",
       "  'classes': array([b'0'], dtype=object),\n",
       "  'logistic': array([ 0.2486721], dtype=float32),\n",
       "  'logits': array([-1.10570705], dtype=float32),\n",
       "  'probabilities': array([ 0.75132793,  0.2486721 ], dtype=float32)},\n",
       " {'class_ids': array([0], dtype=int64),\n",
       "  'classes': array([b'0'], dtype=object),\n",
       "  'logistic': array([ 0.23887637], dtype=float32),\n",
       "  'logits': array([-1.15884972], dtype=float32),\n",
       "  'probabilities': array([ 0.7611236 ,  0.23887636], dtype=float32)},\n",
       " {'class_ids': array([0], dtype=int64),\n",
       "  'classes': array([b'0'], dtype=object),\n",
       "  'logistic': array([ 0.13044794], dtype=float32),\n",
       "  'logits': array([-1.89700401], dtype=float32),\n",
       "  'probabilities': array([ 0.86955208,  0.13044794], dtype=float32)},\n",
       " {'class_ids': array([0], dtype=int64),\n",
       "  'classes': array([b'0'], dtype=object),\n",
       "  'logistic': array([ 0.19274363], dtype=float32),\n",
       "  'logits': array([-1.43228042], dtype=float32),\n",
       "  'probabilities': array([ 0.8072564 ,  0.19274363], dtype=float32)},\n",
       " {'class_ids': array([1], dtype=int64),\n",
       "  'classes': array([b'1'], dtype=object),\n",
       "  'logistic': array([ 0.52749753], dtype=float32),\n",
       "  'logits': array([ 0.11010122], dtype=float32),\n",
       "  'probabilities': array([ 0.47250247,  0.52749753], dtype=float32)},\n",
       " {'class_ids': array([1], dtype=int64),\n",
       "  'classes': array([b'1'], dtype=object),\n",
       "  'logistic': array([ 0.67793834], dtype=float32),\n",
       "  'logits': array([ 0.74431336], dtype=float32),\n",
       "  'probabilities': array([ 0.32206163,  0.67793834], dtype=float32)},\n",
       " {'class_ids': array([1], dtype=int64),\n",
       "  'classes': array([b'1'], dtype=object),\n",
       "  'logistic': array([ 0.61869311], dtype=float32),\n",
       "  'logits': array([ 0.48400486], dtype=float32),\n",
       "  'probabilities': array([ 0.38130689,  0.61869311], dtype=float32)},\n",
       " {'class_ids': array([1], dtype=int64),\n",
       "  'classes': array([b'1'], dtype=object),\n",
       "  'logistic': array([ 0.67065364], dtype=float32),\n",
       "  'logits': array([ 0.71114278], dtype=float32),\n",
       "  'probabilities': array([ 0.32934639,  0.67065364], dtype=float32)},\n",
       " {'class_ids': array([0], dtype=int64),\n",
       "  'classes': array([b'0'], dtype=object),\n",
       "  'logistic': array([ 0.43255633], dtype=float32),\n",
       "  'logits': array([-0.27142888], dtype=float32),\n",
       "  'probabilities': array([ 0.56744367,  0.43255636], dtype=float32)},\n",
       " {'class_ids': array([0], dtype=int64),\n",
       "  'classes': array([b'0'], dtype=object),\n",
       "  'logistic': array([ 0.29729226], dtype=float32),\n",
       "  'logits': array([-0.86022544], dtype=float32),\n",
       "  'probabilities': array([ 0.70270771,  0.29729223], dtype=float32)},\n",
       " {'class_ids': array([1], dtype=int64),\n",
       "  'classes': array([b'1'], dtype=object),\n",
       "  'logistic': array([ 0.51208061], dtype=float32),\n",
       "  'logits': array([ 0.04833186], dtype=float32),\n",
       "  'probabilities': array([ 0.48791939,  0.51208061], dtype=float32)},\n",
       " {'class_ids': array([0], dtype=int64),\n",
       "  'classes': array([b'0'], dtype=object),\n",
       "  'logistic': array([ 0.17956993], dtype=float32),\n",
       "  'logits': array([-1.51926398], dtype=float32),\n",
       "  'probabilities': array([ 0.8204301 ,  0.17956993], dtype=float32)},\n",
       " {'class_ids': array([0], dtype=int64),\n",
       "  'classes': array([b'0'], dtype=object),\n",
       "  'logistic': array([ 0.14732443], dtype=float32),\n",
       "  'logits': array([-1.75574207], dtype=float32),\n",
       "  'probabilities': array([ 0.85267562,  0.14732443], dtype=float32)},\n",
       " {'class_ids': array([0], dtype=int64),\n",
       "  'classes': array([b'0'], dtype=object),\n",
       "  'logistic': array([ 0.17629023], dtype=float32),\n",
       "  'logits': array([-1.54168653], dtype=float32),\n",
       "  'probabilities': array([ 0.82370973,  0.17629023], dtype=float32)},\n",
       " {'class_ids': array([0], dtype=int64),\n",
       "  'classes': array([b'0'], dtype=object),\n",
       "  'logistic': array([ 0.49626157], dtype=float32),\n",
       "  'logits': array([-0.01495397], dtype=float32),\n",
       "  'probabilities': array([ 0.5037384 ,  0.49626157], dtype=float32)},\n",
       " {'class_ids': array([0], dtype=int64),\n",
       "  'classes': array([b'0'], dtype=object),\n",
       "  'logistic': array([ 0.05813227], dtype=float32),\n",
       "  'logits': array([-2.78514385], dtype=float32),\n",
       "  'probabilities': array([ 0.94186771,  0.05813227], dtype=float32)},\n",
       " {'class_ids': array([0], dtype=int64),\n",
       "  'classes': array([b'0'], dtype=object),\n",
       "  'logistic': array([ 0.26094511], dtype=float32),\n",
       "  'logits': array([-1.04106212], dtype=float32),\n",
       "  'probabilities': array([ 0.73905492,  0.26094511], dtype=float32)},\n",
       " {'class_ids': array([0], dtype=int64),\n",
       "  'classes': array([b'0'], dtype=object),\n",
       "  'logistic': array([ 0.16513194], dtype=float32),\n",
       "  'logits': array([-1.62052894], dtype=float32),\n",
       "  'probabilities': array([ 0.83486801,  0.16513193], dtype=float32)},\n",
       " {'class_ids': array([0], dtype=int64),\n",
       "  'classes': array([b'0'], dtype=object),\n",
       "  'logistic': array([ 0.26916373], dtype=float32),\n",
       "  'logits': array([-0.99886954], dtype=float32),\n",
       "  'probabilities': array([ 0.73083627,  0.26916376], dtype=float32)},\n",
       " {'class_ids': array([0], dtype=int64),\n",
       "  'classes': array([b'0'], dtype=object),\n",
       "  'logistic': array([ 0.23588106], dtype=float32),\n",
       "  'logits': array([-1.17539585], dtype=float32),\n",
       "  'probabilities': array([ 0.76411897,  0.23588105], dtype=float32)},\n",
       " {'class_ids': array([0], dtype=int64),\n",
       "  'classes': array([b'0'], dtype=object),\n",
       "  'logistic': array([ 0.26358718], dtype=float32),\n",
       "  'logits': array([-1.02740669], dtype=float32),\n",
       "  'probabilities': array([ 0.73641282,  0.26358718], dtype=float32)},\n",
       " {'class_ids': array([1], dtype=int64),\n",
       "  'classes': array([b'1'], dtype=object),\n",
       "  'logistic': array([ 0.75786722], dtype=float32),\n",
       "  'logits': array([ 1.14102209], dtype=float32),\n",
       "  'probabilities': array([ 0.24213275,  0.75786722], dtype=float32)},\n",
       " {'class_ids': array([0], dtype=int64),\n",
       "  'classes': array([b'0'], dtype=object),\n",
       "  'logistic': array([ 0.16099405], dtype=float32),\n",
       "  'logits': array([-1.65085042], dtype=float32),\n",
       "  'probabilities': array([ 0.83900595,  0.16099405], dtype=float32)},\n",
       " {'class_ids': array([0], dtype=int64),\n",
       "  'classes': array([b'0'], dtype=object),\n",
       "  'logistic': array([ 0.11296029], dtype=float32),\n",
       "  'logits': array([-2.06085348], dtype=float32),\n",
       "  'probabilities': array([ 0.88703972,  0.11296028], dtype=float32)},\n",
       " {'class_ids': array([1], dtype=int64),\n",
       "  'classes': array([b'1'], dtype=object),\n",
       "  'logistic': array([ 0.54536027], dtype=float32),\n",
       "  'logits': array([ 0.18194127], dtype=float32),\n",
       "  'probabilities': array([ 0.45463973,  0.54536027], dtype=float32)},\n",
       " {'class_ids': array([0], dtype=int64),\n",
       "  'classes': array([b'0'], dtype=object),\n",
       "  'logistic': array([ 0.47860181], dtype=float32),\n",
       "  'logits': array([-0.08564508], dtype=float32),\n",
       "  'probabilities': array([ 0.52139819,  0.47860181], dtype=float32)},\n",
       " {'class_ids': array([1], dtype=int64),\n",
       "  'classes': array([b'1'], dtype=object),\n",
       "  'logistic': array([ 0.83760291], dtype=float32),\n",
       "  'logits': array([ 1.64049971], dtype=float32),\n",
       "  'probabilities': array([ 0.16239709,  0.83760291], dtype=float32)},\n",
       " {'class_ids': array([1], dtype=int64),\n",
       "  'classes': array([b'1'], dtype=object),\n",
       "  'logistic': array([ 0.64919782], dtype=float32),\n",
       "  'logits': array([ 0.61551511], dtype=float32),\n",
       "  'probabilities': array([ 0.35080215,  0.64919782], dtype=float32)},\n",
       " {'class_ids': array([0], dtype=int64),\n",
       "  'classes': array([b'0'], dtype=object),\n",
       "  'logistic': array([ 0.11478987], dtype=float32),\n",
       "  'logits': array([-2.04272175], dtype=float32),\n",
       "  'probabilities': array([ 0.88521016,  0.11478988], dtype=float32)},\n",
       " {'class_ids': array([1], dtype=int64),\n",
       "  'classes': array([b'1'], dtype=object),\n",
       "  'logistic': array([ 0.60857075], dtype=float32),\n",
       "  'logits': array([ 0.44130838], dtype=float32),\n",
       "  'probabilities': array([ 0.39142925,  0.60857075], dtype=float32)}]"
      ]
     },
     "execution_count": 357,
     "metadata": {},
     "output_type": "execute_result"
    }
   ],
   "source": [
    "my_pred"
   ]
  },
  {
   "cell_type": "markdown",
   "metadata": {},
   "source": [
    "#### Dense Neural Network Classifier"
   ]
  },
  {
   "cell_type": "code",
   "execution_count": 358,
   "metadata": {},
   "outputs": [
    {
     "name": "stdout",
     "output_type": "stream",
     "text": [
      "INFO:tensorflow:Using default config.\n",
      "WARNING:tensorflow:Using temporary folder as model directory: C:\\Users\\FRKSTE~1\\AppData\\Local\\Temp\\tmpex2cjkbk\n",
      "INFO:tensorflow:Using config: {'_model_dir': 'C:\\\\Users\\\\FRKSTE~1\\\\AppData\\\\Local\\\\Temp\\\\tmpex2cjkbk', '_log_step_count_steps': 100, '_tf_random_seed': 1, '_keep_checkpoint_every_n_hours': 10000, '_save_checkpoints_steps': None, '_keep_checkpoint_max': 5, '_save_summary_steps': 100, '_session_config': None, '_save_checkpoints_secs': 600}\n"
     ]
    }
   ],
   "source": [
    "dnn_model = tf.estimator.DNNClassifier(hidden_units=[10,10,10],feature_columns=feat_cols,n_classes=2)"
   ]
  },
  {
   "cell_type": "code",
   "execution_count": null,
   "metadata": {
    "collapsed": true
   },
   "outputs": [],
   "source": [
    "# Same procedure does not work on a densely connected neural network\n",
    "# need to pass into an embedding column - because we defined our own column \n",
    "#dnn_model.train(input_fn=input_func,steps=1000)"
   ]
  },
  {
   "cell_type": "code",
   "execution_count": null,
   "metadata": {
    "collapsed": true
   },
   "outputs": [],
   "source": []
  },
  {
   "cell_type": "code",
   "execution_count": 359,
   "metadata": {
    "collapsed": true
   },
   "outputs": [],
   "source": [
    "embedded_group_col = tf.feature_column.embedding_column(assigned_group,dimension=4)"
   ]
  },
  {
   "cell_type": "code",
   "execution_count": 360,
   "metadata": {
    "collapsed": true
   },
   "outputs": [],
   "source": [
    "feat_cols = [num_preg, plasma_gluc, dias_press, tricep, insulin, bmi, diabetes_pedigree, embedded_group_col, age_bucket]"
   ]
  },
  {
   "cell_type": "code",
   "execution_count": 361,
   "metadata": {
    "collapsed": true
   },
   "outputs": [],
   "source": [
    "input_func = tf.estimator.inputs.pandas_input_fn(X_train, y_train, batch_size=10, num_epochs=1000, shuffle=True)"
   ]
  },
  {
   "cell_type": "code",
   "execution_count": 366,
   "metadata": {},
   "outputs": [
    {
     "name": "stdout",
     "output_type": "stream",
     "text": [
      "INFO:tensorflow:Using default config.\n",
      "WARNING:tensorflow:Using temporary folder as model directory: C:\\Users\\FRKSTE~1\\AppData\\Local\\Temp\\tmp0ip5ziku\n",
      "INFO:tensorflow:Using config: {'_model_dir': 'C:\\\\Users\\\\FRKSTE~1\\\\AppData\\\\Local\\\\Temp\\\\tmp0ip5ziku', '_log_step_count_steps': 100, '_tf_random_seed': 1, '_keep_checkpoint_every_n_hours': 10000, '_save_checkpoints_steps': None, '_keep_checkpoint_max': 5, '_save_summary_steps': 100, '_session_config': None, '_save_checkpoints_secs': 600}\n"
     ]
    }
   ],
   "source": [
    "dnn_model = tf.estimator.DNNClassifier(hidden_units=[10,20,20,20,10,10],feature_columns=feat_cols,n_classes=2)"
   ]
  },
  {
   "cell_type": "code",
   "execution_count": 367,
   "metadata": {},
   "outputs": [
    {
     "name": "stdout",
     "output_type": "stream",
     "text": [
      "INFO:tensorflow:Create CheckpointSaverHook.\n",
      "INFO:tensorflow:Saving checkpoints for 1 into C:\\Users\\FRKSTE~1\\AppData\\Local\\Temp\\tmp0ip5ziku\\model.ckpt.\n",
      "INFO:tensorflow:loss = 6.92599, step = 1\n",
      "INFO:tensorflow:global_step/sec: 304.53\n",
      "INFO:tensorflow:loss = 7.07332, step = 101 (0.335 sec)\n",
      "INFO:tensorflow:global_step/sec: 335.227\n",
      "INFO:tensorflow:loss = 4.29703, step = 201 (0.295 sec)\n",
      "INFO:tensorflow:global_step/sec: 310.698\n",
      "INFO:tensorflow:loss = 6.30025, step = 301 (0.328 sec)\n",
      "INFO:tensorflow:global_step/sec: 315.614\n",
      "INFO:tensorflow:loss = 5.6251, step = 401 (0.312 sec)\n",
      "INFO:tensorflow:global_step/sec: 326.46\n",
      "INFO:tensorflow:loss = 6.48403, step = 501 (0.306 sec)\n",
      "INFO:tensorflow:global_step/sec: 307.822\n",
      "INFO:tensorflow:loss = 3.12659, step = 601 (0.322 sec)\n",
      "INFO:tensorflow:global_step/sec: 339.809\n",
      "INFO:tensorflow:loss = 3.25753, step = 701 (0.300 sec)\n",
      "INFO:tensorflow:global_step/sec: 303.597\n",
      "INFO:tensorflow:loss = 2.78098, step = 801 (0.326 sec)\n",
      "INFO:tensorflow:global_step/sec: 316.114\n",
      "INFO:tensorflow:loss = 2.01198, step = 901 (0.317 sec)\n",
      "INFO:tensorflow:Saving checkpoints for 1000 into C:\\Users\\FRKSTE~1\\AppData\\Local\\Temp\\tmp0ip5ziku\\model.ckpt.\n",
      "INFO:tensorflow:Loss for final step: 3.37365.\n"
     ]
    },
    {
     "data": {
      "text/plain": [
       "<tensorflow.python.estimator.canned.dnn.DNNClassifier at 0x27beb531e10>"
      ]
     },
     "execution_count": 367,
     "metadata": {},
     "output_type": "execute_result"
    }
   ],
   "source": [
    "dnn_model.train(input_fn=input_func,steps=1000)"
   ]
  },
  {
   "cell_type": "code",
   "execution_count": 368,
   "metadata": {
    "collapsed": true
   },
   "outputs": [],
   "source": [
    "eval_input_finc = tf.estimator.inputs.pandas_input_fn(x=X_test,y=y_test,batch_size=10,num_epochs=1,shuffle=False)"
   ]
  },
  {
   "cell_type": "code",
   "execution_count": 369,
   "metadata": {},
   "outputs": [
    {
     "name": "stdout",
     "output_type": "stream",
     "text": [
      "WARNING:tensorflow:Casting <dtype: 'float32'> labels to bool.\n",
      "WARNING:tensorflow:Casting <dtype: 'float32'> labels to bool.\n",
      "INFO:tensorflow:Starting evaluation at 2018-05-17-08:57:17\n",
      "INFO:tensorflow:Restoring parameters from C:\\Users\\FRKSTE~1\\AppData\\Local\\Temp\\tmp0ip5ziku\\model.ckpt-1000\n",
      "INFO:tensorflow:Finished evaluation at 2018-05-17-08:57:18\n",
      "INFO:tensorflow:Saving dict for global step 1000: accuracy = 0.753247, accuracy_baseline = 0.649351, auc = 0.817202, auc_precision_recall = 0.681048, average_loss = 0.524404, global_step = 1000, label/mean = 0.350649, loss = 5.04739, prediction/mean = 0.335704\n"
     ]
    },
    {
     "data": {
      "text/plain": [
       "{'accuracy': 0.75324672,\n",
       " 'accuracy_baseline': 0.64935064,\n",
       " 'auc': 0.81720167,\n",
       " 'auc_precision_recall': 0.6810478,\n",
       " 'average_loss': 0.52440447,\n",
       " 'global_step': 1000,\n",
       " 'label/mean': 0.35064936,\n",
       " 'loss': 5.0473933,\n",
       " 'prediction/mean': 0.33570373}"
      ]
     },
     "execution_count": 369,
     "metadata": {},
     "output_type": "execute_result"
    }
   ],
   "source": [
    "dnn_model.evaluate(eval_input_finc)"
   ]
  },
  {
   "cell_type": "code",
   "execution_count": null,
   "metadata": {
    "collapsed": true
   },
   "outputs": [],
   "source": []
  },
  {
   "cell_type": "markdown",
   "metadata": {},
   "source": [
    "## Saving and restoring models"
   ]
  },
  {
   "cell_type": "code",
   "execution_count": null,
   "metadata": {
    "collapsed": true
   },
   "outputs": [],
   "source": [
    "saver = tf.trains.Saver()"
   ]
  },
  {
   "cell_type": "code",
   "execution_count": null,
   "metadata": {
    "collapsed": true
   },
   "outputs": [],
   "source": [
    "with tf.Session() as sess:\n",
    "    sess.run(init)\n",
    "    \n",
    "    epochs = 100\n",
    "    \n",
    "    for i in range(epochs):\n",
    "        \n",
    "        sess.run(train)\n",
    "    # fetch back result\n",
    "    \n",
    "    final_slope, final_intercept = sess.run([m,b])\n",
    "    \n",
    "    # ckpt - checkpoint file\n",
    "    saver.save(sess,'models/ modelname.ckpt')"
   ]
  },
  {
   "cell_type": "markdown",
   "metadata": {},
   "source": [
    "### Loading a model"
   ]
  },
  {
   "cell_type": "code",
   "execution_count": null,
   "metadata": {
    "collapsed": true
   },
   "outputs": [],
   "source": [
    "with tf.Session as sess:\n",
    "    \n",
    "    saver.restore(sess, 'models/modelname.ckpt')\n",
    "    \n",
    "    # Fetch result m, b variables also available again\n",
    "    restored_slope, restored_intercept = sess.run([m,b])"
   ]
  },
  {
   "cell_type": "markdown",
   "metadata": {},
   "source": [
    "----\n",
    "\n",
    "# Basic approach to MNIST"
   ]
  },
  {
   "cell_type": "code",
   "execution_count": null,
   "metadata": {
    "collapsed": true
   },
   "outputs": [],
   "source": [
    "import tensorflow as tf"
   ]
  },
  {
   "cell_type": "code",
   "execution_count": 370,
   "metadata": {
    "collapsed": true
   },
   "outputs": [],
   "source": [
    "from tensorflow.examples.tutorials.mnist import input_data"
   ]
  },
  {
   "cell_type": "code",
   "execution_count": 371,
   "metadata": {},
   "outputs": [
    {
     "name": "stdout",
     "output_type": "stream",
     "text": [
      "Successfully downloaded train-images-idx3-ubyte.gz 9912422 bytes.\n",
      "Extracting MNIST_data/train-images-idx3-ubyte.gz\n",
      "Successfully downloaded train-labels-idx1-ubyte.gz 28881 bytes.\n",
      "Extracting MNIST_data/train-labels-idx1-ubyte.gz\n",
      "Successfully downloaded t10k-images-idx3-ubyte.gz 1648877 bytes.\n",
      "Extracting MNIST_data/t10k-images-idx3-ubyte.gz\n",
      "Successfully downloaded t10k-labels-idx1-ubyte.gz 4542 bytes.\n",
      "Extracting MNIST_data/t10k-labels-idx1-ubyte.gz\n"
     ]
    }
   ],
   "source": [
    "mnist = input_data.read_data_sets(\"MNIST_data/\",one_hot=True)"
   ]
  },
  {
   "cell_type": "code",
   "execution_count": 372,
   "metadata": {},
   "outputs": [
    {
     "data": {
      "text/plain": [
       "array([[ 0.,  0.,  0., ...,  0.,  0.,  0.],\n",
       "       [ 0.,  0.,  0., ...,  0.,  0.,  0.],\n",
       "       [ 0.,  0.,  0., ...,  0.,  0.,  0.],\n",
       "       ..., \n",
       "       [ 0.,  0.,  0., ...,  0.,  0.,  0.],\n",
       "       [ 0.,  0.,  0., ...,  0.,  0.,  0.],\n",
       "       [ 0.,  0.,  0., ...,  0.,  0.,  0.]], dtype=float32)"
      ]
     },
     "execution_count": 372,
     "metadata": {},
     "output_type": "execute_result"
    }
   ],
   "source": [
    "mnist.train.images"
   ]
  },
  {
   "cell_type": "code",
   "execution_count": 373,
   "metadata": {},
   "outputs": [
    {
     "data": {
      "text/plain": [
       "55000"
      ]
     },
     "execution_count": 373,
     "metadata": {},
     "output_type": "execute_result"
    }
   ],
   "source": [
    "mnist.train.num_examples"
   ]
  },
  {
   "cell_type": "code",
   "execution_count": 374,
   "metadata": {
    "collapsed": true
   },
   "outputs": [],
   "source": [
    "import matplotlib.pyplot as plt\n",
    "%matplotlib inline"
   ]
  },
  {
   "cell_type": "code",
   "execution_count": 378,
   "metadata": {},
   "outputs": [],
   "source": [
    "single_image = mnist.train.images[1].reshape(28,28)"
   ]
  },
  {
   "cell_type": "code",
   "execution_count": 383,
   "metadata": {},
   "outputs": [
    {
     "data": {
      "text/plain": [
       "<matplotlib.image.AxesImage at 0x27bed27ce48>"
      ]
     },
     "execution_count": 383,
     "metadata": {},
     "output_type": "execute_result"
    },
    {
     "data": {
      "image/png": "[encoded data removed]",
      "text/plain": [
       "<matplotlib.figure.Figure at 0x27bed1be908>"
      ]
     },
     "metadata": {},
     "output_type": "display_data"
    }
   ],
   "source": [
    "plt.imshow(single_image,cmap='gist_gray')"
   ]
  },
  {
   "cell_type": "code",
   "execution_count": 384,
   "metadata": {},
   "outputs": [
    {
     "data": {
      "text/plain": [
       "0.0"
      ]
     },
     "execution_count": 384,
     "metadata": {},
     "output_type": "execute_result"
    }
   ],
   "source": [
    "single_image.min()"
   ]
  },
  {
   "cell_type": "code",
   "execution_count": 388,
   "metadata": {
    "collapsed": true
   },
   "outputs": [],
   "source": [
    "# placeholders\n",
    "x = tf.placeholder(tf.float32,shape=[None,784])"
   ]
  },
  {
   "cell_type": "code",
   "execution_count": 389,
   "metadata": {},
   "outputs": [],
   "source": [
    "# variables\n",
    "W = tf.Variable(tf.zeros([784,10]))\n",
    "b = tf.Variable(tf.zeros([10]))"
   ]
  },
  {
   "cell_type": "code",
   "execution_count": 390,
   "metadata": {},
   "outputs": [],
   "source": [
    "# graph operations\n",
    "z = tf.matmul(x,W) + b"
   ]
  },
  {
   "cell_type": "code",
   "execution_count": 393,
   "metadata": {
    "collapsed": true
   },
   "outputs": [],
   "source": [
    "# loss function\n",
    "y_true = tf.placeholder(tf.float32,[None,10])"
   ]
  },
  {
   "cell_type": "code",
   "execution_count": 395,
   "metadata": {},
   "outputs": [],
   "source": [
    "cross_entropy = tf.reduce_mean(tf.nn.softmax_cross_entropy_with_logits(labels=y_true,logits=z))"
   ]
  },
  {
   "cell_type": "code",
   "execution_count": 396,
   "metadata": {
    "collapsed": true
   },
   "outputs": [],
   "source": [
    "# optimizer\n",
    "optimizer = tf.train.GradientDescentOptimizer(learning_rate=0.5)\n",
    "train = optimizer.minimize(cross_entropy)"
   ]
  },
  {
   "cell_type": "code",
   "execution_count": 397,
   "metadata": {
    "collapsed": true
   },
   "outputs": [],
   "source": [
    "# create session\n",
    "init = tf.global_variables_initializer()"
   ]
  },
  {
   "cell_type": "code",
   "execution_count": null,
   "metadata": {
    "collapsed": true
   },
   "outputs": [],
   "source": [
    "with tf.Session as sess:\n",
    "    sess.run(init)\n",
    "    \n",
    "    for  step in range(1000):\n",
    "        \n",
    "        # data and label\n",
    "        # not always conveinient when you don't have the next batch possibility\n",
    "        batch_x, batch_y, mnist.train.next_batch(batch_size=100)\n",
    "        \n",
    "        sess.run(train, feed_dict={x:batch_x,y_true:batch_y})"
   ]
  }
 ],
 "metadata": {
  "kernelspec": {
   "display_name": "Python 3",
   "language": "python",
   "name": "python3"
  },
  "language_info": {
   "codemirror_mode": {
    "name": "ipython",
    "version": 3
   },
   "file_extension": ".py",
   "mimetype": "text/x-python",
   "name": "python",
   "nbconvert_exporter": "python",
   "pygments_lexer": "ipython3",
   "version": "3.5.4"
  }
 },
 "nbformat": 4,
 "nbformat_minor": 2
}
