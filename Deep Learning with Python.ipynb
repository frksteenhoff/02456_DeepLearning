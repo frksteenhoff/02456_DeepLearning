{
 "cells": [
  {
   "cell_type": "markdown",
   "metadata": {},
   "source": [
    "# Deep Learning with Python\n",
    "Examples from the book by Francois Chollet and other additions by me, Henriette Steenhoff warming up for deep learning course Spring 2018."
   ]
  },
  {
   "cell_type": "code",
   "execution_count": 1,
   "metadata": {
    "collapsed": false
   },
   "outputs": [
    {
     "name": "stderr",
     "output_type": "stream",
     "text": [
      "Using TensorFlow backend.\n"
     ]
    }
   ],
   "source": [
    "import keras\n",
    "from keras.datasets import mnist\n",
    "import tensorflow\n",
    "import numpy as np"
   ]
  },
  {
   "cell_type": "code",
   "execution_count": 2,
   "metadata": {
    "collapsed": true
   },
   "outputs": [],
   "source": [
    "import matplotlib.pyplot as plt\n",
    "%matplotlib inline"
   ]
  },
  {
   "cell_type": "code",
   "execution_count": 3,
   "metadata": {
    "collapsed": false
   },
   "outputs": [
    {
     "name": "stdout",
     "output_type": "stream",
     "text": [
      "Downloading data from https://s3.amazonaws.com/img-datasets/mnist.npz\n",
      "11493376/11490434 [==============================] - 32s 3us/step\n"
     ]
    }
   ],
   "source": [
    "(train_img, train_labels), (test_img, test_labels) = mnist.load_data()"
   ]
  },
  {
   "cell_type": "code",
   "execution_count": 7,
   "metadata": {
    "collapsed": false
   },
   "outputs": [
    {
     "data": {
      "image/png": "[encoded data removed]",
      "text/plain": [
       "<matplotlib.figure.Figure at 0x1331a17e710>"
      ]
     },
     "metadata": {},
     "output_type": "display_data"
    }
   ],
   "source": [
    "plt.imshow(train_img[4], cmap=plt.cm.binary)\n",
    "plt.show()"
   ]
  },
  {
   "cell_type": "markdown",
   "metadata": {
    "collapsed": true
   },
   "source": [
    "## Tensor operations\n",
    "\n",
    "Working with and understanding different operations that can performed on tensors. "
   ]
  },
  {
   "cell_type": "code",
   "execution_count": 4,
   "metadata": {
    "collapsed": false
   },
   "outputs": [],
   "source": [
    "x = np.random.random((64,2,32,10))\n",
    "y = np.random.random((32,10))"
   ]
  },
  {
   "cell_type": "code",
   "execution_count": 5,
   "metadata": {
    "collapsed": true
   },
   "outputs": [],
   "source": [
    "z = np.maximum(x,y)"
   ]
  },
  {
   "cell_type": "code",
   "execution_count": 9,
   "metadata": {
    "collapsed": false
   },
   "outputs": [
    {
     "data": {
      "text/plain": [
       "(64, 2, 32, 10)"
      ]
     },
     "execution_count": 9,
     "metadata": {},
     "output_type": "execute_result"
    }
   ],
   "source": [
    "z.shape"
   ]
  },
  {
   "cell_type": "code",
   "execution_count": 12,
   "metadata": {
    "collapsed": true
   },
   "outputs": [],
   "source": [
    "w = np.random.random((2,3,6,3))\n",
    "q = np.random.random((6,3))\n",
    "p = np.maximum(w,q)"
   ]
  },
  {
   "cell_type": "code",
   "execution_count": 13,
   "metadata": {
    "collapsed": false
   },
   "outputs": [
    {
     "data": {
      "text/plain": [
       "array([[[[ 0.38766952,  0.52205148,  0.87129237],\n",
       "         [ 0.62491933,  0.54175043,  0.70283259],\n",
       "         [ 0.3400211 ,  0.35087663,  0.69970184],\n",
       "         [ 0.40296712,  0.9269771 ,  0.99064832],\n",
       "         [ 0.19363697,  0.79008188,  0.56385106],\n",
       "         [ 0.90996104,  0.8853576 ,  0.09260598]],\n",
       "\n",
       "        [[ 0.34353356,  0.61810918,  0.45592862],\n",
       "         [ 0.39754796,  0.54175043,  0.35432388],\n",
       "         [ 0.3400211 ,  0.95470935,  0.9488514 ],\n",
       "         [ 0.40296712,  0.9269771 ,  0.99064832],\n",
       "         [ 0.71362617,  0.79008188,  0.57034584],\n",
       "         [ 0.90996104,  0.6426175 ,  0.09260598]],\n",
       "\n",
       "        [[ 0.26439782,  0.69302058,  0.94301926],\n",
       "         [ 0.57815099,  0.54175043,  0.65515546],\n",
       "         [ 0.3400211 ,  0.42620241,  0.88065121],\n",
       "         [ 0.60709346,  0.9269771 ,  0.99064832],\n",
       "         [ 0.15380957,  0.79008188,  0.56385106],\n",
       "         [ 0.90996104,  0.6426175 ,  0.52022035]]],\n",
       "\n",
       "\n",
       "       [[[ 0.47661382,  0.52205148,  0.38888114],\n",
       "         [ 0.79334995,  0.54175043,  0.46769628],\n",
       "         [ 0.43403984,  0.73403772,  0.69970184],\n",
       "         [ 0.60740766,  0.9269771 ,  0.99064832],\n",
       "         [ 0.97008383,  0.867386  ,  0.56385106],\n",
       "         [ 0.90996104,  0.6426175 ,  0.30274772]],\n",
       "\n",
       "        [[ 0.4966948 ,  0.52205148,  0.08447425],\n",
       "         [ 0.88254103,  0.54175043,  0.28362511],\n",
       "         [ 0.83502853,  0.79727925,  0.69970184],\n",
       "         [ 0.40296712,  0.9269771 ,  0.99064832],\n",
       "         [ 0.9229123 ,  0.79008188,  0.56385106],\n",
       "         [ 0.90996104,  0.78506055,  0.94492331]],\n",
       "\n",
       "        [[ 0.96388857,  0.88689676,  0.99501567],\n",
       "         [ 0.39754796,  0.59879113,  0.43356628],\n",
       "         [ 0.84199238,  0.97336922,  0.88067517],\n",
       "         [ 0.99866416,  0.9269771 ,  0.99064832],\n",
       "         [ 0.60849653,  0.79008188,  0.90244835],\n",
       "         [ 0.90996104,  0.92957839,  0.82483401]]]])"
      ]
     },
     "execution_count": 13,
     "metadata": {},
     "output_type": "execute_result"
    }
   ],
   "source": [
    "# 2 initial batches\n",
    "# with 3 columns and six row, repeated 3 times\n",
    "p"
   ]
  },
  {
   "cell_type": "code",
   "execution_count": 14,
   "metadata": {
    "collapsed": true
   },
   "outputs": [],
   "source": [
    "def naive_matrix_vector_dot(x, y):\n",
    "    assert len(x.shape) == 2\n",
    "    assert len(y.shape) == 1\n",
    "    assert x.shape[1] == y.shape[0]\n",
    "    \n",
    "    z = np.zeros(x.shape[0]) # shape gives you the dimensions of your vector/matrix\n",
    "    for i in range(x.shape[0]):\n",
    "        for j in range(x.shape[1]):\n",
    "            z[i] += x[i, j] * y[j]\n",
    "    return z"
   ]
  },
  {
   "cell_type": "code",
   "execution_count": 24,
   "metadata": {
    "collapsed": false
   },
   "outputs": [
    {
     "data": {
      "text/plain": [
       "array([ 18.,  25.])"
      ]
     },
     "execution_count": 24,
     "metadata": {},
     "output_type": "execute_result"
    }
   ],
   "source": [
    "# Dot product\n",
    "\n",
    "# Matrix and vector\n",
    "mat = np.matrix([[2,3],[3,4]])\n",
    "vec = np.array([3,4])\n",
    "\n",
    "# Performing the calculation \n",
    "naive_matrix_vector_dot(mat, vec)\n",
    "\n",
    "# Which is the equivalent of [(2 * 3 + 3 * 4), (3 * 3 + 4 * 4)] \n",
    "#                            [       18      ,       25       ]"
   ]
  },
  {
   "cell_type": "code",
   "execution_count": 25,
   "metadata": {
    "collapsed": false
   },
   "outputs": [
    {
     "data": {
      "text/plain": [
       "(2, 2)"
      ]
     },
     "execution_count": 25,
     "metadata": {},
     "output_type": "execute_result"
    }
   ],
   "source": [
    "# Rows, columns\n",
    "mat.shape"
   ]
  },
  {
   "cell_type": "code",
   "execution_count": 26,
   "metadata": {
    "collapsed": false
   },
   "outputs": [
    {
     "data": {
      "text/plain": [
       "(2,)"
      ]
     },
     "execution_count": 26,
     "metadata": {},
     "output_type": "execute_result"
    }
   ],
   "source": [
    "vec.shape"
   ]
  },
  {
   "cell_type": "code",
   "execution_count": null,
   "metadata": {
    "collapsed": true
   },
   "outputs": [],
   "source": []
  },
  {
   "cell_type": "markdown",
   "metadata": {},
   "source": [
    "**Important** \n",
    "\n",
    "You can only perform the dot product of two matrices if `mat1.shape[0] == mat2.shape[1]` gives the shape of `(mat2.shape[0], mat1.shape[1])`"
   ]
  },
  {
   "cell_type": "markdown",
   "metadata": {},
   "source": [
    "**Reshaping**\n",
    "\n",
    "So here, reshaping basically appends each row to the first column chronologically -- in any order you may see fit!"
   ]
  },
  {
   "cell_type": "code",
   "execution_count": 33,
   "metadata": {
    "collapsed": false
   },
   "outputs": [
    {
     "data": {
      "text/plain": [
       "matrix([[0, 1],\n",
       "        [2, 3],\n",
       "        [4, 5]])"
      ]
     },
     "execution_count": 33,
     "metadata": {},
     "output_type": "execute_result"
    }
   ],
   "source": [
    "basic = np.matrix([[0,1],[2,3],[4,5]])\n",
    "basic"
   ]
  },
  {
   "cell_type": "code",
   "execution_count": 34,
   "metadata": {
    "collapsed": false
   },
   "outputs": [
    {
     "data": {
      "text/plain": [
       "matrix([[0, 1, 2, 3, 4, 5]])"
      ]
     },
     "execution_count": 34,
     "metadata": {},
     "output_type": "execute_result"
    }
   ],
   "source": [
    "basic.reshape(1,6)"
   ]
  },
  {
   "cell_type": "code",
   "execution_count": 35,
   "metadata": {
    "collapsed": false
   },
   "outputs": [
    {
     "data": {
      "text/plain": [
       "matrix([[0, 1, 2],\n",
       "        [3, 4, 5]])"
      ]
     },
     "execution_count": 35,
     "metadata": {},
     "output_type": "execute_result"
    }
   ],
   "source": [
    "basic.reshape(2,3)"
   ]
  },
  {
   "cell_type": "markdown",
   "metadata": {},
   "source": [
    "Aaaand the well-known transposition (switching rows/columns)"
   ]
  },
  {
   "cell_type": "code",
   "execution_count": 36,
   "metadata": {
    "collapsed": false
   },
   "outputs": [
    {
     "data": {
      "text/plain": [
       "matrix([[0, 2, 4],\n",
       "        [1, 3, 5]])"
      ]
     },
     "execution_count": 36,
     "metadata": {},
     "output_type": "execute_result"
    }
   ],
   "source": [
    "np.transpose(basic)"
   ]
  },
  {
   "cell_type": "code",
   "execution_count": null,
   "metadata": {
    "collapsed": true
   },
   "outputs": [],
   "source": []
  }
 ],
 "metadata": {
  "anaconda-cloud": {},
  "kernelspec": {
   "display_name": "Python [py36]",
   "language": "python",
   "name": "Python [py36]"
  },
  "language_info": {
   "codemirror_mode": {
    "name": "ipython",
    "version": 3
   },
   "file_extension": ".py",
   "mimetype": "text/x-python",
   "name": "python",
   "nbconvert_exporter": "python",
   "pygments_lexer": "ipython3",
   "version": "3.6.1"
  }
 },
 "nbformat": 4,
 "nbformat_minor": 2
}
